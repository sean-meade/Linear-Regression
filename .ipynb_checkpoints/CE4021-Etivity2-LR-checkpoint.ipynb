{
 "cells": [
  {
   "cell_type": "markdown",
   "metadata": {},
   "source": [
    "## Notebook E-tivity 2 CE4021 Linear Regression"
   ]
  },
  {
   "cell_type": "markdown",
   "metadata": {},
   "source": [
    "Student name: Godfrey Jeremiah"
   ]
  },
  {
   "cell_type": "markdown",
   "metadata": {},
   "source": [
    "Student ID: 23310758"
   ]
  },
  {
   "cell_type": "markdown",
   "metadata": {},
   "source": [
    "<hr style=\"border:2px solid gray\"> </hr>"
   ]
  },
  {
   "cell_type": "markdown",
   "metadata": {},
   "source": [
    "## Imports"
   ]
  },
  {
   "cell_type": "code",
   "execution_count": 206,
   "metadata": {},
   "outputs": [],
   "source": [
    "import numpy as np\n",
    "import matplotlib.pyplot as plt"
   ]
  },
  {
   "cell_type": "markdown",
   "metadata": {},
   "source": [
    "If you believe required imports are missing, please contact your moderator."
   ]
  },
  {
   "cell_type": "markdown",
   "metadata": {},
   "source": [
    "<hr style=\"border:2px solid gray\"> </hr>"
   ]
  },
  {
   "cell_type": "markdown",
   "metadata": {},
   "source": [
    "## Reference Implementation"
   ]
  },
  {
   "cell_type": "code",
   "execution_count": 166,
   "metadata": {},
   "outputs": [],
   "source": [
    "def linreg_weights(X,y):\n",
    "    # Calculation of weights using pseudo-inverse. Note that X needs to contain the bias of 1\n",
    "    return np.linalg.inv((X.T.dot(X))).dot(X.T).dot(y)\n"
   ]
  },
  {
   "cell_type": "code",
   "execution_count": 167,
   "metadata": {},
   "outputs": [],
   "source": [
    "def linreg_predict(w,X):\n",
    "    # Calculation of outputs given weights and data (X). Note that X needs to contain the bias of 1. \n",
    "    out=[]\n",
    "    for x in X:\n",
    "        out.append(w.T.dot(x))\n",
    "    return np.array(out)"
   ]
  },
  {
   "cell_type": "markdown",
   "metadata": {},
   "source": [
    "Load data from file (including bias of 1)"
   ]
  },
  {
   "cell_type": "code",
   "execution_count": 168,
   "metadata": {},
   "outputs": [],
   "source": [
    "data = np.loadtxt('lr_data.csv', delimiter=',')\n",
    "X = data[:,0:2]\n",
    "y= [[data[i,2]] for i in range(0,len(data[:,2]))]"
   ]
  },
  {
   "cell_type": "markdown",
   "metadata": {},
   "source": [
    "Apply data to linear regression algorithm to obtain weights"
   ]
  },
  {
   "cell_type": "code",
   "execution_count": 169,
   "metadata": {},
   "outputs": [
    {
     "data": {
      "text/plain": [
       "array([[-99.46431881],\n",
       "       [564.20389249]])"
      ]
     },
     "execution_count": 169,
     "metadata": {},
     "output_type": "execute_result"
    }
   ],
   "source": [
    "weights = linreg_weights(X,y)\n",
    "weights"
   ]
  },
  {
   "cell_type": "code",
   "execution_count": 170,
   "metadata": {},
   "outputs": [
    {
     "data": {
      "text/plain": [
       "(0.0, 3.0, -100.0, 1500.0)"
      ]
     },
     "execution_count": 170,
     "metadata": {},
     "output_type": "execute_result"
    },
    {
     "data": {
      "image/png": "[encoded data removed]",
      "text/plain": [
       "<Figure size 640x480 with 1 Axes>"
      ]
     },
     "metadata": {},
     "output_type": "display_data"
    }
   ],
   "source": [
    "ind = np.arange(0,2.8,0.1)\n",
    "plt.plot(X[:,1],y,'.')\n",
    "plt.plot(ind, ind*weights[1]+weights[0],'r')\n",
    "plt.axis([0, 3, -100, 1500])"
   ]
  },
  {
   "cell_type": "markdown",
   "metadata": {},
   "source": [
    "<hr style=\"border:2px solid gray\"> </hr>"
   ]
  },
  {
   "cell_type": "markdown",
   "metadata": {},
   "source": [
    "## Task"
   ]
  },
  {
   "cell_type": "markdown",
   "metadata": {},
   "source": [
    "You may add as many cells as you require to complete this task."
   ]
  },
  {
   "cell_type": "markdown",
   "metadata": {},
   "source": [
    "### Task 1 | Goal of this Task"
   ]
  },
  {
   "cell_type": "markdown",
   "metadata": {},
   "source": [
    "To create my own implementation of linear regression using my own functions to implement the required matrix manipulations.\n",
    "\n",
    "As I have read the instructions carefully, I am required to inspect the reference implementation and **create functions for all the matrix manipulations** required to implement the linear regression algorithm.\n",
    "\n",
    "1. **Use these matrix manipulation functions in a new function that takes the data (X) and outputs (y) and returns the least squares estimate of the linear regression weight vector**. Call this function **'fit'**.\n",
    "\n",
    "2. **Create a second function that uses the weights found by the fit method and a number of data points X to create new predictions**. Call this function **'predict'**.\n",
    "\n",
    "3. Finally, **create a function that returns the weights found by the fit method**. Call this function **'get_params'**.\n",
    "\n",
    "\n",
    "**Important to note that:**\n",
    "The function to calculate the <u>inverse of a matrix</u> need only be applicable to 2-by-2 matrices. All other functions should be able to handle matrices of arbitrary sizes.\n",
    "\n",
    "Error handling is very useful to prevent matrices of incorrect sizes resulting in run-time errors. \n",
    "\n",
    "Add appropriate comments (doc-strings) to the functions I have created."
   ]
  },
  {
   "cell_type": "markdown",
   "metadata": {},
   "source": [
    "Taking the above instructions and guideines into account, I can now begin to attempt this task."
   ]
  },
  {
   "cell_type": "code",
   "execution_count": null,
   "metadata": {},
   "outputs": [],
   "source": []
  },
  {
   "cell_type": "code",
   "execution_count": 171,
   "metadata": {},
   "outputs": [],
   "source": [
    "def calculate_inverse(X):\n",
    "    \"\"\"\n",
    "    Calculate the inverse of a matrix.\n",
    "\n",
    "    Args:\n",
    "    X (numpy.ndarray): The input matrix.\n",
    "\n",
    "    Returns:\n",
    "    numpy.ndarray: The inverse of the input matrix.\n",
    "    \"\"\"\n",
    "    return np.linalg.inv(X.T.dot(X)).dot(X.T)\n",
    "\n",
    "def fit(X, y):\n",
    "    \"\"\"\n",
    "    Fit a linear regression model to the data.\n",
    "\n",
    "    Args:\n",
    "    X (numpy.ndarray): The input data matrix, including the bias column.\n",
    "    y (numpy.ndarray): The target values.\n",
    "\n",
    "    Returns:\n",
    "    numpy.ndarray: The weight vector for the linear regression model.\n",
    "    \"\"\"\n",
    "    # Calculate the weights using the inverse method\n",
    "    weights = calculate_inverse(X).dot(y)\n",
    "    return weights\n",
    "\n",
    "def predict(weights, X):\n",
    "    \"\"\"\n",
    "    Make predictions using a linear regression model.\n",
    "\n",
    "    Args:\n",
    "    weights (numpy.ndarray): The weight vector of the linear regression model.\n",
    "    X (numpy.ndarray): The input data matrix for prediction, including the bias column.\n",
    "\n",
    "    Returns:\n",
    "    numpy.ndarray: Predicted values based on the input data and weights.\n",
    "    \"\"\"\n",
    "    return X.dot(weights)\n",
    "\n",
    "def get_params(weights):\n",
    "    \"\"\"\n",
    "    Get the weights found by the linear regression model.\n",
    "\n",
    "    Args:\n",
    "    weights (numpy.ndarray): The weight vector of the linear regression model.\n",
    "\n",
    "    Returns:\n",
    "    numpy.ndarray: The weight vector.\n",
    "    \"\"\"\n",
    "    return weights"
   ]
  },
  {
   "cell_type": "markdown",
   "metadata": {},
   "source": [
    "### Usage"
   ]
  },
  {
   "cell_type": "code",
   "execution_count": 172,
   "metadata": {},
   "outputs": [
    {
     "name": "stdout",
     "output_type": "stream",
     "text": [
      "Weights: [[-99.46431881]\n",
      " [564.20389249]]\n",
      "Predictions: [[2721.55514365]\n",
      " [3285.75903614]]\n"
     ]
    }
   ],
   "source": [
    "# Let us test the functions to load the data in the file\n",
    "data = np.loadtxt('lr_data.csv', delimiter=',')\n",
    "X = data[:,0:2]\n",
    "y= [[data[i,2]] for i in range(0,len(data[:,2]))]\n",
    "\n",
    "# Fit the linear regression model\n",
    "weights = fit(X, y)\n",
    "\n",
    "# Make predictions for new data\n",
    "new_data = np.array([[1, 5], [1, 6]])\n",
    "predictions = predict(weights, new_data)\n",
    "\n",
    "# Get the weights found by the model\n",
    "model_weights = get_params(weights)\n",
    "\n",
    "# Print to test the code\n",
    "print(\"Weights:\", model_weights)\n",
    "print(\"Predictions:\", predictions)\n"
   ]
  },
  {
   "cell_type": "markdown",
   "metadata": {},
   "source": [
    "### Checking the data in file **'lr_data.csv'**"
   ]
  },
  {
   "cell_type": "code",
   "execution_count": 173,
   "metadata": {},
   "outputs": [
    {
     "name": "stdout",
     "output_type": "stream",
     "text": [
      "[[1.000e+00 2.750e+00 1.464e+03]\n",
      " [1.000e+00 2.500e+00 1.394e+03]\n",
      " [1.000e+00 2.500e+00 1.357e+03]\n",
      " [1.000e+00 2.500e+00 1.293e+03]\n",
      " [1.000e+00 2.500e+00 1.256e+03]\n",
      " [1.000e+00 2.500e+00 1.254e+03]\n",
      " [1.000e+00 2.500e+00 1.234e+03]\n",
      " [1.000e+00 2.250e+00 1.195e+03]\n",
      " [1.000e+00 2.250e+00 1.159e+03]\n",
      " [1.000e+00 2.250e+00 1.167e+03]\n",
      " [1.000e+00 2.000e+00 1.130e+03]\n",
      " [1.000e+00 2.000e+00 1.075e+03]\n",
      " [1.000e+00 2.000e+00 1.047e+03]\n",
      " [1.000e+00 1.750e+00 9.650e+02]\n",
      " [1.000e+00 1.750e+00 9.430e+02]\n",
      " [1.000e+00 1.750e+00 9.580e+02]\n",
      " [1.000e+00 1.750e+00 9.710e+02]\n",
      " [1.000e+00 1.750e+00 9.490e+02]\n",
      " [1.000e+00 1.750e+00 8.840e+02]\n",
      " [1.000e+00 1.750e+00 8.660e+02]\n",
      " [1.000e+00 1.750e+00 8.760e+02]\n",
      " [1.000e+00 1.750e+00 8.220e+02]\n",
      " [1.000e+00 1.750e+00 7.040e+02]\n",
      " [1.000e+00 1.750e+00 7.190e+02]]\n",
      "[[1.   2.75]\n",
      " [1.   2.5 ]\n",
      " [1.   2.5 ]\n",
      " [1.   2.5 ]\n",
      " [1.   2.5 ]\n",
      " [1.   2.5 ]\n",
      " [1.   2.5 ]\n",
      " [1.   2.25]\n",
      " [1.   2.25]\n",
      " [1.   2.25]\n",
      " [1.   2.  ]\n",
      " [1.   2.  ]\n",
      " [1.   2.  ]\n",
      " [1.   1.75]\n",
      " [1.   1.75]\n",
      " [1.   1.75]\n",
      " [1.   1.75]\n",
      " [1.   1.75]\n",
      " [1.   1.75]\n",
      " [1.   1.75]\n",
      " [1.   1.75]\n",
      " [1.   1.75]\n",
      " [1.   1.75]\n",
      " [1.   1.75]]\n",
      "[[1464.0], [1394.0], [1357.0], [1293.0], [1256.0], [1254.0], [1234.0], [1195.0], [1159.0], [1167.0], [1130.0], [1075.0], [1047.0], [965.0], [943.0], [958.0], [971.0], [949.0], [884.0], [866.0], [876.0], [822.0], [704.0], [719.0]]\n"
     ]
    }
   ],
   "source": [
    "data = np.loadtxt('lr_data.csv', delimiter=',')\n",
    "print(data)\n",
    "\n",
    "X = data[:,0:2]\n",
    "print(X)\n",
    "\n",
    "y= [[data[i,2]] for i in range(0,len(data[:,2]))]\n",
    "print(y)"
   ]
  },
  {
   "cell_type": "markdown",
   "metadata": {},
   "source": [
    "#### Test Case"
   ]
  },
  {
   "cell_type": "code",
   "execution_count": 180,
   "metadata": {},
   "outputs": [
    {
     "name": "stdout",
     "output_type": "stream",
     "text": [
      "Weights: [-1.  2.]\n",
      "Predictions: [ 9. 13. 17.]\n"
     ]
    }
   ],
   "source": [
    "# Prepare your input data X (with bias) and target values y\n",
    "\n",
    "X = np.array([[1, 3], [1, 5]])\n",
    "y = np.array([5, 9])\n",
    "\n",
    "# Fit the linear regression model\n",
    "weights = fit(X, y)\n",
    "\n",
    "# Make predictions for new data\n",
    "new_data = np.array([[1, 5], [1, 7], [1, 9]])\n",
    "predictions = predict(weights, new_data)\n",
    "\n",
    "# Get the weights found by the model\n",
    "model_weights = get_params(weights)\n",
    "\n",
    "print(\"Weights:\", model_weights)\n",
    "print(\"Predictions:\", predictions)\n"
   ]
  },
  {
   "cell_type": "code",
   "execution_count": null,
   "metadata": {},
   "outputs": [],
   "source": []
  },
  {
   "cell_type": "markdown",
   "metadata": {},
   "source": [
    "<hr style=\"border:2px solid gray\"> </hr>"
   ]
  },
  {
   "cell_type": "markdown",
   "metadata": {},
   "source": [
    "## Reflection"
   ]
  },
  {
   "cell_type": "markdown",
   "metadata": {},
   "source": [
    "Write your reflection in below cell."
   ]
  },
  {
   "cell_type": "markdown",
   "metadata": {},
   "source": [
    "## Documentation"
   ]
  },
  {
   "cell_type": "markdown",
   "metadata": {},
   "source": [
    "##### For the Task:"
   ]
  },
  {
   "cell_type": "markdown",
   "metadata": {},
   "source": [
    "Prepare your input data matrix **X** with the bias column, and target values **y**.\n",
    "Use the **fit** function to obtain the weight vector for the linear regression model.\n",
    "\n",
    "To make predictions for new data, use the **predict** function with the data matrix and the obtained weight vector.\n",
    "To retrieve the weights found by the model, use the **get_params** function.\n",
    "\n",
    "The understanding of the operations outlined below helped me to develop the solution for the task\n"
   ]
  },
  {
   "cell_type": "markdown",
   "metadata": {},
   "source": [
    "### To evaluate Inverse of Matrix for 2x2 with error handler"
   ]
  },
  {
   "cell_type": "code",
   "execution_count": 181,
   "metadata": {},
   "outputs": [
    {
     "name": "stdout",
     "output_type": "stream",
     "text": [
      "Inverse Matrix TestCase [[-1.0, 1.3333333333333333], [2.0, -1.0]]\n"
     ]
    }
   ],
   "source": [
    "# I would use in the reference implementation to handle any error\n",
    "def evaluate_inverse(matrix):\n",
    "    \"\"\"\n",
    "    Defines a calculate_inverse function that can calculate the inverse of a 2x2 matrix. \n",
    "    It checks for the matrix's dimensions and determinant and raises appropriate errors when needed.\n",
    "    Note that the inverse of a matrix is often a negative value.\n",
    "    \"\"\"\n",
    "    # Check if the matrix is 2by2\n",
    "    if len(matrix) != 2 or len(matrix[0]) != 2 or len(matrix[1]) != 2:\n",
    "        raise ValueError(\"Matrix inversion is only supported for 2x2 matrices\")\n",
    "        \n",
    "    # Calculate the determinant of the matrix\n",
    "    determinant = matrix[0][0] * matrix[1][1] - matrix[0][1] * matrix[1][0]\n",
    "    \n",
    "    # Check if the determinant is zero\n",
    "    if determinant == 0:\n",
    "        raise ValueError(\"Matrix is singular; cannot be inverted.\")\n",
    "        \n",
    "    # Calculate th inverse matrix elements\n",
    "    q = matrix[0][0]\n",
    "    r = matrix[0][1]\n",
    "    s = matrix[1][0]\n",
    "    t = matrix[0][0]\n",
    "    \n",
    "    inverse =[[q/determinant, -r/determinant], [-s/determinant, q/determinant]]\n",
    "    return inverse\n",
    "\n",
    "# Usage Test case\n",
    "matrix = [[3,4], [6,7]]\n",
    "inverse_matrix = evaluate_inverse(matrix)\n",
    "print(\"Inverse Matrix TestCase\", inverse_matrix)"
   ]
  },
  {
   "cell_type": "code",
   "execution_count": null,
   "metadata": {},
   "outputs": [],
   "source": []
  },
  {
   "cell_type": "markdown",
   "metadata": {},
   "source": [
    "The inverse of a matrix exists only if the matrix is non-singular i.e., the determinant should not be 0. Using determinant and adjoint, we can easily find the inverse of a square matrix"
   ]
  },
  {
   "cell_type": "code",
   "execution_count": null,
   "metadata": {},
   "outputs": [],
   "source": [
    "if det(A) != 0\n",
    "    A-1 = adj(A)/det(A)\n",
    "else\n",
    "    \"Inverse doesn't exist\"  "
   ]
  },
  {
   "cell_type": "markdown",
   "metadata": {},
   "source": [
    "### Evaluate the dot product of two matrices"
   ]
  },
  {
   "cell_type": "code",
   "execution_count": 183,
   "metadata": {},
   "outputs": [
    {
     "name": "stdout",
     "output_type": "stream",
     "text": [
      "[36, 41]\n",
      "[64, 73]\n"
     ]
    }
   ],
   "source": [
    "def dot_product(M1, M2): # M1 is the first matrix while M2 is the second matrix\n",
    "    \"\"\"\n",
    "    This defines a dot_product function that can calculate the dot product of two matrices. \n",
    "    It checks if the matrices can be multiplied by comparing the number of columns in the \n",
    "    first matrix to the number of rows in the second matrix. It then initializes a result \n",
    "    matrix with zeros and performs the dot product using nested loops.\n",
    "    Video Slide 7 in the core material gave me clear insights on the dot product operations.\n",
    "    \"\"\"\n",
    "    # Examine if the matrices can be multiplied\n",
    "    if len(M1[0]) != len(M2):\n",
    "        raise ValueError(\"Number of columns in matrix1 must match the number of rows in matrix2.\")\n",
    "    \n",
    "    # Initialize the resultant matrix with zero\n",
    "    result = [[0 for _ in range(len(M2[0]))] for _ in range(len(M1))]\n",
    "    \n",
    "    # Perform the dot product operation\n",
    "    for i in range(len(M1)):\n",
    "        for j in range(len(M2[0])):\n",
    "            for k in range(len(M2)):\n",
    "                result[i][j] += M1[i][k] * M2[k][j]\n",
    "                \n",
    "    return result\n",
    "\n",
    "# Usage Test case\n",
    "M1 = [[2, 3], [4 ,5]]\n",
    "M2 = [[6, 7], [8, 9]]\n",
    "\n",
    "res_matrix = dot_product(M1, M2)\n",
    "for row in res_matrix:\n",
    "    print(row)\n"
   ]
  },
  {
   "cell_type": "markdown",
   "metadata": {},
   "source": [
    "### Transpose a Matrix"
   ]
  },
  {
   "cell_type": "markdown",
   "metadata": {},
   "source": [
    "In linear algebra, the transpose of a matrix is an operator which flips a matrix over its diagonal; that is, it switches the row and column indices of the matrix A by producing another matrix, often denoted by Aᵀ. [Reference: Wikipedia]\n",
    "\n",
    "Here, I transpose a matrix without using NumPy; by using a simple list comprehension."
   ]
  },
  {
   "cell_type": "code",
   "execution_count": null,
   "metadata": {},
   "outputs": [],
   "source": []
  },
  {
   "cell_type": "code",
   "execution_count": 186,
   "metadata": {},
   "outputs": [
    {
     "name": "stdout",
     "output_type": "stream",
     "text": [
      "[3, 6]\n",
      "[4, 7]\n",
      "[5, 8]\n"
     ]
    }
   ],
   "source": [
    "def transpose_matrix(matrix):\n",
    "    \"\"\"\n",
    "    \n",
    "    \"\"\"\n",
    "    # Get the number of rows and columns in the matrix\n",
    "    rows = len(matrix)\n",
    "    cols =len(matrix[0])\n",
    "    \n",
    "    \n",
    "    # Create a new matrix from a flipped dimension\n",
    "    transposed_matrix = [[0 for _ in range(rows)] for _ in range(cols)] # <-- List comprehension; looping over the rows & cols\n",
    "    \n",
    "    # Input the transposed matrix with values from the original matrix\n",
    "    \n",
    "    for i in range(rows):\n",
    "        for j in range(cols):\n",
    "            transposed_matrix[j][i] = matrix[i][j]\n",
    "            \n",
    "    return transposed_matrix\n",
    "\n",
    "# Usage Test case\n",
    "matrix = [[3, 4, 5], [6, 7, 8]]\n",
    "transposed_matrix = transpose_matrix(matrix)\n",
    "\n",
    "for row in transposed_matrix:\n",
    "    print(row)\n",
    "\n"
   ]
  },
  {
   "attachments": {},
   "cell_type": "markdown",
   "metadata": {},
   "source": [
    "**Also take into considerations the algorithm in Pep's slide**\n",
    "\n",
    "w = (X<sup>T</sup>X)<sup>-1</sup>X<sup>T</sup>y\n"
   ]
  },
  {
   "cell_type": "code",
   "execution_count": 207,
   "metadata": {},
   "outputs": [
    {
     "data": {
      "image/png": "[encoded data removed]",
      "text/plain": [
       "<PIL.PngImagePlugin.PngImageFile image mode=RGBA size=671x190>"
      ]
     },
     "metadata": {},
     "output_type": "display_data"
    }
   ],
   "source": [
    "img = Image.open(\"transpose_algorithm.png\")\n",
    "display(img)"
   ]
  },
  {
   "cell_type": "markdown",
   "metadata": {},
   "source": [
    "**Reference:** Stack Exchange - Intuition behind (X<sup>T</sup>X)<sup>-1\n",
    "    \n",
    "    "
   ]
  },
  {
   "cell_type": "markdown",
   "metadata": {},
   "source": [
    "<br>"
   ]
  },
  {
   "cell_type": "markdown",
   "metadata": {},
   "source": [
    "### Vector Space Axioms"
   ]
  },
  {
   "cell_type": "markdown",
   "metadata": {},
   "source": [
    "\n",
    "**The Axiom rules for vectors are vital to compute different matrix operations:**\n",
    "\n",
    "1. Closure under Addition: For any vectors u and v, their sum u + v is also a vector.\n",
    "\n",
    "2. Associativity of Addition: For any vectors u, v, and w, the addition is associative, \n",
    "   meaning that (u + v) + w = u + (v + w).\n",
    "\n",
    "3. Commutativity of Addition: For any vectors u and v, the addition is commutative, \n",
    "   meaning that u + v = v + u.\n",
    "\n",
    "4. Identity Element of Addition: There exists a special vector 0 (the zero vector) such that for any \n",
    "   vector u, u + 0 = u.\n",
    "\n",
    "5. Inverse Elements of Addition: For every vector u, there exists a vector -u (the additive inverse of u) \n",
    "   such that u + (-u) = 0.\n",
    "\n",
    "6. Closure under Scalar Multiplication: For any vector u and scalar (real number) c, the scalar multiplication \n",
    "   c * u is also a vector.\n",
    "\n",
    "7. Distributivity of Scalar Multiplication over Vector Addition: For any vector u and scalars c and d, \n",
    "   c * (u + v) = c * u + c * v.\n",
    "\n",
    "8. Distributivity of Scalar Multiplication over Scalar Addition: For any vector u and scalars c and d, \n",
    "   (c + d) * u = c * u + d * u.\n",
    "\n",
    "9. Compatibility of Scalar Multiplication with Scalar Multiplication: For any vector u and scalars c and d, \n",
    "   (c * d) * u = c * (d * u)."
   ]
  },
  {
   "attachments": {},
   "cell_type": "markdown",
   "metadata": {},
   "source": [
    "Matrix addition and scaling follow similar rules to vector addition and scaling, but the operations are performed element-wise. <br> Let's use the axioms for vector addition and scaling (specifically, Axiom 8) to describe how matrix addition and scaling work.\n",
    "\n",
    "**Matrix Addition:**\n",
    "\n",
    "Given two matrices A and B of the same dimensions (both are m x n matrices), you can add them element-wise to create a new matrix C:\n",
    "\n",
    "**A = [a_ij]**, where i ranges from 1 to m and j ranges from 1 to n.\n",
    "\n",
    "**B = [b_ij]**, where i ranges from 1 to m and j ranges from 1 to n.\n",
    "\n",
    "**C = A + B = [a_ij + b_ij]**, where i ranges from 1 to m and j ranges from 1 to n.\n",
    "\n",
    "In other words, each element in the resulting matrix C is the sum of the corresponding elements in A and B.\n",
    "\n",
    "**Matrix Scaling:**\n",
    "\n",
    "Given a matrix A and a scalar c, you can scale the matrix by multiplying each element by the scalar:\n",
    "\n",
    "**A = [a_ij]**, where i ranges from 1 to m and j ranges from 1 to n.\n",
    "\n",
    "**c * A = [c * a_ij]**, where i ranges from 1 to m and j ranges from 1 to n.\n",
    "\n",
    "In this case, each element in the resulting matrix c * A is the product of the scalar c and the corresponding element in A."
   ]
  },
  {
   "cell_type": "code",
   "execution_count": 187,
   "metadata": {},
   "outputs": [
    {
     "name": "stdout",
     "output_type": "stream",
     "text": [
      "Matrix Addition:\n",
      "[6, 8]\n",
      "[10, 12]\n",
      "\n",
      "Matrix Scaling:\n",
      "[2, 4]\n",
      "[6, 8]\n"
     ]
    }
   ],
   "source": [
    "# Example of usage:\n",
    "def matrix_addition(A, B):\n",
    "    \"\"\"\n",
    "    Performs and returns matrix addition\n",
    "    \n",
    "    \"\"\"\n",
    "    # Check if the matrices have the same dimensions\n",
    "    if len(A) != len(B) or len(A[0]) != len(B[0]):\n",
    "        raise ValueError(\"Matrices must have the same dimensions for addition.\")\n",
    "    \n",
    "    # Initialize the result matrix with zeros\n",
    "    m, n = len(A), len(A[0])\n",
    "    C = [[0 for _ in range(n)] for _ in range(m)]\n",
    "    \n",
    "    # Perform element-wise addition\n",
    "    for i in range(m):\n",
    "        for j in range(n):\n",
    "            C[i][j] = A[i][j] + B[i][j]\n",
    "    \n",
    "    return C\n",
    "\n",
    "def matrix_scaling(A, c):\n",
    "    \"\"\"\n",
    "    Performs and returns matrix scaling\n",
    "    \n",
    "    \"\"\"\n",
    "    # Initialize the result matrix with zeros\n",
    "    m, n = len(A), len(A[0])\n",
    "    B = [[0 for _ in range(n)] for _ in range(m)]\n",
    "    \n",
    "    # Perform element-wise scaling\n",
    "    for i in range(m):\n",
    "        for j in range(n):\n",
    "            B[i][j] = c * A[i][j]\n",
    "    \n",
    "    return B\n",
    "\n",
    "# Example usage\n",
    "A = [[1, 2], [3, 4]]\n",
    "B = [[5, 6], [7, 8]]\n",
    "c = 2\n",
    "\n",
    "C = matrix_addition(A, B)\n",
    "D = matrix_scaling(A, c)\n",
    "\n",
    "# Print the results\n",
    "print(\"Matrix Addition:\")\n",
    "for row in C:\n",
    "    print(row)\n",
    "\n",
    "print(\"\\nMatrix Scaling:\")\n",
    "for row in D:\n",
    "    print(row)\n"
   ]
  },
  {
   "cell_type": "code",
   "execution_count": null,
   "metadata": {},
   "outputs": [],
   "source": []
  }
 ],
 "metadata": {
  "kernelspec": {
   "display_name": "Python 3 (ipykernel)",
   "language": "python",
   "name": "python3"
  },
  "language_info": {
   "codemirror_mode": {
    "name": "ipython",
    "version": 3
   },
   "file_extension": ".py",
   "mimetype": "text/x-python",
   "name": "python",
   "nbconvert_exporter": "python",
   "pygments_lexer": "ipython3",
   "version": "3.11.4"
  }
 },
 "nbformat": 4,
 "nbformat_minor": 2
}
