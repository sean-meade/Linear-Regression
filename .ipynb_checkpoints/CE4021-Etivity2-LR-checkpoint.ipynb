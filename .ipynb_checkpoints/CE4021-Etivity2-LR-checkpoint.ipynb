{
 "cells": [
  {
   "cell_type": "markdown",
   "metadata": {},
   "source": [
    "## Notebook E-tivity 2 CE4021 Linear Regression"
   ]
  },
  {
   "cell_type": "markdown",
   "metadata": {},
   "source": [
    "Student name:"
   ]
  },
  {
   "cell_type": "markdown",
   "metadata": {},
   "source": [
    "Student ID:"
   ]
  },
  {
   "cell_type": "markdown",
   "metadata": {},
   "source": [
    "<hr style=\"border:2px solid gray\"> </hr>"
   ]
  },
  {
   "cell_type": "markdown",
   "metadata": {},
   "source": [
    "## Imports"
   ]
  },
  {
   "cell_type": "code",
   "execution_count": 10,
   "metadata": {},
   "outputs": [],
   "source": [
    "import numpy as np\n",
    "import matplotlib.pyplot as plt"
   ]
  },
  {
   "cell_type": "markdown",
   "metadata": {},
   "source": [
    "If you believe required imports are missing, please contact your moderator."
   ]
  },
  {
   "cell_type": "markdown",
   "metadata": {},
   "source": [
    "<hr style=\"border:2px solid gray\"> </hr>"
   ]
  },
  {
   "cell_type": "markdown",
   "metadata": {},
   "source": [
    "## Reference Implementation"
   ]
  },
  {
   "cell_type": "code",
   "execution_count": 11,
   "metadata": {},
   "outputs": [],
   "source": [
    "def linreg_weights(X,y):\n",
    "    # Calculation of weights using pseudo-inverse. Note that X needs to contain the bias of 1\n",
    "    return np.linalg.inv((X.T.dot(X))).dot(X.T).dot(y)"
   ]
  },
  {
   "cell_type": "code",
   "execution_count": 12,
   "metadata": {},
   "outputs": [],
   "source": [
    "def linreg_predict(w,X):\n",
    "    # Calculation of outputs given weights and data (X). Note that X needs to contain the bias of 1. \n",
    "    out=[]\n",
    "    for x in X:\n",
    "        out.append(w.T.dot(x))\n",
    "    return np.array(out)"
   ]
  },
  {
   "cell_type": "markdown",
   "metadata": {},
   "source": [
    "Load data from file (including bias of 1)"
   ]
  },
  {
   "cell_type": "code",
   "execution_count": 13,
   "metadata": {},
   "outputs": [],
   "source": [
    "data = np.loadtxt('lr_data.csv', delimiter=',')\n",
    "X = data[:,0:2]\n",
    "y= [[data[i,2]] for i in range(0,len(data[:,2]))]"
   ]
  },
  {
   "cell_type": "markdown",
   "metadata": {},
   "source": [
    "Apply data to linear regression algorithm to obtain weights"
   ]
  },
  {
   "cell_type": "code",
   "execution_count": 11,
   "metadata": {
    "scrolled": true
   },
   "outputs": [
    {
     "data": {
      "text/plain": [
       "array([[-99.46431881],\n",
       "       [564.20389249]])"
      ]
     },
     "execution_count": 11,
     "metadata": {},
     "output_type": "execute_result"
    }
   ],
   "source": [
    "weights = linreg_weights(X,y)\n",
    "weights"
   ]
  },
  {
   "cell_type": "code",
   "execution_count": 12,
   "metadata": {
    "scrolled": true
   },
   "outputs": [
    {
     "data": {
      "text/plain": [
       "(0.0, 3.0, -100.0, 1500.0)"
      ]
     },
     "execution_count": 12,
     "metadata": {},
     "output_type": "execute_result"
    },
    {
     "data": {
      "image/png": "[encoded data removed]",
      "text/plain": [
       "<Figure size 432x288 with 1 Axes>"
      ]
     },
     "metadata": {
      "needs_background": "light"
     },
     "output_type": "display_data"
    }
   ],
   "source": [
    "ind = np.arange(0,2.8,0.1)\n",
    "plt.plot(X[:,1],y,'.')\n",
    "plt.plot(ind, ind*weights[1]+weights[0],'r')\n",
    "plt.axis([0, 3, -100, 1500])"
   ]
  },
  {
   "cell_type": "markdown",
   "metadata": {},
   "source": [
    "<hr style=\"border:2px solid gray\"> </hr>"
   ]
  },
  {
   "cell_type": "markdown",
   "metadata": {},
   "source": [
    "Reference Implementation"
   ]
  },
  {
   "cell_type": "markdown",
   "metadata": {},
   "source": [
    "You may add as many cells as you require to complete this task."
   ]
  },
  {
   "cell_type": "markdown",
   "metadata": {},
   "source": [
    "## Linear Algebra"
   ]
  },
  {
   "cell_type": "markdown",
   "metadata": {},
   "source": [
    "//TODO \n",
    "1. Use these matrix manipulation functions in a new function that takes the data (X) and outputs (y) and returns the least squares estimate of the linear regression weight vector. Call this function 'fit'.\n",
    "\n",
    "2. Create a second function that uses the weights found by the fit method and a number of data points X to create new predictions. Call this function 'predict'.\n",
    "\n",
    "3. Finally, create a function that returns the weights found by the fit method. Call this function 'get_params'.\n",
    "\n",
    "Explanation and understanding of the Linear algebra involved to complete this exercise:\n",
    "\n",
    "Linear regrssion is a predictive modelling technique that is used to measure the relationship betw 2(or more) sets of variables. \n",
    "Eg - time and cost /  height and weight \n",
    "\n",
    "To do this, we plot some data on the graph and find a straight line that will most appropriately fit the data points on the graph. This regression line is built with the least squared method.\n",
    "We want to minimise the difference between the estimated value and the actual values\n",
    "Find the rotation that has the least sum of squares.\n",
    "//TODO - add more detail here for sum of least square, biases, prediction.\n",
    "\n",
    "Probable types of Maxtrix manipulations required in order to completed this exercise:\n",
    "Transpose, Inverse, multiplication(x3!)"
   ]
  },
  {
   "cell_type": "markdown",
   "metadata": {},
   "source": [
    "Notes: you can only invert a square matrix."
   ]
  },
  {
   "cell_type": "markdown",
   "metadata": {},
   "source": [
    "## Python Implementation"
   ]
  },
  {
   "cell_type": "markdown",
   "metadata": {},
   "source": [
    "On initial thoughts, Lists, error handling, and input validation seem to be key to recreate this implementation.\n",
    "There also seems to be a cheeky little python funciton 'zip' which might do the transpose.\n",
    "\n",
    "Also going to try to start using return annotations for this etivity, for ease of reading\n",
    "def f(x: float) -> int:\n",
    "    return int(x)\n",
    "\n",
    "We'll be representating matrixs as Lists of Lists in python:\n",
    "So, each list within the origin list will be a row. For example the below would represent a 2x2 matrix with 2 rows.\n",
    "The 0 index of each row is the first column of each row. M = \n",
    "   [\n",
    "    [a,b],\n",
    "    [c,d]\n",
    "   ] \n",
    "   \n",
    "As directed above, we have 3 main functions: fit, predict, and get_params.\n",
    "\n",
    "'fit' will be building us the least square summation, which will contain the majority of the effort here from a coding perspective. Based on the equation above, and here below, we'll need to implement and call the following functions: \n",
    "Transpose, multiplication, inverse. \n",
    "\n",
    "1. transpose the matrix X, before multiplying the matrix X against the newly transposed X(small t)\n",
    "2. inverse the outputted matrix from step 1.\n",
    "3. multiply the resulting matrix from step 2 (the inversed matrix) with the matrix X transposed (have this from step 1)\n",
    "4. multiply the resulting matric from step 3 with y\n",
    "\n",
    "TRANSPOSE:\n",
    "Implementation wise to transpose a matrix, we switch the rows to columns in a matrix. \n",
    "Visually this is rotating the rows, so they become columns. Using the 2x2 matrix above:\n",
    "M = \n",
    "   [\n",
    "    [a,b],\n",
    "    [c,d]\n",
    "   ] \n",
    "\n",
    "M(t) = \n",
    "   [\n",
    "    [a,c],\n",
    "    [b,d]\n",
    "   ] \n",
    "\n",
    "INVERSE:\n",
    "//TODO\n",
    "\n",
    "MULTIPLY:\n",
    "//TODO"
   ]
  },
  {
   "cell_type": "code",
   "execution_count": 8,
   "metadata": {},
   "outputs": [],
   "source": [
    "#not part of the exercise as such, but just more to pull in the data from the csv, copied from the reference impl above.\n",
    "def initialise():\n",
    "    print(\"pulling in some data\")\n"
   ]
  },
  {
   "cell_type": "code",
   "execution_count": null,
   "metadata": {},
   "outputs": [],
   "source": [
    "#fit - this will build some weights that will be used as input for the 'predict' function\n",
    "#input: X is the input data, \n",
    "#output: a list of weights\n",
    "def fit(X, y):\n",
    "    print(\"we're in 'fit'\") \n"
   ]
  },
  {
   "cell_type": "code",
   "execution_count": null,
   "metadata": {},
   "outputs": [],
   "source": [
    "#predict - this will take in arguments 'w' (for the weights outputted from 'fit'), along with data points 'X'\n",
    "#input: 'w' (for the weights outputted from 'fit'), \n",
    "#output: a list of predictions\n",
    "def predict(w, X):\n",
    "    print(\"we're in 'predict'\") "
   ]
  },
  {
   "cell_type": "code",
   "execution_count": null,
   "metadata": {},
   "outputs": [],
   "source": [
    "#get_params\n",
    "#input: 'w' the weights\n",
    "#output: returns weights\n",
    "def get_params(w):\n",
    "    print(\"we're in 'get_params'\") "
   ]
  },
  {
   "cell_type": "code",
   "execution_count": 47,
   "metadata": {},
   "outputs": [],
   "source": [
    "#low level worker functions - based on the provided equation we will definitely require transpose, inverse, and multiplication\n",
    "\n",
    "m = [[1,2,3],[4,5,6]]\n",
    "m1 = [[1,2],[3,4],[5,6]]\n",
    "m2 = [[1,2],[3,4],[5,6],[7,8]]\n",
    "\n",
    "#this involves rotating the rows so they become columns\n",
    "def transpose(m: list[list]):\n",
    "    #TODO - error handling when only contains one row\n",
    "    mt = [list(row) for row in zip(*m)]\n",
    "    return mt\n",
    "\n",
    "\n",
    "#the number of columns of matrix 'a' must equal the number of rows of column 'b'\n",
    "def multiply(m: list[list], m1: list[list]):\n",
    "    if validMatrix(m,m1):\n",
    "        print(\"lets get to work\")\n",
    "    else:\n",
    "       raise ArithmeticError(\"the columns from m1 don't match the rows from m2\") \n",
    "    \n",
    "    \n",
    "#the scope of this implementation only needs to handle 2x2 matrix\n",
    "#'The function to calculate the inverse of a matrix need only be applicable to 2x2 matrices'\n",
    "def inverse(m: list[list]) -> list:\n",
    "    print(m)\n",
    "\n",
    "#even lower level worker functions to serve 'transpose', 'multiply', 'inverse'   \n",
    "#check the number of columns of matrix 'm1' must equal the number of rows of 'm2'\n",
    "def validMatrix(m, m1):\n",
    "    if len(m[0])!=len(m1):\n",
    "        return False\n",
    "    else:\n",
    "        return True\n",
    "    "
   ]
  },
  {
   "cell_type": "markdown",
   "metadata": {},
   "source": [
    "## Tests"
   ]
  },
  {
   "cell_type": "code",
   "execution_count": 48,
   "metadata": {},
   "outputs": [
    {
     "name": "stdout",
     "output_type": "stream",
     "text": [
      "lets get to work\n"
     ]
    }
   ],
   "source": [
    "m_2x3 = [[1,2,3],[4,5,6]]\n",
    "m_3x2 = [[1,2],[3,4],[5,6]]\n",
    "m_4x2 = [[1,2],[3,4],[5,6],[7,8]]\n",
    "\n",
    "multiply(m_2x3,m_3x2)"
   ]
  },
  {
   "cell_type": "markdown",
   "metadata": {},
   "source": [
    "## Reflection"
   ]
  },
  {
   "cell_type": "markdown",
   "metadata": {},
   "source": [
    "Write your reflection in below cell."
   ]
  },
  {
   "cell_type": "code",
   "execution_count": null,
   "metadata": {},
   "outputs": [],
   "source": []
  }
 ],
 "metadata": {
  "kernelspec": {
   "display_name": "Python 3 (ipykernel)",
   "language": "python",
   "name": "python3"
  },
  "language_info": {
   "codemirror_mode": {
    "name": "ipython",
    "version": 3
   },
   "file_extension": ".py",
   "mimetype": "text/x-python",
   "name": "python",
   "nbconvert_exporter": "python",
   "pygments_lexer": "ipython3",
   "version": "3.11.4"
  }
 },
 "nbformat": 4,
 "nbformat_minor": 2
}
