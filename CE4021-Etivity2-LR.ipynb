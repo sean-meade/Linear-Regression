{
 "cells": [
  {
   "cell_type": "markdown",
   "metadata": {},
   "source": [
    "## Notebook E-tivity 2 CE4021 Linear Regression"
   ]
  },
  {
   "cell_type": "markdown",
   "metadata": {},
   "source": [
    "Student name: Sean Meade"
   ]
  },
  {
   "cell_type": "markdown",
   "metadata": {},
   "source": [
    "Student ID: 10128291"
   ]
  },
  {
   "cell_type": "markdown",
   "metadata": {},
   "source": [
    "<hr style=\"border:2px solid gray\"> </hr>"
   ]
  },
  {
   "cell_type": "markdown",
   "metadata": {},
   "source": [
    "## Imports"
   ]
  },
  {
   "cell_type": "code",
   "execution_count": 1,
   "metadata": {},
   "outputs": [],
   "source": [
    "import numpy as np\n",
    "import matplotlib.pyplot as plt"
   ]
  },
  {
   "cell_type": "markdown",
   "metadata": {},
   "source": [
    "If you believe required imports are missing, please contact your moderator."
   ]
  },
  {
   "cell_type": "markdown",
   "metadata": {},
   "source": [
    "<hr style=\"border:2px solid gray\"> </hr>"
   ]
  },
  {
   "cell_type": "markdown",
   "metadata": {},
   "source": [
    "## Reference Implementation"
   ]
  },
  {
   "cell_type": "code",
   "execution_count": 2,
   "metadata": {},
   "outputs": [],
   "source": [
    "def linreg_weights(X,y):\n",
    "    # Calculation of weights using pseudo-inverse. Note that X needs to contain the bias of 1\n",
    "    return np.linalg.inv((X.T.dot(X))).dot(X.T).dot(y)"
   ]
  },
  {
   "cell_type": "code",
   "execution_count": 3,
   "metadata": {},
   "outputs": [],
   "source": [
    "def linreg_predict(w,X):\n",
    "    # Calculation of outputs given weights and data (X). Note that X needs to contain the bias of 1. \n",
    "    out=[]\n",
    "    for x in X:\n",
    "        out.append(w.T.dot(x))\n",
    "    return np.array(out)"
   ]
  },
  {
   "cell_type": "markdown",
   "metadata": {},
   "source": [
    "Load data from file (including bias of 1)"
   ]
  },
  {
   "cell_type": "code",
   "execution_count": 4,
   "metadata": {},
   "outputs": [],
   "source": [
    "data = np.loadtxt('lr_data.csv', delimiter=',')\n",
    "X = data[:,0:2]\n",
    "y= [[data[i,2]] for i in range(0,len(data[:,2]))]"
   ]
  },
  {
   "cell_type": "markdown",
   "metadata": {},
   "source": [
    "Apply data to linear regression algorithm to obtain weights"
   ]
  },
  {
   "cell_type": "code",
   "execution_count": 5,
   "metadata": {},
   "outputs": [
    {
     "data": {
      "text/plain": [
       "array([[-99.46431881],\n",
       "       [564.20389249]])"
      ]
     },
     "execution_count": 5,
     "metadata": {},
     "output_type": "execute_result"
    }
   ],
   "source": [
    "def linreg_weights(X,y):\n",
    "    # Calculation of weights using pseudo-inverse. Note that X needs to contain the bias of 1\n",
    "    return np.linalg.inv((X.T.dot(X))).dot(X.T).dot(y)\n",
    "\n",
    "weights = linreg_weights(X,y)\n",
    "weights"
   ]
  },
  {
   "cell_type": "code",
   "execution_count": 6,
   "metadata": {},
   "outputs": [
    {
     "data": {
      "text/plain": [
       "(0.0, 3.0, -100.0, 1500.0)"
      ]
     },
     "execution_count": 6,
     "metadata": {},
     "output_type": "execute_result"
    },
    {
     "data": {
      "image/png": "[encoded data removed]",
      "text/plain": [
       "<Figure size 640x480 with 1 Axes>"
      ]
     },
     "metadata": {},
     "output_type": "display_data"
    }
   ],
   "source": [
    "ind = np.arange(0,2.8,0.1)\n",
    "plt.plot(X[:,1],y,'.')\n",
    "plt.plot(ind, ind*weights[1]+weights[0],'r')\n",
    "plt.axis([0, 3, -100, 1500])"
   ]
  },
  {
   "cell_type": "markdown",
   "metadata": {},
   "source": [
    "<hr style=\"border:2px solid gray\"> </hr>"
   ]
  },
  {
   "cell_type": "markdown",
   "metadata": {},
   "source": [
    "## Task"
   ]
  },
  {
   "cell_type": "code",
   "execution_count": 7,
   "metadata": {},
   "outputs": [],
   "source": [
    "# TODO: \n",
    "# - Comment code for 3 function\n",
    "# - error handling for 3 function\n",
    "# - test add\n",
    "# - test mult\n",
    "# - test transpose\n",
    "# - test determinant_2x2\n",
    "# - test inverse\n",
    "a = [[4, 3], [7, -2]]\n",
    "b = [[-1, 8], [2, 5]]\n",
    "a4 = [[4, -2, -81, 7], [22, 0, 12, 3], [5, 6, 9, 21], [7, 13, 21, 2]]\n",
    "b4 = [[5, 8, 25, 8], [7, -9, 35, 8], [4, 3, 19, 0], [6, 16, 20, 7]]\n",
    "a32 = [[1, 2], [3, 4], [5, 6]]\n",
    "b32 = [[9, 8], [7, 6], [5, 4]]\n",
    "a_odd = [[1, 2, 3], [2, 3]]\n",
    "b_odd = [[5, 1, -5, 8], [1, 0, 2, 6]]"
   ]
  },
  {
   "cell_type": "markdown",
   "metadata": {},
   "source": [
    "Given two matrices with the same number of rows and same number of columns for example A and B:\n",
    "\n",
    "$$A = \\begin{bmatrix} a_{11} & a_{12} & \\ldots & a_{1n} \\\\ a_{21} & a_{22} & \\ldots & a_{2n} \\\\ \\vdots & \\vdots & \\ddots & \\vdots \\\\ a_{m1} & a_{m2} & \\ldots & a_{mn} \\end{bmatrix} $$\n",
    "\n",
    "$$ B = \\begin{bmatrix} b_{11} & b_{12} & \\ldots & b_{1n} \\\\ b_{21} & b_{22} & \\ldots & b_{2n} \\\\ \\vdots & \\vdots & \\ddots & \\vdots \\\\ b_{m1} & b_{m2} & \\ldots & b_{mn} \\end{bmatrix}\n",
    " $$\n",
    "\n",
    "You can add the two together with the following method:\n",
    "\n",
    "$$ C = A + B = \\begin{bmatrix} a_{11} + b_{11} & a_{12} + b_{12} & \\ldots & a_{1n} + b_{1n} \\\\ a_{21} + b_{21} & a_{22} + b_{22} & \\ldots & a_{2n} + b_{2n} \\\\ \\vdots & \\vdots & \\ddots & \\vdots \\\\ a_{m1} + b_{m1} & a_{m2} + b_{m2} & \\ldots & a_{mn} + b_{mn} \\end{bmatrix} $$\n",
    "\n",
    "Fairly straight forward operation of adding the elements in the same position from both matrices and adding that addition to the same position of a new matrix:\n"
   ]
  },
  {
   "cell_type": "code",
   "execution_count": 8,
   "metadata": {},
   "outputs": [
    {
     "data": {
      "text/plain": [
       "[[3, 11], [9, 3]]"
      ]
     },
     "execution_count": 8,
     "metadata": {},
     "output_type": "execute_result"
    }
   ],
   "source": [
    "def add_matrices(matrix_a, matrix_b):\n",
    "    \"\"\"\n",
    "    Adds two matrices of the same size.\n",
    "\n",
    "    Args:\n",
    "        matrix_a (list of list(s)): representing a matrix (e.g. of a 2x2 matrix is [[5, 6], [5, 5]])\n",
    "\n",
    "        matrix_b (list of list(s)): representing a matrix (e.g. of a 2x2 matrix is [[5, 6], [5, 5]])\n",
    "\n",
    "    Returns:\n",
    "        added_matrix (list of list(s)): the addition of matrix_a and matrix_b to produce a matrix of the same size\n",
    "\n",
    "    \"\"\"\n",
    "\n",
    "    # empty list for the result of addition\n",
    "    added_matrix = []\n",
    "    # check if they are the same size\n",
    "    if len(matrix_a) == len(matrix_b) and len(matrix_a[0]) == len(matrix_b[0]):\n",
    "        # for every column in matrix a\n",
    "        for col in range(len(matrix_a)):\n",
    "            # add a new empty list to hold the addition of that column for each matrix\n",
    "            added_matrix.append([])\n",
    "            # then for each row in each matrix column add the corresponding elements and add to the added matrix column\n",
    "            for row in range(len(matrix_a[0])):\n",
    "                try:\n",
    "                    added_matrix[col].append(matrix_a[col][row] + matrix_b[col][row])\n",
    "                except:\n",
    "                    print(\"Something went wrong. Likely an element in one of the matrices is not a number.\")\n",
    "                    return\n",
    "    \n",
    "    else:\n",
    "        print(\"These matrices are not the same size and cannot be added.\")\n",
    "        return\n",
    "\n",
    "    return added_matrix\n",
    "\n",
    "add_matrices(a, b)"
   ]
  },
  {
   "cell_type": "code",
   "execution_count": 9,
   "metadata": {},
   "outputs": [
    {
     "data": {
      "text/plain": [
       "array([[ True,  True],\n",
       "       [ True,  True]])"
      ]
     },
     "execution_count": 9,
     "metadata": {},
     "output_type": "execute_result"
    }
   ],
   "source": [
    "add_matrices(a, b) == np.add(a, b)"
   ]
  },
  {
   "cell_type": "code",
   "execution_count": 10,
   "metadata": {},
   "outputs": [
    {
     "data": {
      "text/plain": [
       "array([[ True,  True,  True,  True],\n",
       "       [ True,  True,  True,  True],\n",
       "       [ True,  True,  True,  True],\n",
       "       [ True,  True,  True,  True]])"
      ]
     },
     "execution_count": 10,
     "metadata": {},
     "output_type": "execute_result"
    }
   ],
   "source": [
    "add_matrices(a4, b4) == np.add(a4, b4)"
   ]
  },
  {
   "cell_type": "code",
   "execution_count": 11,
   "metadata": {},
   "outputs": [
    {
     "data": {
      "text/plain": [
       "array([[ True,  True],\n",
       "       [ True,  True],\n",
       "       [ True,  True]])"
      ]
     },
     "execution_count": 11,
     "metadata": {},
     "output_type": "execute_result"
    }
   ],
   "source": [
    "add_matrices(a32, b32) == np.add(a32, b32)"
   ]
  },
  {
   "cell_type": "code",
   "execution_count": 12,
   "metadata": {},
   "outputs": [],
   "source": [
    "# add_matrices(a_odd, b_odd) == np.add(a_odd, b_odd)"
   ]
  },
  {
   "cell_type": "markdown",
   "metadata": {},
   "source": [
    "You can apply a similar method to subtract these matrices:\n",
    "\n",
    "$$ C = A - B = \\begin{bmatrix} a_{11} - b_{11} & a_{12} - b_{12} & \\ldots & a_{1n} - b_{1n} \\\\ a_{21} - b_{21} & a_{22} - b_{22} & \\ldots & a_{2n} - b_{2n} \\\\ \\vdots & \\vdots & \\ddots & \\vdots \\\\ a_{m1} - b_{m1} & a_{m2} - b_{m2} & \\ldots & a_{mn} - b_{mn} \\end{bmatrix} $$\n",
    "\n",
    "Where instead of adding you are subtracting the elements in the same position from both matrices and adding that addition to the same position of a new matrix:\n"
   ]
  },
  {
   "cell_type": "code",
   "execution_count": 13,
   "metadata": {},
   "outputs": [
    {
     "data": {
      "text/plain": [
       "[[5, -5], [5, -7]]"
      ]
     },
     "execution_count": 13,
     "metadata": {},
     "output_type": "execute_result"
    }
   ],
   "source": [
    "def subtract_matrices(matrix_a, matrix_b):\n",
    "    \"\"\"\n",
    "    Subtracts two matrices of the same size.\n",
    "\n",
    "    Args:\n",
    "        matrix_a (list of list(s)): representing a matrix (e.g. of a 2x2 matrix is [[5, 6], [5, 5]])\n",
    "\n",
    "        matrix_b (list of list(s)): representing a matrix (e.g. of a 2x2 matrix is [[5, 6], [5, 5]])\n",
    "\n",
    "    Returns:\n",
    "        subtracted_matrix (list of list(s)): the subtraction of matrix_b from matrix_a to produce a matrix of the same size\n",
    "\n",
    "    \"\"\"\n",
    "\n",
    "    # empty list for the result of subtraction\n",
    "    subtracted_matrix = []\n",
    "    # check if they are the same size\n",
    "    if len(matrix_a) == len(matrix_b) and len(matrix_a[0]) == len(matrix_b[0]):\n",
    "         # for every column in matrix a\n",
    "        for col in range(len(matrix_a)):\n",
    "            # add a new empty list to hold the addition of that column for each matrix\n",
    "            subtracted_matrix.append([])\n",
    "            # then for each row in each matrix column add the corresponding elements and add to the added matrix column\n",
    "            for row in range(len(matrix_a[0])):\n",
    "                try:\n",
    "                    subtracted_matrix[col].append(matrix_a[col][row] - matrix_b[col][row])\n",
    "                except:\n",
    "                    print(\"Something went wrong. Likely an element in one of the matrices is not a number.\")\n",
    "                    return\n",
    "\n",
    "    else:\n",
    "        print(\"These matrices cannot be subtracted.\")\n",
    "        return\n",
    "\n",
    "    return subtracted_matrix\n",
    "\n",
    "subtract_matrices(a, b)"
   ]
  },
  {
   "cell_type": "code",
   "execution_count": 14,
   "metadata": {},
   "outputs": [
    {
     "data": {
      "text/plain": [
       "array([[ True,  True],\n",
       "       [ True,  True]])"
      ]
     },
     "execution_count": 14,
     "metadata": {},
     "output_type": "execute_result"
    }
   ],
   "source": [
    "subtract_matrices(a, b) == np.subtract(a, b)"
   ]
  },
  {
   "cell_type": "code",
   "execution_count": 15,
   "metadata": {},
   "outputs": [
    {
     "data": {
      "text/plain": [
       "array([[ True,  True,  True,  True],\n",
       "       [ True,  True,  True,  True],\n",
       "       [ True,  True,  True,  True],\n",
       "       [ True,  True,  True,  True]])"
      ]
     },
     "execution_count": 15,
     "metadata": {},
     "output_type": "execute_result"
    }
   ],
   "source": [
    "subtract_matrices(a4, b4) == np.subtract(a4, b4)"
   ]
  },
  {
   "cell_type": "code",
   "execution_count": 16,
   "metadata": {},
   "outputs": [
    {
     "data": {
      "text/plain": [
       "array([[ True,  True],\n",
       "       [ True,  True],\n",
       "       [ True,  True]])"
      ]
     },
     "execution_count": 16,
     "metadata": {},
     "output_type": "execute_result"
    }
   ],
   "source": [
    "subtract_matrices(a32, b32) == np.subtract(a32, b32)"
   ]
  },
  {
   "cell_type": "code",
   "execution_count": 17,
   "metadata": {},
   "outputs": [],
   "source": [
    "# subtract_matrices(a_odd, b_odd) == np.subtract(a_odd, b_odd)"
   ]
  },
  {
   "cell_type": "markdown",
   "metadata": {},
   "source": [
    "Next is getting the transpose of a matrix commonly represented by a capital t: $ A^T $\n",
    "\n",
    "$$\n",
    "A^T = \n",
    "\\begin{bmatrix}\n",
    "  a_{11} & a_{21} & \\ldots & a_{m1} \\\\\n",
    "  a_{12} & a_{22} & \\ldots & a_{m2} \\\\\n",
    "  \\vdots & \\vdots & \\ddots & \\vdots \\\\\n",
    "  a_{1n} & a_{2n} & \\ldots & a_{mn}\n",
    "\\end{bmatrix}^T\n",
    "$$\n",
    "\n",
    "Where the diagonal remains the same and each element is swapped with its opposite position. For example if $ a_54 $ is an element of matrix A it is in the fifth column on the forth row. When transposed $ a_54 $ will be in the fourth column on the fifth row. The diagonal remains the same because the position cannot be flipped as $ a_{22} $ will be in the second column on the second row before and after the transpose:"
   ]
  },
  {
   "cell_type": "code",
   "execution_count": 18,
   "metadata": {},
   "outputs": [
    {
     "data": {
      "text/plain": [
       "[[4, 7], [3, -2]]"
      ]
     },
     "execution_count": 18,
     "metadata": {},
     "output_type": "execute_result"
    }
   ],
   "source": [
    "def transpose(matrix):\n",
    "    \"\"\"\n",
    "    Returns the transpose of the input matrix\n",
    "\n",
    "    Args:\n",
    "        matrix (list of list(s)): input matrix (e.g. of a 2x2 matrix is [[5, 6], [5, 5]])\n",
    "\n",
    "    Returns:\n",
    "        transposed_matrix (list of list(s)): the matrix representing the transpose of the input matrix\n",
    "\n",
    "    \"\"\"\n",
    "\n",
    "    # empty list for the transpose of the input matrix\n",
    "    transposed_matrix = []\n",
    "    # The col and row length of the input matric\n",
    "    col_length = len(matrix)\n",
    "    row_length = len(matrix[0])\n",
    "    \n",
    "    try:\n",
    "        # for every column in the input matrix\n",
    "        for col in range(row_length):\n",
    "            # add an empty list to hold the transposed values\n",
    "            transposed_matrix.append([])\n",
    "            # for every row in that col\n",
    "            for row in range(col_length):\n",
    "                # add the transposed value\n",
    "                transposed_matrix[col].append(matrix[row][col])\n",
    "\n",
    "    except:\n",
    "        print(\"Something went wrong please check that your input matrix is valid\")\n",
    "\n",
    "    return transposed_matrix\n",
    "\n",
    "transpose(a)"
   ]
  },
  {
   "cell_type": "code",
   "execution_count": 19,
   "metadata": {},
   "outputs": [
    {
     "data": {
      "text/plain": [
       "array([[ True,  True,  True,  True,  True,  True,  True,  True,  True,\n",
       "         True,  True,  True,  True,  True,  True,  True,  True,  True,\n",
       "         True,  True,  True,  True,  True,  True],\n",
       "       [ True,  True,  True,  True,  True,  True,  True,  True,  True,\n",
       "         True,  True,  True,  True,  True,  True,  True,  True,  True,\n",
       "         True,  True,  True,  True,  True,  True]])"
      ]
     },
     "execution_count": 19,
     "metadata": {},
     "output_type": "execute_result"
    }
   ],
   "source": [
    "transpose(X) == np.transpose(X)"
   ]
  },
  {
   "cell_type": "code",
   "execution_count": 20,
   "metadata": {},
   "outputs": [
    {
     "data": {
      "text/plain": [
       "array([[ True,  True,  True],\n",
       "       [ True,  True,  True]])"
      ]
     },
     "execution_count": 20,
     "metadata": {},
     "output_type": "execute_result"
    }
   ],
   "source": [
    "transpose(a32) == np.transpose(a32)"
   ]
  },
  {
   "cell_type": "code",
   "execution_count": 21,
   "metadata": {},
   "outputs": [
    {
     "data": {
      "text/plain": [
       "array([[ True,  True],\n",
       "       [ True,  True]])"
      ]
     },
     "execution_count": 21,
     "metadata": {},
     "output_type": "execute_result"
    }
   ],
   "source": [
    "transpose(a) == np.transpose(a)"
   ]
  },
  {
   "cell_type": "code",
   "execution_count": 22,
   "metadata": {},
   "outputs": [
    {
     "data": {
      "text/plain": [
       "array([[ True,  True,  True,  True],\n",
       "       [ True,  True,  True,  True],\n",
       "       [ True,  True,  True,  True],\n",
       "       [ True,  True,  True,  True]])"
      ]
     },
     "execution_count": 22,
     "metadata": {},
     "output_type": "execute_result"
    }
   ],
   "source": [
    "transpose(a4) == np.transpose(a4)"
   ]
  },
  {
   "cell_type": "code",
   "execution_count": 23,
   "metadata": {},
   "outputs": [],
   "source": [
    "# transpose(a_odd) == np.transpose(a_odd)"
   ]
  },
  {
   "cell_type": "markdown",
   "metadata": {},
   "source": [
    "The determinant of a 2x2 matrix:\n",
    "\n",
    "$$ \\text{det}\\begin{bmatrix} a & b \\\\ c & d \\end{bmatrix} = ad - bc $$\n",
    "\n",
    "It is the product of the first row of the second column and the second row of the first column subtracted from the product of the first row of the first column and the second row of the second column."
   ]
  },
  {
   "cell_type": "code",
   "execution_count": 24,
   "metadata": {},
   "outputs": [
    {
     "data": {
      "text/plain": [
       "-29"
      ]
     },
     "execution_count": 24,
     "metadata": {},
     "output_type": "execute_result"
    }
   ],
   "source": [
    "def determinant_2x2(matrix2x2):\n",
    "    \"\"\"\n",
    "    Calculates the determinant of a 2x2 matrix\n",
    "\n",
    "    Args:\n",
    "        matrix2x2 (list of list(s)): input matrix (e.g. of a 2x2 matrix is [[5, 6], [5, 5]])\n",
    "\n",
    "    Returns:\n",
    "        determinant (int or float): value of the determinant of the input matrix matrix2x2\n",
    "\n",
    "    \"\"\"\n",
    "\n",
    "    try:\n",
    "        if len(matrix2x2) == 2 and len(matrix2x2[0]) == 2:\n",
    "            # calculate the determinant\n",
    "            determinant = matrix2x2[0][0]*matrix2x2[1][1] - matrix2x2[1][0]*matrix2x2[0][1]\n",
    "\n",
    "            return determinant\n",
    "\n",
    "        else:\n",
    "            print(\"this is not a 2x2 matrix\")\n",
    "\n",
    "    except:\n",
    "        print(\"Something went wrong please check the values within your matrix are real numbers\")\n",
    "\n",
    "    \n",
    "\n",
    "determinant_2x2(a)"
   ]
  },
  {
   "cell_type": "code",
   "execution_count": 25,
   "metadata": {},
   "outputs": [
    {
     "data": {
      "text/plain": [
       "True"
      ]
     },
     "execution_count": 25,
     "metadata": {},
     "output_type": "execute_result"
    }
   ],
   "source": [
    "np.allclose(np.linalg.det(a), determinant_2x2(a))\n"
   ]
  },
  {
   "cell_type": "code",
   "execution_count": 26,
   "metadata": {},
   "outputs": [
    {
     "data": {
      "text/plain": [
       "True"
      ]
     },
     "execution_count": 26,
     "metadata": {},
     "output_type": "execute_result"
    }
   ],
   "source": [
    "np.allclose(np.linalg.det(X[:2]), determinant_2x2(X[:2]))"
   ]
  },
  {
   "cell_type": "markdown",
   "metadata": {},
   "source": [
    "The inverse of a two by two matrix can be calculated with the following formula:\n",
    "\n",
    "$$ A^{-1} = \\frac{1}{ad - bc} \\begin{bmatrix} d & -b \\\\ -c & a \\end{bmatrix} $$\n",
    "\n",
    "First it swaps the corner elements. The first element in column one is swapped with the second element in column two. Then the first element in column two is swapped with the second element in column one and these values are both multiplied by minus one. Then each element is multiplied by one divided by the determinant."
   ]
  },
  {
   "cell_type": "code",
   "execution_count": 27,
   "metadata": {},
   "outputs": [
    {
     "data": {
      "text/plain": [
       "[[-0.23809523809523808, 0.38095238095238093],\n",
       " [0.09523809523809523, 0.047619047619047616]]"
      ]
     },
     "execution_count": 27,
     "metadata": {},
     "output_type": "execute_result"
    }
   ],
   "source": [
    "def invert_matrix2x2(matrix2x2):\n",
    "    \"\"\"\n",
    "    Inverts the input 2x2 matrix\n",
    "\n",
    "    Args:\n",
    "        matrix2x2 (list of list(s)): input matrix (e.g. of a 2x2 matrix is [[5, 6], [5, 5]])\n",
    "\n",
    "    Returns:\n",
    "        inverse_matrix (int or float): the inverted matrix of the input matrix (e.g. of a 2x2 matrix is [[5, 6], [5, 5]])\n",
    "\n",
    "    \"\"\"\n",
    "\n",
    "    # calculate the determinant \n",
    "    determinant_2x2_val = determinant_2x2(matrix2x2)\n",
    "\n",
    "    # empty list to hold the inverse \n",
    "    inverse_matrix = []\n",
    "\n",
    "    # convert the input matrix to the operation matrix whose elements will be multiplied by the determinant\n",
    "    operation_matrix = [[matrix2x2[1][1], matrix2x2[0][1]*(-1)],[matrix2x2[1][0]*(-1), matrix2x2[0][0]]]\n",
    "\n",
    "    try:\n",
    "        # for every column in the input matrix\n",
    "        for i in range(len(matrix2x2)):\n",
    "            # add an empty list to hold the inverted values\n",
    "            inverse_matrix.append([])\n",
    "            # for every row in the input matrix\n",
    "            for j in range(len(matrix2x2[0])):\n",
    "                # add the inverse value to that inverse_matrix column list\n",
    "                inverse_matrix[i].append(operation_matrix[i][j]*(1/determinant_2x2_val))\n",
    "    except:\n",
    "        print(\"You have not entered a valid 2x2 matrix.\")\n",
    "        return\n",
    "\n",
    "    return inverse_matrix\n",
    "\n",
    "invert_matrix2x2(b)"
   ]
  },
  {
   "cell_type": "code",
   "execution_count": 28,
   "metadata": {},
   "outputs": [
    {
     "data": {
      "text/plain": [
       "True"
      ]
     },
     "execution_count": 28,
     "metadata": {},
     "output_type": "execute_result"
    }
   ],
   "source": [
    "np.allclose(np.linalg.inv(b), invert_matrix2x2(b))"
   ]
  },
  {
   "cell_type": "code",
   "execution_count": 29,
   "metadata": {},
   "outputs": [
    {
     "data": {
      "text/plain": [
       "True"
      ]
     },
     "execution_count": 29,
     "metadata": {},
     "output_type": "execute_result"
    }
   ],
   "source": [
    "np.allclose(np.linalg.inv(X[:2]), invert_matrix2x2(X[:2]))"
   ]
  },
  {
   "cell_type": "markdown",
   "metadata": {},
   "source": [
    "For matrix multiplication the number of rows in the first matrix must be equal to the number of columns of the second:\n",
    "\n",
    "$$ A = \\begin{bmatrix} a_{11} & a_{12} & \\ldots & a_{1n} \\\\ a_{21} & a_{22} & \\ldots & a_{2n} \\\\ \\vdots & \\vdots & \\ddots & \\vdots \\\\ a_{m1} & a_{m2} & \\ldots & a_{mn} \\end{bmatrix} ~~~~~~~~~~ B = \\begin{bmatrix} b_{11} & b_{12} & \\ldots & b_{1p} \\\\ b_{21} & b_{22} & \\ldots & b_{2p} \\\\ \\vdots & \\vdots & \\ddots & \\vdots \\\\ b_{n1} & b_{n2} & \\ldots & b_{np} \\end{bmatrix} $$\n",
    "\n",
    "The first column of C is the first column of B multiplied by each row of A. The second column of C will be the second column of B multiplied by each row of A. This continues for every row and column pair and is the reason the number of rows in the first matrix must be equal to the number of columns of the second:\n",
    "\n",
    "$$\n",
    "C = B~\\times~A = \\begin{bmatrix}\n",
    "  \\begin{array}{cccc}\n",
    "    a_{11} \\cdot b_{11} + \\ldots + a_{1n} \\cdot b_{n1} & a_{11} \\cdot b_{12} + \\ldots + a_{1n} \\cdot b_{n2} & \\ldots & a_{11} \\cdot b_{1p} + \\ldots + a_{1n} \\cdot b_{np} \\\\\n",
    "    a_{21} \\cdot b_{11} + \\ldots + a_{2n} \\cdot b_{n1} & a_{21} \\cdot b_{12} + \\ldots + a_{2n} \\cdot b_{n2} & \\ldots & a_{21} \\cdot b_{1p} + \\ldots + a_{2n} \\cdot b_{np} \\\\\n",
    "    \\vdots & \\vdots & \\ddots & \\vdots \\\\\n",
    "    a_{m1} \\cdot b_{11} + \\ldots + a_{mn} \\cdot b_{n1} & a_{m1} \\cdot b_{12} + \\ldots + a_{mn} \\cdot b_{n2} & \\ldots & a_{m1} \\cdot b_{1p} + \\ldots + a_{mn} \\cdot b_{np}\n",
    "  \\end{array}\n",
    "\\end{bmatrix}\n",
    "$$\n"
   ]
  },
  {
   "cell_type": "code",
   "execution_count": 30,
   "metadata": {},
   "outputs": [
    {
     "data": {
      "text/plain": [
       "[[18, -1], [40, 1], [62, 3]]"
      ]
     },
     "execution_count": 30,
     "metadata": {},
     "output_type": "execute_result"
    }
   ],
   "source": [
    "def matrix_multiplication(matrix_a, matrix_b):\n",
    "    \"\"\"\n",
    "    Multiplies two matrices if the number of columns in matrix a match the number of rows in matrix b.\n",
    "\n",
    "    Args:\n",
    "        matrix_a (list of list(s)): representing a matrix (e.g. of a 2x2 matrix is [[5, 6], [5, 5]])\n",
    "\n",
    "        matrix_b (list of list(s)): representing a matrix (e.g. of a 2x2 matrix is [[5, 6], [5, 5]])\n",
    "\n",
    "    Returns:\n",
    "        result_matrix (list of list(s)): the result matrix from multiplying matrix_a and matrix_b \n",
    "\n",
    "    \"\"\"\n",
    "\n",
    "    try:\n",
    "        # if matrices are compatible to multiply\n",
    "        if len(matrix_a[0]) == len(matrix_b):\n",
    "            # create an empty list of lists with the same number as columns as B\n",
    "            result_matrix = [[] for _ in range(len(matrix_a))]\n",
    "\n",
    "            # for every row in matrix_a\n",
    "            for a_row in range(len(matrix_a)):\n",
    "                # create variable to hold the value for that particular element\n",
    "                element_result = 0\n",
    "\n",
    "                # for every col element of b\n",
    "                for b_col in range(len(matrix_b[0])):\n",
    "                    # and then for every row of a\n",
    "                    for b_row in range(len(matrix_b)):\n",
    "                        try:\n",
    "                            element_result += matrix_a[a_row][b_row] * matrix_b[b_row][b_col]\n",
    "                        except:\n",
    "                            pass\n",
    "                    # add that value to the corresponding place in the output matrix\n",
    "                    result_matrix[a_row].append(element_result)\n",
    "                    element_result = 0\n",
    "\n",
    "        else:\n",
    "            print(\"sorry these are not compatible for multiplication\")\n",
    "            return\n",
    "        \n",
    "    except:\n",
    "        print(\"Please check that you are entering valid matrices and values within.\")\n",
    "        \n",
    "    return result_matrix\n",
    "\n",
    "matrix_multiplication(a32, a)"
   ]
  },
  {
   "cell_type": "code",
   "execution_count": 31,
   "metadata": {},
   "outputs": [
    {
     "data": {
      "text/plain": [
       "array([[ True,  True],\n",
       "       [ True,  True]])"
      ]
     },
     "execution_count": 31,
     "metadata": {},
     "output_type": "execute_result"
    }
   ],
   "source": [
    "matrix_multiplication(transpose(X), X) == np.dot(np.transpose(X), X)"
   ]
  },
  {
   "cell_type": "code",
   "execution_count": 32,
   "metadata": {},
   "outputs": [
    {
     "data": {
      "text/plain": [
       "array([[ True,  True],\n",
       "       [ True,  True]])"
      ]
     },
     "execution_count": 32,
     "metadata": {},
     "output_type": "execute_result"
    }
   ],
   "source": [
    "matrix_multiplication(b, a) == np.dot(b, a)"
   ]
  },
  {
   "cell_type": "code",
   "execution_count": 33,
   "metadata": {},
   "outputs": [
    {
     "data": {
      "text/plain": [
       "array([[ True,  True,  True,  True],\n",
       "       [ True,  True,  True,  True],\n",
       "       [ True,  True,  True,  True],\n",
       "       [ True,  True,  True,  True]])"
      ]
     },
     "execution_count": 33,
     "metadata": {},
     "output_type": "execute_result"
    }
   ],
   "source": [
    "matrix_multiplication(b4, a4) == np.dot(b4, a4)"
   ]
  },
  {
   "cell_type": "code",
   "execution_count": 60,
   "metadata": {},
   "outputs": [],
   "source": [
    "def dot_product(vector_a, vector_b):\n",
    "    \"\"\"\n",
    "    Multiplies a vector by a vector in a dot product operation to produce a scaler\n",
    "\n",
    "    Args:\n",
    "        vector_a (list of ints/floats): representing a vector (e.g. of a vector is [[5, 6, 5, 5]])\n",
    "\n",
    "        vector_b (list of ints/floats): representing a vector (e.g. of a vector is [[5, 6, 5, 5]])\n",
    "\n",
    "    Returns:\n",
    "        scalar (int or float): the result scalar from multiplying vector_a and vector_b \n",
    "\n",
    "    \"\"\"\n",
    "    \n",
    "    try:\n",
    "        # if the vectors are the same size\n",
    "        if len(vector_a) == len(vector_b):\n",
    "            # create a variable to hold the scalar\n",
    "            scalar = 0\n",
    "            # for every element in the vector\n",
    "            for elem in range(len(vector_a)):\n",
    "\n",
    "                scalar += vector_a[elem] * vector_b[elem]\n",
    "        \n",
    "    except:\n",
    "        print(\"Please check that you are entering valid vectors and values within.\")\n",
    "        \n",
    "    return scalar"
   ]
  },
  {
   "cell_type": "code",
   "execution_count": 61,
   "metadata": {},
   "outputs": [
    {
     "data": {
      "text/plain": [
       "[[-99.46431881371245], [564.2038924930494]]"
      ]
     },
     "execution_count": 61,
     "metadata": {},
     "output_type": "execute_result"
    }
   ],
   "source": [
    "def fit(X, y):\n",
    "    X_transposed = transpose(X)\n",
    "    XX = matrix_multiplication(X_transposed, X)\n",
    "    invXX = invert_matrix2x2(XX)\n",
    "    rhs = matrix_multiplication(X_transposed, y)\n",
    "    result = matrix_multiplication(invXX, rhs)\n",
    "\n",
    "    return result\n",
    "\n",
    "weights_from_fit =fit(X.tolist(), y)\n",
    "weights_from_fit"
   ]
  },
  {
   "cell_type": "code",
   "execution_count": 64,
   "metadata": {},
   "outputs": [
    {
     "data": {
      "text/plain": [
       "1452.0963855421733"
      ]
     },
     "execution_count": 64,
     "metadata": {},
     "output_type": "execute_result"
    }
   ],
   "source": [
    "def predict(weights, input):\n",
    "    wT = transpose(weights)\n",
    "    input_as_vector = input\n",
    "    return dot_product(wT[0], input_as_vector)\n",
    "predict(fit(X, y), [1., 2.75])"
   ]
  },
  {
   "cell_type": "code",
   "execution_count": 63,
   "metadata": {},
   "outputs": [
    {
     "data": {
      "text/plain": [
       "[[1464.0],\n",
       " [1394.0],\n",
       " [1357.0],\n",
       " [1293.0],\n",
       " [1256.0],\n",
       " [1254.0],\n",
       " [1234.0],\n",
       " [1195.0],\n",
       " [1159.0],\n",
       " [1167.0],\n",
       " [1130.0],\n",
       " [1075.0],\n",
       " [1047.0],\n",
       " [965.0],\n",
       " [943.0],\n",
       " [958.0],\n",
       " [971.0],\n",
       " [949.0],\n",
       " [884.0],\n",
       " [866.0],\n",
       " [876.0],\n",
       " [822.0],\n",
       " [704.0],\n",
       " [719.0]]"
      ]
     },
     "execution_count": 63,
     "metadata": {},
     "output_type": "execute_result"
    }
   ],
   "source": [
    "y"
   ]
  },
  {
   "cell_type": "code",
   "execution_count": 38,
   "metadata": {},
   "outputs": [],
   "source": [
    "def get_params(X, y):\n",
    "    return fit(X, y)"
   ]
  },
  {
   "cell_type": "markdown",
   "metadata": {},
   "source": [
    "<hr style=\"border:2px solid gray\"> </hr>"
   ]
  },
  {
   "cell_type": "markdown",
   "metadata": {},
   "source": [
    "## Reflection"
   ]
  },
  {
   "cell_type": "markdown",
   "metadata": {},
   "source": [
    "Write your reflection in below cell.\n",
    "\n",
    "Saw in Jason Colemans notebook the use of the all() method to check all cols and rows of a matrix are the same. Never knew about it so will 100% be robbing this idea!\n",
    "\n",
    "Peter O'Mahony used NumPy to test his functions I will do the same."
   ]
  },
  {
   "cell_type": "code",
   "execution_count": 39,
   "metadata": {},
   "outputs": [
    {
     "data": {
      "text/plain": [
       "33948"
      ]
     },
     "execution_count": 39,
     "metadata": {},
     "output_type": "execute_result"
    }
   ],
   "source": [
    "# Hoping that writing out a 3 x 3 will give me more insight into how to do this for larger matrices (fingers crossed emoji) - will not spend much more time on this until I have the rest of this done for a 2x2\n",
    "def determinant_3x3(matrix3x3):\n",
    "\n",
    "    determinant = 0\n",
    "\n",
    "    for i in range(len(matrix3x3)):\n",
    "        if i == 0:\n",
    "            matrix2x2 = [[matrix3x3[i+1][i+1], matrix3x3[i+1][i+2]], [matrix3x3[i+2][i+1], matrix3x3[i+2][i+2]]]\n",
    "            determinant += matrix3x3[i][0]*(determinant_2x2(matrix2x2))\n",
    "        elif i == 1:\n",
    "            matrix2x2 = [[matrix3x3[i-1][i], matrix3x3[i-1][i+1]], [matrix3x3[i+1][i], matrix3x3[i+1][i+1]]]\n",
    "            determinant -= matrix3x3[i][0]*(determinant_2x2(matrix2x2))\n",
    "        elif i == 2:\n",
    "            matrix2x2 = [[matrix3x3[i-2][i-1], matrix3x3[i-2][i]],[matrix3x3[i-1][i-1], matrix3x3[i-1][i]]]\n",
    "            determinant += matrix3x3[i][0]*(determinant_2x2(matrix2x2))\n",
    "\n",
    "    return determinant\n",
    "\n",
    "b = [[4, 56, 1], [3, 6, 84], [9, 22, 7]]\n",
    "determinant_3x3(b)"
   ]
  }
 ],
 "metadata": {
  "kernelspec": {
   "display_name": "Python 3",
   "language": "python",
   "name": "python3"
  },
  "language_info": {
   "codemirror_mode": {
    "name": "ipython",
    "version": 3
   },
   "file_extension": ".py",
   "mimetype": "text/x-python",
   "name": "python",
   "nbconvert_exporter": "python",
   "pygments_lexer": "ipython3",
   "version": "3.11.4"
  }
 },
 "nbformat": 4,
 "nbformat_minor": 2
}
