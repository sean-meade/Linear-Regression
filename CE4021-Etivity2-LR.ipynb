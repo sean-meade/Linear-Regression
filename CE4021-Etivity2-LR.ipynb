{
 "cells": [
  {
   "cell_type": "markdown",
   "metadata": {},
   "source": [
    "## Notebook E-tivity 2 CE4021 Linear Regression"
   ]
  },
  {
   "cell_type": "markdown",
   "metadata": {},
   "source": [
    "Student name: Peter O'Mahony"
   ]
  },
  {
   "cell_type": "markdown",
   "metadata": {},
   "source": [
    "Student ID: 8361967"
   ]
  },
  {
   "cell_type": "markdown",
   "metadata": {},
   "source": [
    "<hr style=\"border:2px solid gray\"> </hr>"
   ]
  },
  {
   "cell_type": "markdown",
   "metadata": {},
   "source": [
    "_The goal of this task is to create your own implementation of linear regression using your own functions to implement the required matrix manipulations._\n",
    "_Inspect the reference implementation and create functions for all the matrix manipulations required to implement the linear regression algorithm._\n",
    "\n",
    "_Use these matrix manipulation functions in a new function that takes the data (X) and outputs (y) and returns the least squares estimate of the linear regression weight vector. Call this function 'fit'._\n",
    "_Create a second function that uses the weights found by the fit method and a number of data points X to create new predictions. Call this function 'predict'._\n",
    "_Finally, create a function that returns the weights found by the fit method. Call this function 'get_params'.\n",
    "\n",
    "_Please note:_\n",
    "\n",
    "_The function to calculate the inverse of a matrix need only be applicable to 2x2 matrices. All other functions should be able to handle matrices of arbitrary sizes._\n",
    "_Error handling is very useful to prevent matrices of incorrect sizes resulting in run-time errors._\n",
    "_Add appropriate comments (doc strings) to the functions you have created._\n",
    "_At this stage you should not create a class to encapsulate your code. Please add this element, if time permits, as part of your reflection._"
   ]
  },
  {
   "cell_type": "markdown",
   "metadata": {},
   "source": [
    "## Initial Thoughts\n",
    "What are the data referring to?\n",
    "\n",
    "I can write a Transpose and Dot function but what is the inverse?\n",
    "\n",
    "What does np.linalg.inv do? It calculates the inverse. \n",
    "\n",
    "Why does the sames linreg_weights function have nested dots and a transpose?\n",
    "\n",
    "## Later Thoughts\n",
    "Somewhere in here implies that to estimate the least squares we use a formula like:\n",
    "$$ (X^T \\cdot X)^{-1} \\cdot X^T \\cdot y$$\n",
    "and I found that in Pep's Lessons video.  It's not clear to me how that formula is derived but I can precipiate from it that there are a few matrix manipulations/functions needed to use the formula:\n",
    "1. Transpose\n",
    "2. Dot\n",
    "3. Inverse\n",
    "\n",
    "and it appears that that is the scope of Part 1 of this E-tivity.  I'm fascinated that there is no sign of a square root or Pythagorus in this and yet we are going to evaluate distances from a line.  A shake of magic no doubt.\n",
    "\n",
    "## Approach\n",
    "I am going to write the functions noted above and then define a collection of tests that uses both them and the numpy versions and compares the results."
   ]
  },
  {
   "cell_type": "markdown",
   "metadata": {},
   "source": [
    "## Imports"
   ]
  },
  {
   "cell_type": "code",
   "execution_count": 1,
   "metadata": {},
   "outputs": [],
   "source": [
    "import numpy as np\n",
    "import matplotlib.pyplot as plt"
   ]
  },
  {
   "cell_type": "markdown",
   "metadata": {},
   "source": [
    "<hr style=\"border:2px solid gray\"> </hr>"
   ]
  },
  {
   "cell_type": "markdown",
   "metadata": {},
   "source": [
    "## Reference Implementation"
   ]
  },
  {
   "cell_type": "code",
   "execution_count": 2,
   "metadata": {},
   "outputs": [],
   "source": [
    "def linreg_weights(X,y):\n",
    "    # Calculation of weights using pseudo-inverse. Note that X needs to contain the bias of 1\n",
    "    return np.linalg.inv((X.T.dot(X))).dot(X.T).dot(y)"
   ]
  },
  {
   "cell_type": "code",
   "execution_count": 3,
   "metadata": {},
   "outputs": [],
   "source": [
    "def linreg_predict(w,X):\n",
    "    # Calculation of outputs given weights and data (X). Note that X needs to contain the bias of 1. \n",
    "    out=[]\n",
    "    for x in X:\n",
    "        out.append(w.T.dot(x))\n",
    "    return np.array(out)"
   ]
  },
  {
   "cell_type": "code",
   "execution_count": 4,
   "metadata": {},
   "outputs": [],
   "source": [
    "def fit():\n",
    "    pass # placeholder"
   ]
  },
  {
   "cell_type": "code",
   "execution_count": 5,
   "metadata": {},
   "outputs": [],
   "source": [
    "def predict():\n",
    "    pass # placeholder"
   ]
  },
  {
   "cell_type": "code",
   "execution_count": 6,
   "metadata": {},
   "outputs": [],
   "source": [
    "def get_params():\n",
    "    pass # placeholder"
   ]
  },
  {
   "cell_type": "code",
   "execution_count": 114,
   "metadata": {},
   "outputs": [],
   "source": [
    "def my_transpose(matrix: list) -> list:\n",
    "    return [[arr[row][col] for row in range(0,len(arr))] for col in range(0,len(arr[0]))]"
   ]
  },
  {
   "cell_type": "code",
   "execution_count": 123,
   "metadata": {},
   "outputs": [
    {
     "name": "stdout",
     "output_type": "stream",
     "text": [
      "arr= [[1, 2, 3, 4, 5], [6, -1, 8, 9, 10]]\n",
      "np_arr= [[ 1  2  3  4  5]\n",
      " [ 6 -1  8  9 10]]\n",
      "myT  arr= [[ 1  6]\n",
      " [ 2 -1]\n",
      " [ 3  8]\n",
      " [ 4  9]\n",
      " [ 5 10]]\n",
      "npT  arr= [[ 1  6]\n",
      " [ 2 -1]\n",
      " [ 3  8]\n",
      " [ 4  9]\n",
      " [ 5 10]]\n",
      "True\n"
     ]
    }
   ],
   "source": [
    "arr = [[1,2,3,4,5],[6,-1,8,9,10]]\n",
    "np_arr = np.array(arr)\n",
    "\n",
    "print('arr=',arr)\n",
    "print('np_arr=',np_arr)\n",
    "print('myT  arr=',np.array(my_transpose(arr)))\n",
    "print('npT  arr=',np_arr.T)\n",
    "print(np.array_equal(np.array(my_transpose(arr)),np_arr.T))\n"
   ]
  },
  {
   "cell_type": "code",
   "execution_count": null,
   "metadata": {},
   "outputs": [],
   "source": [
    "def dim(a): # from https://stackoverflow.com/questions/17531796/find-the-dimensions-of-a-multidimensional-python-array\n",
    "    if not type(a) == list:\n",
    "        return []\n",
    "    return [len(a)] + dim(a[0])"
   ]
  },
  {
   "cell_type": "code",
   "execution_count": 293,
   "metadata": {},
   "outputs": [],
   "source": [
    "def my_dot(M1: list,M2: list) -> list:\n",
    "    # check that M1 rows = M2 cols otherwise raise an error\n",
    "    dim_M1 = dim(M1)\n",
    "    dim_M2 = dim(M2)\n",
    "    print('M1=',dim_M1,'M2=',dim_M2)\n",
    "    if (len(dim_M1) != len(dim_M2)):\n",
    "        print(\"Invalid sizes\", dim_M1,len(dim_M1),dim_M2,len(dim_M2))\n",
    "        \n",
    "    #if (dim_M1[1] != dim_M2[0]):\n",
    "    if (len(M1[0]) != len(M2)):\n",
    "        print(f\"Cols in M1 ({dim_M1[1]}) must match Rows in M2 ({dim_M2[0]})\")\n",
    "        \n",
    "    C = [['' for row in range(0,len(M2[0]))] for col in range(0,len(M1))] # initialise array\n",
    "    D = [[0 for row in range(0,len(M2[0]))] for col in range(0,len(M1))] # initialise array\n",
    "    #print(C,dim(C))\n",
    "   \n",
    "    for row in range(0,len(M1)): # rows from M1\n",
    "        for col in range(0,len(M2[0])): # cols from M2\n",
    "  #          for r1 in range(0,len(M2[0])):\n",
    "                for term in range(0,len(M2)):\n",
    "                    #term=0\n",
    "                    #print(f\"\\nM1[{row}][{term}]={M1[row][term]}\") # here we calc sum of products\n",
    "                    #print(f\"\\nM2[{row}][{term}]={M2[row][term]}\") # here we calc sum of products\n",
    "                    C[row][col] += f\" + A{row+1}{term+1}.B{term+1}{col+1}\" # M1[row][col] * M2[row][col]\n",
    "                    D[row][col] += M1[row][term] * M2[term][col]\n",
    "    print(C)\n",
    "    return D\n"
   ]
  },
  {
   "cell_type": "code",
   "execution_count": 297,
   "metadata": {},
   "outputs": [
    {
     "name": "stdout",
     "output_type": "stream",
     "text": [
      "M1= [2, 2] M2= [2, 2]\n",
      "[[' + A11.B11 + A12.B21', ' + A11.B12 + A12.B22'], [' + A21.B11 + A22.B21', ' + A21.B12 + A22.B22']]\n",
      "[[8, 6], [16, 12]]\n",
      "[[ 8  6]\n",
      " [16 12]]\n"
     ]
    }
   ],
   "source": [
    "arr1 = [[1, 2], [3, 4]]\n",
    "#arr1 = [[1, 2, 3]]\n",
    "arr2 = [[5,6,7,8], [9,10,11,12]]\n",
    "#arr2 = [[5,6], [7,8]]\n",
    "#arr2 = [[4], [5], [6]]\n",
    "\n",
    "arr1 = [[2,2],[4,4]]\n",
    "arr2 = [[1,2],[3,1]]\n",
    "print(my_dot(arr1,arr2))\n",
    "print(np.array(arr1).dot(np.array(arr2)))"
   ]
  },
  {
   "cell_type": "code",
   "execution_count": 290,
   "metadata": {},
   "outputs": [
    {
     "name": "stdout",
     "output_type": "stream",
     "text": [
      "shape (2, 5)\n",
      "True\n"
     ]
    }
   ],
   "source": [
    "def pom_transpose(matrix: np.array) -> np.array:\n",
    "    #print('matrix is\\n',matrix,'\\n has shape ',matrix.shape)\n",
    "    trans = matrix.reshape(matrix.shape[1],matrix.shape[0]).copy()\n",
    "    trans[1][1] = 999\n",
    "    #print('matrix is\\n',matrix,'\\n has shape ',matrix.shape)\n",
    "    \n",
    "    #print('trans is\\n',trans,'\\n has shape ',trans.shape)\n",
    "    #print('max is',trans[2][1])\n",
    "    for i in range(0,matrix.shape[0]):\n",
    "        for j in range(0,matrix.shape[1]):\n",
    "            #print(f\"{i},{j}\", end='')\n",
    "            #print(f\"=> {matrix[i,j]}\")\n",
    "            trans[j][i] = matrix[i][j]\n",
    "    #print('NumPy gives:\\n',matrix.T)\n",
    "    return trans\n",
    "\n",
    "arr = np.array([[1,2,3,4,5],[6,7,8,9,10]])\n",
    "print('shape',arr.shape)\n",
    "\"\"\"\n",
    "res = pom_transpose(arr)\n",
    "print('we give:\\n',res)\n",
    "comp = np.array_equal(res,arr.T)\n",
    "print(comp,res.shape,arr.T.shape)\n",
    "print(res+arr.T)\n",
    "\"\"\"\n",
    "arrT  = pom_transpose(arr)\n",
    "arrT2 = pom_transpose(arrT)\n",
    "comp  = np.array_equal(arr,arrT2)\n",
    "print(comp)\n"
   ]
  },
  {
   "cell_type": "code",
   "execution_count": 10,
   "metadata": {},
   "outputs": [
    {
     "name": "stdout",
     "output_type": "stream",
     "text": [
      "[[ 1  2  3  4  5]\n",
      " [ 6  7  8  9 10]]\n",
      "[[2. 2. 2. 2. 2.]\n",
      " [2. 2. 2. 2. 2.]]\n",
      "[0][0] => 1, 2.0\n",
      "[0][1] => 2, 2.0\n",
      "[0][2] => 3, 2.0\n",
      "[0][3] => 4, 2.0\n",
      "[0][4] => 5, 2.0\n",
      "[1][0] => 6, 2.0\n",
      "[1][1] => 7, 2.0\n",
      "[1][2] => 8, 2.0\n",
      "[1][3] => 9, 2.0\n",
      "[1][4] => 10, 2.0\n"
     ]
    }
   ],
   "source": [
    "def pom_dot(matrix1: np.array, matrix2: np.array) -> np.array:\n",
    "    \"\"\"\n",
    "    Multiply m1 by m2\n",
    "    \n",
    "    Validation: check that the shape of m1 transposed is the shape of m2 i.e. mxn => nxm\n",
    "    \"\"\"\n",
    "    \n",
    "    for i in range(0,matrix1.shape[0]):\n",
    "        for j in range(0,matrix1.shape[1]):\n",
    "            print(f\"[{i}][{j}] => \",end='')\n",
    "            print(f\"{matrix1[i][j]}, {matrix2[i][j]}\")\n",
    "\n",
    "print(arr)\n",
    "arr2 = np.ones((2,5))\n",
    "arr2 *= 2\n",
    "print(arr2)\n",
    "pom_dot(arr,arr2)"
   ]
  },
  {
   "cell_type": "markdown",
   "metadata": {},
   "source": [
    "Load data from file (including bias of 1)"
   ]
  },
  {
   "cell_type": "code",
   "execution_count": 11,
   "metadata": {},
   "outputs": [
    {
     "name": "stdout",
     "output_type": "stream",
     "text": [
      "pom= [[1 2]\n",
      " [5 6]]\n",
      "transposed= [[1 5]\n",
      " [2 6]]\n",
      "dot= [[  2 -10]\n",
      " [  4 -12]]\n"
     ]
    }
   ],
   "source": [
    "# junk - experiments in learning\n",
    "pom = np.array([[1,2],[5,6]])\n",
    "jak = np.array([[2,0],[0,-2]])\n",
    "print('pom=',pom)\n",
    "print('transposed=',pom.T)\n",
    "print('dot=',pom.T.dot(jak))"
   ]
  },
  {
   "cell_type": "code",
   "execution_count": 12,
   "metadata": {},
   "outputs": [
    {
     "name": "stdout",
     "output_type": "stream",
     "text": [
      "[[ 0.84147098  0.90929743]\n",
      " [-0.95892427 -0.2794155 ]]\n",
      "[1 2 0]\n",
      "1 1\n",
      "2 2\n",
      "0 3\n"
     ]
    }
   ],
   "source": [
    "zed = np.sin(pom)\n",
    "print(zed)\n",
    "x = np.array([3, 1, 2])\n",
    "print(np.argsort(x))\n",
    "for n in np.argsort(x):\n",
    "    print(n,x[n]) "
   ]
  },
  {
   "cell_type": "code",
   "execution_count": 13,
   "metadata": {},
   "outputs": [
    {
     "name": "stdout",
     "output_type": "stream",
     "text": [
      "data[0:24,2] [1464. 1394. 1357. 1293. 1256. 1254. 1234. 1195. 1159. 1167. 1130. 1075.\n",
      " 1047.  965.  943.  958.  971.  949.  884.  866.  876.  822.  704.  719.]\n",
      "X= [[1.   2.75]\n",
      " [1.   2.5 ]\n",
      " [1.   2.5 ]\n",
      " [1.   2.5 ]\n",
      " [1.   2.5 ]\n",
      " [1.   2.5 ]\n",
      " [1.   2.5 ]\n",
      " [1.   2.25]\n",
      " [1.   2.25]\n",
      " [1.   2.25]\n",
      " [1.   2.  ]\n",
      " [1.   2.  ]\n",
      " [1.   2.  ]\n",
      " [1.   1.75]\n",
      " [1.   1.75]\n",
      " [1.   1.75]\n",
      " [1.   1.75]\n",
      " [1.   1.75]\n",
      " [1.   1.75]\n",
      " [1.   1.75]\n",
      " [1.   1.75]\n",
      " [1.   1.75]\n",
      " [1.   1.75]\n",
      " [1.   1.75]]\n",
      "\n",
      "y= [[1464.0], [1394.0], [1357.0], [1293.0], [1256.0], [1254.0], [1234.0], [1195.0], [1159.0], [1167.0], [1130.0], [1075.0], [1047.0], [965.0], [943.0], [958.0], [971.0], [949.0], [884.0], [866.0], [876.0], [822.0], [704.0], [719.0]]\n",
      "\n",
      "y\"= [1464. 1394. 1357. 1293. 1256. 1254. 1234. 1195. 1159. 1167. 1130. 1075.\n",
      " 1047.  965.  943.  958.  971.  949.  884.  866.  876.  822.  704.  719.]\n",
      "\n",
      "data[0:24,2] [1464.0, 1394.0, 1357.0, 1293.0, 1256.0, 1254.0, 1234.0, 1195.0, 1159.0, 1167.0, 1130.0, 1075.0, 1047.0, 965.0, 943.0, 958.0, 971.0, 949.0, 884.0, 866.0, 876.0, 822.0, 704.0, 719.0]\n"
     ]
    }
   ],
   "source": [
    "data = np.loadtxt('lr_data.csv', delimiter=',')\n",
    "X = data[:,0:2]\n",
    "print('data[0:24,2]',data[0:24,2])  #pom just column 2\n",
    "#print('range(0,len(data[:,2]))',range(0,len(data[:,2]))) # length of column 2 (why would this be diff to len(data))\n",
    "#print('len(data[:,2])',len(data)) # length of column 2 (why would this be diff to )\n",
    "y= [[data[i,2]] for i in range(0,len(data[:,2]))] # i=0 to 24 so y = data[0:24,2]?\n",
    "\n",
    "print('X=',X)   # X is array of pairs of [1, n] where n is the 2nd column of data\n",
    "print('\\ny=',y) # y is the third column of data in a 2d array\n",
    "print('\\ny\"=',data[0:24,2]) # y is the third columns of data\n",
    "\n",
    "print('\\ndata[0:24,2]',list(data[0:24,2]))\n",
    "#print('X.t=',X.T)"
   ]
  },
  {
   "cell_type": "code",
   "execution_count": 14,
   "metadata": {},
   "outputs": [
    {
     "name": "stdout",
     "output_type": "stream",
     "text": [
      "a= [ 0  1  2  3  4  5  6  7  8  9 10 11]\n",
      "b= range(0, 12)\n",
      "squared [  0   1   4   9  16  25  36  49  64  81 100 121]\n"
     ]
    }
   ],
   "source": [
    "a = np.arange(12)\n",
    "b = range(12)\n",
    "print('a=',a)\n",
    "print('b=',b)\n",
    "a = a**2\n",
    "print('squared',a)\n"
   ]
  },
  {
   "cell_type": "markdown",
   "metadata": {},
   "source": [
    "Apply data to linear regression algorithm to obtain weights"
   ]
  },
  {
   "cell_type": "code",
   "execution_count": 15,
   "metadata": {},
   "outputs": [
    {
     "data": {
      "text/plain": [
       "array([[-99.46431881],\n",
       "       [564.20389249]])"
      ]
     },
     "execution_count": 15,
     "metadata": {},
     "output_type": "execute_result"
    }
   ],
   "source": [
    "weights = linreg_weights(X,y)\n",
    "weights"
   ]
  },
  {
   "cell_type": "code",
   "execution_count": 16,
   "metadata": {},
   "outputs": [
    {
     "data": {
      "text/plain": [
       "(0.0, 3.0, -100.0, 1500.0)"
      ]
     },
     "execution_count": 16,
     "metadata": {},
     "output_type": "execute_result"
    },
    {
     "data": {
      "image/png": "[encoded data removed]",
      "text/plain": [
       "<Figure size 640x480 with 1 Axes>"
      ]
     },
     "metadata": {},
     "output_type": "display_data"
    }
   ],
   "source": [
    "ind = np.arange(0,2.8,0.1)\n",
    "plt.plot(X[:,1],y,'.')\n",
    "plt.plot(ind, ind*weights[1]+weights[0],'r')\n",
    "plt.axis([0, 3, -100, 1500])"
   ]
  },
  {
   "cell_type": "markdown",
   "metadata": {},
   "source": [
    "<hr style=\"border:2px solid gray\"> </hr>"
   ]
  },
  {
   "cell_type": "markdown",
   "metadata": {},
   "source": [
    "## Task"
   ]
  },
  {
   "cell_type": "markdown",
   "metadata": {},
   "source": [
    "You may add as many cells as you require to complete this task."
   ]
  },
  {
   "cell_type": "code",
   "execution_count": null,
   "metadata": {},
   "outputs": [],
   "source": []
  },
  {
   "cell_type": "markdown",
   "metadata": {},
   "source": [
    "<hr style=\"border:2px solid gray\"> </hr>"
   ]
  },
  {
   "cell_type": "markdown",
   "metadata": {},
   "source": [
    "## Reflection"
   ]
  },
  {
   "cell_type": "markdown",
   "metadata": {},
   "source": [
    "Write your reflection in below cell."
   ]
  },
  {
   "cell_type": "code",
   "execution_count": null,
   "metadata": {},
   "outputs": [],
   "source": []
  }
 ],
 "metadata": {
  "kernelspec": {
   "display_name": "Python 3 (ipykernel)",
   "language": "python",
   "name": "python3"
  },
  "language_info": {
   "codemirror_mode": {
    "name": "ipython",
    "version": 3
   },
   "file_extension": ".py",
   "mimetype": "text/x-python",
   "name": "python",
   "nbconvert_exporter": "python",
   "pygments_lexer": "ipython3",
   "version": "3.11.4"
  }
 },
 "nbformat": 4,
 "nbformat_minor": 2
}
