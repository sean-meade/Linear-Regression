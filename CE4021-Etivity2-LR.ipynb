{
 "cells": [
  {
   "cell_type": "markdown",
   "metadata": {},
   "source": [
    "## Notebook E-tivity 2 CE4021 Linear Regression"
   ]
  },
  {
   "cell_type": "markdown",
   "metadata": {},
   "source": [
    "Student name: Bartlomiej Mlynarkiewicz"
   ]
  },
  {
   "cell_type": "markdown",
   "metadata": {},
   "source": [
    "Student ID: 17241782"
   ]
  },
  {
   "cell_type": "markdown",
   "metadata": {},
   "source": [
    "### Task"
   ]
  },
  {
   "cell_type": "markdown",
   "metadata": {},
   "source": [
    "<hr style=\"border:2px solid gray\"> </hr>"
   ]
  },
  {
   "cell_type": "markdown",
   "metadata": {},
   "source": [
    "This notebook contains a reference implementation of linear regression, a simple but very effective machine learning algorithm that we will discuss in more detail during the next semester. \n",
    "\n",
    "Inspect the reference implementation and create functions for all the matrix manipulations required to implement the linear regression algorithm. \n",
    "\n",
    "1. Use these matrix manipulation functions in a new function that takes the data (X) and outputs (y) and returns the least squares estimate of the linear regression weight vector. Call this function `fit`.\n",
    "2. Create a second function that uses the weights found by the fit method and a number of data points X to create new predictions. Call this function `predict`.\n",
    "3. Finally, create a function that returns the weights found by the fit method. Call this function `get_params`."
   ]
  },
  {
   "cell_type": "markdown",
   "metadata": {},
   "source": [
    "### Goal"
   ]
  },
  {
   "cell_type": "markdown",
   "metadata": {},
   "source": [
    "<hr style=\"border:2px solid gray\"> </hr>"
   ]
  },
  {
   "cell_type": "markdown",
   "metadata": {},
   "source": [
    "The goal of this task is to create your own implementation of linear regression using your own functions to implement the required matrix manipulations.\n",
    "\n",
    "**Please note:**\n",
    "\n",
    "- The function to calculate the inverse of a matrix need only be applicable to 2x2 matrices. All other functions should be able to handle matrices of arbitrary sizes.\n",
    "- Error handling is very useful to prevent matrices of incorrect sizes resulting in run-time errors. \n",
    "- Add appropriate comments (doc strings) to the functions you have created.\n",
    "- At this stage you should not create a class to encapsulate your code. Please add this element, if time permits, as part of your reflection. "
   ]
  },
  {
   "cell_type": "markdown",
   "metadata": {},
   "source": [
    "## Imports"
   ]
  },
  {
   "cell_type": "code",
   "execution_count": 350,
   "metadata": {},
   "outputs": [],
   "source": [
    "import csv # import for reading the csv file. However this is not required as the file can be read line by line and spliting it on comma\n",
    "import numpy as np\n",
    "import matplotlib.pyplot as plt"
   ]
  },
  {
   "cell_type": "markdown",
   "metadata": {},
   "source": [
    "If you believe required imports are missing, please contact your moderator."
   ]
  },
  {
   "cell_type": "markdown",
   "metadata": {},
   "source": [
    "<hr style=\"border:2px solid gray\"> </hr>"
   ]
  },
  {
   "cell_type": "markdown",
   "metadata": {},
   "source": [
    "## Reference Implementation"
   ]
  },
  {
   "cell_type": "code",
   "execution_count": 8,
   "metadata": {},
   "outputs": [],
   "source": [
    "def linreg_weights(X,y):\n",
    "    # Calculation of weights using pseudo-inverse. Note that X needs to contain the bias of 1\n",
    "    return np.linalg.inv((X.T.dot(X))).dot(X.T).dot(y)"
   ]
  },
  {
   "cell_type": "code",
   "execution_count": 9,
   "metadata": {},
   "outputs": [],
   "source": [
    "def linreg_predict(w,X):\n",
    "    # Calculation of outputs given weights and data (X). Note that X needs to contain the bias of 1. \n",
    "    out=[]\n",
    "    for x in X:\n",
    "        out.append(w.T.dot(x))\n",
    "    return np.array(out)"
   ]
  },
  {
   "cell_type": "markdown",
   "metadata": {},
   "source": [
    "Load data from file (including bias of 1)"
   ]
  },
  {
   "cell_type": "code",
   "execution_count": 10,
   "metadata": {},
   "outputs": [],
   "source": [
    "data = np.loadtxt('lr_data.csv', delimiter=',')\n",
    "X = data[:,0:2]\n",
    "y= [[data[i,2]] for i in range(0,len(data[:,2]))]"
   ]
  },
  {
   "cell_type": "markdown",
   "metadata": {},
   "source": [
    "Apply data to linear regression algorithm to obtain weights"
   ]
  },
  {
   "cell_type": "code",
   "execution_count": 11,
   "metadata": {},
   "outputs": [
    {
     "data": {
      "text/plain": [
       "array([[-99.46431881],\n",
       "       [564.20389249]])"
      ]
     },
     "execution_count": 11,
     "metadata": {},
     "output_type": "execute_result"
    }
   ],
   "source": [
    "weights = linreg_weights(X,y)\n",
    "weights"
   ]
  },
  {
   "cell_type": "code",
   "execution_count": 12,
   "metadata": {},
   "outputs": [
    {
     "data": {
      "text/plain": [
       "(0.0, 3.0, -100.0, 1500.0)"
      ]
     },
     "execution_count": 12,
     "metadata": {},
     "output_type": "execute_result"
    },
    {
     "data": {
      "image/png": "[encoded data removed]",
      "text/plain": [
       "<Figure size 432x288 with 1 Axes>"
      ]
     },
     "metadata": {
      "needs_background": "light"
     },
     "output_type": "display_data"
    }
   ],
   "source": [
    "ind = np.arange(0,2.8,0.1)\n",
    "plt.plot(X[:,1],y,'.')\n",
    "plt.plot(ind, ind*weights[1]+weights[0],'r')\n",
    "plt.axis([0, 3, -100, 1500])"
   ]
  },
  {
   "cell_type": "markdown",
   "metadata": {},
   "source": [
    "<hr style=\"border:2px solid gray\"> </hr>"
   ]
  },
  {
   "cell_type": "markdown",
   "metadata": {},
   "source": [
    "## Task"
   ]
  },
  {
   "cell_type": "markdown",
   "metadata": {},
   "source": [
    "## Linear regression\n",
    "\n",
    "Linear regression attempts to model the relationship between two variables by fitting a linear equation to observed data. One variable is considered to be an explanatory variable, and the other is considered to be a dependent variable. For example, a modeler might want to relate the weights of individuals to their heights using a linear regression model.\n",
    "\n",
    "The example of calculating linear regression using the `fit` and `predict` method can be found below."
   ]
  },
  {
   "cell_type": "markdown",
   "metadata": {},
   "source": [
    "### Data representation\n",
    "\n",
    "Since a matrix can be represented as 2D array, in Python a matrix is represented as `list[list[type]]` for the purpose of the is e-tivity. I've opted to use float as the type.\n",
    "\n",
    "Hence matrix will be represented as `list[list[float]]`"
   ]
  },
  {
   "cell_type": "markdown",
   "metadata": {},
   "source": [
    "### Matrix validation functions"
   ]
  },
  {
   "cell_type": "code",
   "execution_count": 316,
   "metadata": {},
   "outputs": [],
   "source": [
    "def is_matrix_valid(mtx: list[list[float]]) -> bool:\n",
    "    \"\"\"\n",
    "    Parameters\n",
    "    ----------\n",
    "    mtx : list[list[float]]\n",
    "        A matrix of dimension m*n.\n",
    "            \n",
    "    Returns\n",
    "    -------\n",
    "    bool\n",
    "        Returns True if a matrix has all rows of the same length.\n",
    "    \"\"\" \n",
    "    cls_count = len(mtx[0])\n",
    "    return all( len(row) == cls_count for row in mtx )"
   ]
  },
  {
   "cell_type": "code",
   "execution_count": 317,
   "metadata": {},
   "outputs": [],
   "source": [
    "def is_matrix_square(mtx: list[list[float]]) -> bool:\n",
    "    \"\"\"\n",
    "    Parameters\n",
    "    ----------\n",
    "    mtx : list[list[float]]\n",
    "        A matrix of dimension m*n.\n",
    "            \n",
    "    Returns\n",
    "    -------\n",
    "    bool\n",
    "        Returns True if a matrix is square. Rows count are equal to column count.\n",
    "    \"\"\" \n",
    "    return list({len(row) for row in mtx})[0] == len(mtx)"
   ]
  },
  {
   "cell_type": "code",
   "execution_count": 318,
   "metadata": {},
   "outputs": [],
   "source": [
    "def get_matrix_shape(mtx: list[list[float]]) -> tuple:\n",
    "    \"\"\"\n",
    "    Parameters\n",
    "    ----------\n",
    "    mtx : list[list[float]]\n",
    "        A matrix of dimension m*n.\n",
    "            \n",
    "    Returns\n",
    "    -------\n",
    "    tuple\n",
    "        Returns a tuple with column count and a list of row lenghts.\n",
    "    \"\"\" \n",
    "    return (len(mtx), [len(row) for row in mtx])"
   ]
  },
  {
   "cell_type": "code",
   "execution_count": 319,
   "metadata": {},
   "outputs": [],
   "source": [
    "def validate_matrix(mtx: list[list[float]], check_if_square: bool = False) -> None:\n",
    "    \"\"\"\n",
    "    Validates the given matrix, if it's in correct shape and optionaly if its a square.\n",
    "    \n",
    "    Parameters\n",
    "    ----------\n",
    "    mtx : list[list[float]]\n",
    "        A matrix of dimension m*n.\n",
    "        \n",
    "    check_if_square: bool, optional\n",
    "        Optional to check if a given matrix is square: m*n = n*n.\n",
    "            \n",
    "    Returns\n",
    "    -------\n",
    "    None\n",
    "    \n",
    "    Raises\n",
    "    ------\n",
    "    ValueError\n",
    "        If matrix is in invalid shape.\n",
    "    \"\"\" \n",
    "    mtx_shape = get_matrix_shape(mtx)\n",
    "    \n",
    "    if not is_matrix_valid(mtx):\n",
    "        raise ValueError(f\"Matrix is in invalid shape.\\nRow count: {matrix_shape[0]}\\nColumn count: {matrix_shape[1]}\")\n",
    "        \n",
    "    if check_if_square:\n",
    "        if not is_matrix_square(mtx):\n",
    "            raise ValueError(f\"Matrix must be a square.\\nRow count: {matrix_shape[0]}\\nColumn count: {matrix_shape[1]}\")"
   ]
  },
  {
   "cell_type": "markdown",
   "metadata": {},
   "source": [
    "Test the above functions."
   ]
  },
  {
   "cell_type": "code",
   "execution_count": 320,
   "metadata": {},
   "outputs": [
    {
     "name": "stdout",
     "output_type": "stream",
     "text": [
      "Error: Matrix must be a square.\n",
      "Row count: 2\n",
      "Column count: [3, 3]\n"
     ]
    }
   ],
   "source": [
    "matrix_one = [[-1, 0, 3], [1, 1, 3]]\n",
    "matrix_two = [[-1, 0], [1, 1]]\n",
    "\n",
    "# Test 1: Test if validate_matrix raises ValueError if the given matrix is not a square.\n",
    "try:\n",
    "    validate_matrix(matrix_one, check_if_square = True)\n",
    "except ValueError as e:\n",
    "    print(f\"Error: {e}\")\n",
    "    \n",
    "# Test 2: Test if validate_matrix doesn't raise ValueError if the given matrix is a square.\n",
    "try:\n",
    "    validate_matrix(matrix_two, check_if_square = True)\n",
    "except ValueError as e:\n",
    "    print(f\"Error: {e}\")\n",
    "    \n",
    "# Test 3: Test validate_matrix return None if the matrix is valid.\n",
    "matrix_valid = validate_matrix(matrix_one)\n",
    "assert matrix_valid == None\n",
    "\n",
    "# Test 4: Test if get_matrix_shape returns the correct values.\n",
    "shape_of_matrix = (2, [3, 3])\n",
    "mtx_shape = get_matrix_shape(matrix_one)\n",
    "assert mtx_shape == shape_of_matrix\n",
    "\n",
    "# Test 5: Test if is_matrix_square returns True if matrix is a square.\n",
    "is_matrix_a_square = is_matrix_square(matrix_two)\n",
    "assert is_matrix_a_square == True\n",
    "\n",
    "# Test 6: Test if is_matrix_square returns False if matrix is not a square.\n",
    "is_matrix_a_square = is_matrix_square(matrix_one)\n",
    "assert is_matrix_a_square == False"
   ]
  },
  {
   "cell_type": "markdown",
   "metadata": {},
   "source": [
    "### Matrix opertaion functions\n",
    "\n",
    "For the purpose of this e-tivity only the following three matrix opertaion functions are required:\n",
    "\n",
    "* **Matrix multiplication**\n",
    "* **Transposing a matrix**\n",
    "* **Inversing a matrix**\n",
    "\n",
    "**Note:** as outlined in the task section of the e-tivity only supporting the inverse of 2x2 matrix dimension is required. "
   ]
  },
  {
   "attachments": {},
   "cell_type": "markdown",
   "metadata": {},
   "source": [
    "#### Matrix multiplication\n",
    "\n",
    "$$\n",
    "A = \n",
    "\\left(\\begin{array}{cc} \n",
    "a & b\\\\\n",
    "c & d\n",
    "\\end{array}\\right)\n",
    "$$\n",
    "\n",
    "$$\n",
    "B = \n",
    "\\left(\\begin{array}{cc} \n",
    "e & f\\\\\n",
    "g & h\n",
    "\\end{array}\\right)\n",
    "$$ \n",
    " \n",
    "Then Matrix C = AB is denoted by\n",
    "\n",
    "$$\n",
    "C = \n",
    "\\left(\\begin{array}{cc} \n",
    "a(e) + b(g) & a(f) + b(h)\\\\\n",
    "c(e) + d(g) & c(f) + d(h)\n",
    "\\end{array}\\right)\n",
    "$$  \n",
    " \n",
    "An element in matrix C where C is the multiplication of Matrix A X B."
   ]
  },
  {
   "cell_type": "code",
   "execution_count": 360,
   "metadata": {},
   "outputs": [],
   "source": [
    "def matrix_multiplication(mtx_a: list[list[float]], mtx_b: list[list[float]]) -> list[list[float]]:\n",
    "    \"\"\"\n",
    "    Multiplies the elements of matrix a and matrix b.\n",
    "    \n",
    "    Parameters\n",
    "    ----------\n",
    "    mtx_a : list[list[float]]\n",
    "        A matrix of dimension m*n\n",
    "        \n",
    "    mtx_b : list[list[float]]\n",
    "        A matrix of dimension m*n\n",
    "        \n",
    "    Returns\n",
    "    -------\n",
    "    list[list[float]]\n",
    "        Returns the resultant matrix of matrix multiplication.\n",
    "        \n",
    "    Raises\n",
    "    ------\n",
    "    ValueError\n",
    "        If the the number of columns in matrix A is not equal to the number of rows in matrix B.\n",
    "    \"\"\"\n",
    "    \n",
    "    validate_matrix(mtx_a)\n",
    "    \n",
    "    validate_matrix(mtx_b)\n",
    "    \n",
    "    if len(mtx_a[0]) != len(mtx_b):\n",
    "        raise ValueError(\"\"\"\n",
    "        The number of columns in matrix A must be the same\n",
    "        as the number of rows in matrix B for matrix multiplication to be possible.\n",
    "        \"\"\")\n",
    "    \n",
    "    return [[sum(mtx_a[i][k] * mtx_b[k][j] for k in range(len(mtx_b))) \n",
    "             for j in range(len(mtx_b[0]))] \n",
    "             for i in range(len(mtx_a))]"
   ]
  },
  {
   "cell_type": "markdown",
   "metadata": {},
   "source": [
    "#### Matrix transponse\n",
    "\n",
    "The transpose of a matrix is found by swapping the row and column indices of each element, effectively flipping the matrix over its diagonal.\n",
    "\n",
    "If the rows and columns of a matrix A are interchanged (so that the first row becomes the first column, the second row becomes the second column, and so on) we obtain what is called the transpose of A.\n",
    "\n",
    "$$\n",
    "A = \n",
    "\\left(\\begin{array}{cc} \n",
    "a & b\\\\\n",
    "c & d\n",
    "\\end{array}\\right)\n",
    "$$ \n",
    "\n",
    "**The transpose of A is denoted by:**\n",
    "\n",
    "$$\n",
    "A^T =\n",
    "\\left(\\begin{array}{cc} \n",
    "a & c\\\\ \n",
    "b & d\n",
    "\\end{array}\\right)\n",
    "$$"
   ]
  },
  {
   "cell_type": "code",
   "execution_count": 361,
   "metadata": {},
   "outputs": [],
   "source": [
    "def transpose_matrix(mtx: list[list[float]]) -> list[list[float]]:\n",
    "    \"\"\"\n",
    "    Transposes a matrix by switching its rows with its columns.\n",
    "    \n",
    "    Parameters\n",
    "    ----------\n",
    "    mtx_a : list[list[float]]\n",
    "        A matrix of dimension m*n\n",
    "        \n",
    "    Returns\n",
    "    -------\n",
    "    list[list[float]]\n",
    "        Returns the transposed matrix.\n",
    "        \n",
    "    Raises\n",
    "    ------\n",
    "    ValueError\n",
    "        If matrix is not in valid shape. Rows length differ.\n",
    "    \"\"\"\n",
    "    validate_matrix(mtx)\n",
    "    \n",
    "    return [[mtx[b][a] for b in range(len(mtx))] for a in range(len(mtx[0]))]  "
   ]
  },
  {
   "cell_type": "markdown",
   "metadata": {},
   "source": [
    "#### Matrix Inverse\n",
    "\n",
    "The inverse of a square matrix A, sometimes called a reciprocal matrix, is a matrix $ A^{-1} $ such that $ A*A^{-1} = I $ where $ I $ is the identity matrix.\n",
    "\n",
    "The determinant of A is a scalar value and is given by:\n",
    "\n",
    "$$ |A| = ad - bc $$\n",
    "\n",
    "A square matrix A has an inverse if the determinant $ |A|\\neq0 $. Otherwise the matrix is not reversible.\n",
    "\n",
    "The so-called invertible matrix theorem is major result in linear algebra which associates the existence of a matrix inverse with a number of other equivalent properties. A matrix possessing an inverse is called nonsingular, or invertible.\n",
    "\n",
    "**For a 2x2 matrix**\n",
    "\n",
    "$$\n",
    "A = \n",
    "\\left(\\begin{array}{cc} \n",
    "a & b\\\\\n",
    "c & d\n",
    "\\end{array}\\right)\n",
    "$$ \n",
    "\n",
    "the matrix inverse is\n",
    "\n",
    "$$\n",
    "A^{-1} = \\frac{1}{|A|} \n",
    "\\left(\\begin{array}{cc} \n",
    "d & -b\\\\\n",
    "-c & a\n",
    "\\end{array}\\right)\n",
    "$$ "
   ]
  },
  {
   "cell_type": "code",
   "execution_count": 369,
   "metadata": {},
   "outputs": [],
   "source": [
    "def inverse_matrix(mtx: list[list[float]]) -> list[list[float]]:\n",
    "    \"\"\"\n",
    "    Inverses a matrix by dividing each element of the matrix by the determinant of the matrix. Switiching a and d, negating c and b.\n",
    "    If the the determinant is 0 then a inverse doesn't exist.\n",
    "    \n",
    "    Parameters\n",
    "    ----------\n",
    "    mtx_a : list[list[float]]\n",
    "        A matrix of dimension m*n.\n",
    "        \n",
    "    Returns\n",
    "    -------\n",
    "    list[list[float]]\n",
    "        Returns the inversed matrix.\n",
    "        \n",
    "    Raises\n",
    "    ------\n",
    "    ValueError\n",
    "        If matrix is not in valid shape or if its determinant is equal to 0.\n",
    "    \"\"\"\n",
    "    matrix_shape = get_matrix_shape(mtx)\n",
    "        \n",
    "    validate_matrix(mtx, check_if_square=True)\n",
    "\n",
    "    if not len(mtx) == 2 and len(mtx[0]) == 2:\n",
    "        raise ValueError(\"Matrix must be of size 2x2.\\nRow count: {matrix_shape[0]}\\nColumn count: {matrix_shape[1]}\")\n",
    "        \n",
    "    a, b, c, d = mtx[0][0], mtx[0][1], mtx[1][0], mtx[1][1]\n",
    "    # Calculate the determinant of the matrix det = ad - bc.\n",
    "    dt = (a * d) - (b * c)\n",
    "    \n",
    "    if not dt:\n",
    "        raise ValueError(\"Matrix is not reversible. Its determinant is zero. ad - bc = 0\")\n",
    "    \n",
    "    # Divide each element of the original matrix by the determinant to obtain the elements of the inverse matrix.\n",
    "    return [[d / dt, -b / dt], [-c / dt, a / dt]]"
   ]
  },
  {
   "cell_type": "markdown",
   "metadata": {},
   "source": [
    "#### Test the above functions:\n",
    "\n",
    "* `inverse_matrix`\n",
    "* `transpose_matrix`\n",
    "* `matrix_multiplication`"
   ]
  },
  {
   "cell_type": "code",
   "execution_count": 375,
   "metadata": {},
   "outputs": [
    {
     "name": "stdout",
     "output_type": "stream",
     "text": [
      "Error: \n",
      "        The number of columns in matrix A must be the same\n",
      "        as the number of rows in matrix B for matrix multiplication to be possible.\n",
      "        \n"
     ]
    }
   ],
   "source": [
    "matrix_one = [[-1, 0], [1, 1]]\n",
    "matrix_two = [[1.0, 2.0], [3.0, 4.0]]\n",
    "matrix_three = [[1.0, 2.0, 3.0], [4.0, 5.0, 6.0], [7.0,8.0,9.0], [10.0,11.0,12.0]]\n",
    "\n",
    "# Test 1: Test if matrix_multiplication multiplies matrices correctly.\n",
    "mtx = matrix_multiplication(matrix_one, matrix_two)\n",
    "assert mtx == [[-1.0, -2.0], [4.0, 6.0]]\n",
    "\n",
    "# Test 2: Test if matrix_multiplication raises ValueError if the row count of matrix A not equal column count of matrix B.\n",
    "try:\n",
    "    mtx = matrix_multiplication(matrix_one,matrix_three)\n",
    "except ValueError as e:\n",
    "    print(f\"Error: {e}\")\n",
    "    \n",
    "# Test 3: Test if transpose_matrix computes the transpose of a matrix correctly.\n",
    "inverse_of_x = inverse_matrix(matrix_one)\n",
    "assert inverse_of_x == [[-1.0, -0.0], [1.0, 1.0]]\n",
    "\n",
    "# Test 4: Test if multiplying the transpose of the matrix by its self results in the identity matrix.\n",
    "identity_matirx = matrix_multiplication(matrix_one, inverse_of_x)\n",
    "assert identity_matirx == [[1.0, 0.0], [0.0, 1.0]]"
   ]
  },
  {
   "cell_type": "markdown",
   "metadata": {},
   "source": [
    "#### Dot product\n",
    "\n",
    "The dot product, also called scalar product, is a measure of how closely two vectors align, in terms of the directions they point. The measure is a scalar number that can be used to compare the two vectors and to understand the impact of repositioning one or both of them. The dot product  of two vectors is the sum of the products of corresponding components.\n",
    "\n",
    "$$\n",
    "v1 = \n",
    "\\left(\\begin{array}{cc} \n",
    "4 & 6 & 6\\\\\n",
    "\\end{array}\\right) \n",
    "$$ \n",
    "$$\n",
    "v2 = \n",
    "\\left(\\begin{array}{cc} \n",
    "6 & 5 & 6\\\\\n",
    "\\end{array}\\right) \n",
    "$$ \n",
    "$$\n",
    "v1 * v2 = \\left(\\begin{array}{cc} \n",
    "4*6 & 6 * 5 & 6 * 6\\\\\n",
    "\\end{array}\\right) \n",
    "= 96\n",
    "$$ "
   ]
  },
  {
   "cell_type": "code",
   "execution_count": 395,
   "metadata": {},
   "outputs": [],
   "source": [
    " def dot_product(vct_a: list[float], vct_b: list[float]) -> float:\n",
    "    \"\"\"\n",
    "    Calculates the dot product (scalar product) of the two given vectors.\n",
    "    \n",
    "    Parameters\n",
    "    ----------\n",
    "    vct_a : list[float]\n",
    "        A vector of length m.\n",
    "        \n",
    "    vct_b : list[float]\n",
    "        A vector of length m.\n",
    "        \n",
    "    Returns\n",
    "    -------\n",
    "    float\n",
    "        Returns the dot product (scalar product) of the two given vectors.\n",
    "        \n",
    "    Raises\n",
    "    ------\n",
    "    ValueError\n",
    "        If the vectors are not of the same length.\n",
    "    \"\"\"\n",
    "    if len(vct_a) != len(vct_b):\n",
    "        raise ValueError(\"Vector A and vector B must be of the same length.\")\n",
    "        \n",
    "    return sum([i*j for (i, j) in zip(vct_a, vct_b)])"
   ]
  },
  {
   "cell_type": "code",
   "execution_count": 396,
   "metadata": {},
   "outputs": [
    {
     "name": "stdout",
     "output_type": "stream",
     "text": [
      "ERROR: Vector A and vector B must be of the same length.\n"
     ]
    }
   ],
   "source": [
    "v1 = [4, 6, 7]\n",
    "v2 = [6, 5, 6]\n",
    "\n",
    "# Test 1: Test that dot_product multiplies two given vectors correctly.\n",
    "r1 = dot_product(v1, v2)\n",
    "assert r1 == 96\n",
    "\n",
    "# Test 2: Test that dot_product raises ValueError if two given vectors are of different sizes.\n",
    "v1 = [1, 2]\n",
    "v2 = [4, 5, 6]\n",
    "try:\n",
    "    dot_product(v1, v2)\n",
    "except ValueError as e:\n",
    "    print(f\"ERROR: {e}\")"
   ]
  },
  {
   "cell_type": "code",
   "execution_count": null,
   "metadata": {},
   "outputs": [],
   "source": [
    "def is_val_a_matrix(val) -> bool:\n",
    "    \"\"\"\n",
    "    Checks if val is a valid matirx\n",
    "    \n",
    "    Parameters\n",
    "    ----------\n",
    "    val\n",
    "        Value passed to be checked if its a matrix - a list of lists.\n",
    "        \n",
    "    Returns\n",
    "    -------\n",
    "    bool\n",
    "        Returns True if value passed if a list of lists.\n",
    "    \"\"\"\n",
    "    if not val or not isinstance(val, list):\n",
    "        return False\n",
    "    \n",
    "    return all(isinstance(sublist, list) and len(sublist) == len(val[0]) for sublist in val)"
   ]
  },
  {
   "cell_type": "code",
   "execution_count": null,
   "metadata": {},
   "outputs": [],
   "source": [
    "def list_to_matrix(lst: list[float]) -> list[list[float]]:\n",
    "    \"\"\"\n",
    "    Converts a list to a list of list - matrix.\n",
    "    \n",
    "    Parameters\n",
    "    ----------\n",
    "    lst : list[float]\n",
    "        List of values to be converted to a matrix.\n",
    "        \n",
    "    Returns\n",
    "    -------\n",
    "    list[list[float]]\n",
    "        Returns a list to be converted to a matrix.\n",
    "    \"\"\"\n",
    "    return [[x] for x in lst]"
   ]
  },
  {
   "cell_type": "markdown",
   "metadata": {},
   "source": [
    "### Finding the weights example:\n",
    "\n",
    "Given X and y, calculate the weights, w using the pseudo-inverse approach described above. \n",
    "\n",
    "$$\n",
    "X = \n",
    "\\left(\\begin{array}{cc} \n",
    "1 & 1\\\\\n",
    "1 & 2\\\\\n",
    "1 & 3\n",
    "\\end{array}\\right)\n",
    "$$\n",
    "\n",
    "$$\n",
    "y = \\left(\\begin{array}{cc} \n",
    "3\\\\\n",
    "7\\\\\n",
    "11\n",
    "\\end{array}\\right)\n",
    "$$ \n",
    "\n",
    "\n",
    "**First step is to find the Transpose of X:**\n",
    "\n",
    "$$\n",
    "X^T = \n",
    "\\left(\\begin{array}{cc} \n",
    "1 & 1 & 1\\\\\n",
    "1 & 2 & 3\n",
    "\\end{array}\\right)\n",
    "$$ \n",
    "\n",
    "**Once the transpose of X has been found. We multiply X by its transpose, $ X^T $:**\n",
    "\n",
    "$$\n",
    "X^TX = \n",
    "\\left(\\begin{array}{cc} \n",
    "1 & 1 & 1\\\\\n",
    "1 & 2 & 3\n",
    "\\end{array}\\right)\n",
    "\\left(\\begin{array}{cc} \n",
    "1 & 1\\\\\n",
    "1 & 2\\\\\n",
    "1 & 3\n",
    "\\end{array}\\right)\n",
    "= \\left(\\begin{array}{cc} \n",
    "3 & 6\\\\\n",
    "6 & 14\n",
    "\\end{array}\\right)\n",
    "$$ \n",
    "\n",
    "**Then calculate the inverse, $ X^TX^{−1}:$**\n",
    "\n",
    "$$\n",
    "X^TX^{−1} = \\frac{1}{3.14 - 6.6}\\left(\\begin{array}{cc} \n",
    "14 & - 6\\\\\n",
    "- 6 & 3\n",
    "\\end{array}\\right)\n",
    "$$ \n",
    "\n",
    "**Once the inverse has been found of $ X^TX^{−1} $ find the dot product of, $ X^Ty$:**\n",
    "\n",
    "$$\n",
    "X^TXy = \\left(\\begin{array}{cc} \n",
    "1 & 1 & 1\\\\\n",
    "1 & 2 & 3\n",
    "\\end{array}\\right)\n",
    "\\left(\\begin{array}{cc} \n",
    "3\\\\\n",
    "7\\\\\n",
    "11\n",
    "\\end{array}\\right)\n",
    "= \\left(\\begin{array}{cc} \n",
    "21\\\\\n",
    "50\n",
    "\\end{array}\\right)\n",
    "$$ \n",
    "\n",
    "**Lastly we find the weight, $w$ by finding the dot product of $ (X^TX^{−1})X^Ty$:**\n",
    "\n",
    "$$\n",
    "w = (X^TX^{−1})X^Ty = \\left(\\begin{array}{cc} \n",
    "14 & - 6\\\\\n",
    "- 6 & 3\n",
    "\\end{array}\\right)\\left(\\begin{array}{cc} \n",
    "21\\\\\n",
    "50\n",
    "\\end{array}\\right)\n",
    "=\\left(\\begin{array}{cc} \n",
    "-1\\\\\n",
    "4\n",
    "\\end{array}\\right)\n",
    "$$ \n",
    "\n",
    "**These found weights $w_0 = -1$ and $ w_1 = 4$** can be used for predictions of new data points on a straight line using the below equation of the straight line: $$ y = wx = w_0 + w_1x_1$$"
   ]
  },
  {
   "cell_type": "code",
   "execution_count": 397,
   "metadata": {},
   "outputs": [],
   "source": [
    " def get_params(x: list[list[float]], y: list[float]) -> list[float]:\n",
    "    \"\"\"\n",
    "    Weights calculated by the fit method.\n",
    "    \n",
    "    Parameters\n",
    "    x : list[list[float]]\n",
    "        A two 2d array of data points.\n",
    "        \n",
    "    y : list[float]\n",
    "        A list of weights found by the fit method.\n",
    "        \n",
    "    Returns\n",
    "    -------\n",
    "    list[float]\n",
    "        Returns a list of weights calculated by the fit method.\n",
    "    \"\"\"\n",
    "    return fit(x, y)"
   ]
  },
  {
   "cell_type": "code",
   "execution_count": 398,
   "metadata": {},
   "outputs": [],
   "source": [
    " def predict(x: list[list[float]], weights: list[float]) -> list[float]:\n",
    "    \"\"\"\"\n",
    "    Yields a list of predictions based on the data points in X.\n",
    "    \n",
    "    Parameters\n",
    "    ----------\n",
    "    x : list[list[float]]\n",
    "        A two 2d array of data points.\n",
    "        \n",
    "    weights : list[float]\n",
    "        A list of weights found by the fit method.\n",
    "        \n",
    "    Returns\n",
    "    -------\n",
    "    list[float]\n",
    "        Returns a list of the dot products (predictions) of rows in X multiplied by the weigh vector.\n",
    "        \n",
    "    Raises\n",
    "    ------\n",
    "    ValueError\n",
    "        If the vectors are not of the same length.\n",
    "    \"\"\"\n",
    "    return [dot_product(row, weights) for row in x]"
   ]
  },
  {
   "cell_type": "code",
   "execution_count": 401,
   "metadata": {},
   "outputs": [],
   "source": [
    "def fit(x: list[list[float]], y: list[float]) -> list[float]:\n",
    "    \"\"\"\"\n",
    "    Calculates least squares estimate of the linear regression weight vector using x and y.\n",
    "    \n",
    "    Parameters\n",
    "    ----------\n",
    "    x : list[list[float]]\n",
    "        A two 2d array of data points.\n",
    "        \n",
    "    y : list[float]\n",
    "        A list of weights found by the fit method.\n",
    "        \n",
    "    Returns\n",
    "    -------\n",
    "    list[float]\n",
    "        Returns a list of weights.\n",
    "        \n",
    "    Raises\n",
    "    ------\n",
    "    ValueError\n",
    "        If the number of rows in x is not equal to the number of elements in y.\n",
    "    \"\"\"\n",
    "    if len(x) != len(y):\n",
    "        raise ValueError(f\"Number of rows in x must be the same as the number of elements in y. No of rows in x: {len(x)}\\nSize of y: {len(y)}\\n\")\n",
    "        \n",
    "    # Calculate the transpose of x\n",
    "    transpose_of_x = transpose_matrix(x)\n",
    "    \n",
    "    # Calulcate the transpose of x by x\n",
    "    xtx = matrix_multiplication(transpose_of_x, x)\n",
    "\n",
    "    # Inverse the result of x^T * x\n",
    "    xtx_inv = inverse_matrix(xtx)\n",
    "\n",
    "    # Compute the matrix using the transpose of x and list of y converted to matrix\n",
    "    # Checks if y is a matrix an converts if not\n",
    "    xty = matrix_multiplication(transpose_of_x, list_to_matrix(y) if not is_val_a_marix(y) else y)\n",
    "\n",
    "    # Calculate the least squares estimate of the linear regression weight vector\n",
    "    weights = matrix_multiplication(xtx_inv, xty)\n",
    "\n",
    "    return [row[0] for row in weights]"
   ]
  },
  {
   "cell_type": "code",
   "execution_count": 402,
   "metadata": {},
   "outputs": [
    {
     "name": "stdout",
     "output_type": "stream",
     "text": [
      "Weights: [-1.0, 4.0]\n",
      "Predictions: [3.0, 7.0, 11.0]\n"
     ]
    }
   ],
   "source": [
    "x = [[1, 1], [1, 2], [1, 3]]  \n",
    "y = [3, 7, 11] \n",
    "\n",
    "# Caluclate and return the weights found by the fit method\n",
    "weights = get_params(x,y)\n",
    "\n",
    "# Predict with the obtained weights\n",
    "predictions = predict(x, weights)\n",
    "\n",
    "print(\"Weights:\", weights)\n",
    "print(\"Predictions:\", predictions)"
   ]
  },
  {
   "cell_type": "markdown",
   "metadata": {},
   "source": [
    "<hr style=\"border:2px solid gray\"> </hr>"
   ]
  },
  {
   "cell_type": "markdown",
   "metadata": {},
   "source": [
    "### Read CSV file\n",
    "\n",
    "This function reads the csv file using csv lib. However instead of using the csv lib, I could have also read the csv line by line and have it split on comma."
   ]
  },
  {
   "cell_type": "code",
   "execution_count": 403,
   "metadata": {},
   "outputs": [],
   "source": [
    " def open_file(file_name:str) -> (list[list[float], list[float]]):\n",
    "    \"\"\"\"\n",
    "    Opens and reds csv file of data points.\n",
    "    \n",
    "    Parameters\n",
    "    ----------\n",
    "    file_name: str\n",
    "        Name of the CSV file to be read.\n",
    "        \n",
    "    Returns\n",
    "    -------\n",
    "    tuple(list[list[float], list[float]])\n",
    "        Returns a tuple of x data points and y values.\n",
    "    \"\"\"\n",
    "    x = []\n",
    "    y = []\n",
    "\n",
    "    try:\n",
    "        with open(file_name, 'r', newline='') as file:\n",
    "            reader = csv.reader(file)\n",
    "            for row in reader:\n",
    "                values = [float(value) for value in row]\n",
    "                x.append(values[:-1])\n",
    "                y.append(values[-1])\n",
    "    except FileNotFoundError:\n",
    "        print(f\"{file_name} not found.\")\n",
    "    except Exception as e:\n",
    "        print(f\"Error reading {file_name}: {e}\")\n",
    "\n",
    "    return (x, y)"
   ]
  },
  {
   "cell_type": "code",
   "execution_count": 405,
   "metadata": {},
   "outputs": [
    {
     "name": "stdout",
     "output_type": "stream",
     "text": [
      "Weights: [-99.46431881371245, 564.2038924930494]\n",
      "Predictions: [1452.0963855421733, 1311.045412418911, 1311.045412418911, 1311.045412418911, 1311.045412418911, 1311.045412418911, 1311.045412418911, 1169.9944392956486, 1169.9944392956486, 1169.9944392956486, 1028.9434661723863, 1028.9434661723863, 1028.9434661723863, 887.8924930491239, 887.8924930491239, 887.8924930491239, 887.8924930491239, 887.8924930491239, 887.8924930491239, 887.8924930491239, 887.8924930491239, 887.8924930491239, 887.8924930491239, 887.8924930491239]\n"
     ]
    }
   ],
   "source": [
    "# Open lr_data.csv and read the data points x\n",
    "x, y = open_file(\"lr_data.csv\")\n",
    "\n",
    "# Caluclate and return the weights found by the fit method\n",
    "weights = get_params(x, y)\n",
    "\n",
    "# Predict with the obtained weights\n",
    "predictions = predict(x, weights)\n",
    "\n",
    "print(\"Weights:\", params)\n",
    "print(\"Predictions:\", predictions)"
   ]
  },
  {
   "cell_type": "code",
   "execution_count": 410,
   "metadata": {},
   "outputs": [
    {
     "data": {
      "image/png": "[encoded data removed]",
      "text/plain": [
       "<Figure size 640x480 with 1 Axes>"
      ]
     },
     "metadata": {},
     "output_type": "display_data"
    }
   ],
   "source": [
    "indices = [i for i in range(29)]\n",
    "indices = [i/10.0 for i in indices]\n",
    "\n",
    "x_values = [x[1] for x in x]\n",
    "\n",
    "# Plotting\n",
    "plt.plot(x_values, y, '.')\n",
    "plt.plot(indices, [i * weights[1] + weights[0] for i in indices], 'r')\n",
    "plt.axis([0, 3, -100, 1500])\n",
    "plt.show()"
   ]
  },
  {
   "cell_type": "markdown",
   "metadata": {},
   "source": [
    "## Reflection"
   ]
  },
  {
   "cell_type": "markdown",
   "metadata": {},
   "source": []
  }
 ],
 "metadata": {
  "kernelspec": {
   "display_name": "Python 3 (ipykernel)",
   "language": "python",
   "name": "python3"
  },
  "language_info": {
   "codemirror_mode": {
    "name": "ipython",
    "version": 3
   },
   "file_extension": ".py",
   "mimetype": "text/x-python",
   "name": "python",
   "nbconvert_exporter": "python",
   "pygments_lexer": "ipython3",
   "version": "3.11.4"
  }
 },
 "nbformat": 4,
 "nbformat_minor": 2
}
