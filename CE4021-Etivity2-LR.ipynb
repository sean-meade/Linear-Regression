{
 "cells": [
  {
   "cell_type": "markdown",
   "metadata": {},
   "source": [
    "## Notebook E-tivity 2 CE4021 Linear Regression"
   ]
  },
  {
   "cell_type": "markdown",
   "metadata": {},
   "source": [
    "Student name:"
   ]
  },
  {
   "cell_type": "markdown",
   "metadata": {},
   "source": [
    "Student ID:"
   ]
  },
  {
   "cell_type": "markdown",
   "metadata": {},
   "source": [
    "<hr style=\"border:2px solid gray\"> </hr>"
   ]
  },
  {
   "cell_type": "markdown",
   "metadata": {},
   "source": [
    "## Imports"
   ]
  },
  {
   "cell_type": "code",
   "execution_count": 1,
   "metadata": {},
   "outputs": [],
   "source": [
    "import numpy as np\n",
    "import matplotlib.pyplot as plt"
   ]
  },
  {
   "cell_type": "markdown",
   "metadata": {},
   "source": [
    "If you believe required imports are missing, please contact your moderator."
   ]
  },
  {
   "cell_type": "markdown",
   "metadata": {},
   "source": [
    "<hr style=\"border:2px solid gray\"> </hr>"
   ]
  },
  {
   "cell_type": "markdown",
   "metadata": {},
   "source": [
    "## Reference Implementation"
   ]
  },
  {
   "cell_type": "code",
   "execution_count": 2,
   "metadata": {},
   "outputs": [],
   "source": [
    "def linreg_weights(X,y):\n",
    "    # Calculation of weights using pseudo-inverse. Note that X needs to contain the bias of 1\n",
    "    return np.linalg.inv((X.T.dot(X))).dot(X.T).dot(y)"
   ]
  },
  {
   "cell_type": "code",
   "execution_count": 3,
   "metadata": {},
   "outputs": [],
   "source": [
    "def linreg_predict(w,X):\n",
    "    # Calculation of outputs given weights and data (X). Note that X needs to contain the bias of 1. \n",
    "    out=[]\n",
    "    for x in X:\n",
    "        out.append(w.T.dot(x))\n",
    "    return np.array(out)"
   ]
  },
  {
   "cell_type": "markdown",
   "metadata": {},
   "source": [
    "Load data from file (including bias of 1)"
   ]
  },
  {
   "cell_type": "code",
   "execution_count": 4,
   "metadata": {},
   "outputs": [],
   "source": [
    "data = np.loadtxt('lr_data.csv', delimiter=',')\n",
    "X = data[:,0:2]\n",
    "y= [[data[i,2]] for i in range(0,len(data[:,2]))]"
   ]
  },
  {
   "cell_type": "markdown",
   "metadata": {},
   "source": [
    "Apply data to linear regression algorithm to obtain weights"
   ]
  },
  {
   "cell_type": "code",
   "execution_count": 5,
   "metadata": {},
   "outputs": [
    {
     "data": {
      "text/plain": [
       "array([[-99.46431881],\n",
       "       [564.20389249]])"
      ]
     },
     "execution_count": 5,
     "metadata": {},
     "output_type": "execute_result"
    }
   ],
   "source": [
    "weights = linreg_weights(X,y)\n",
    "weights"
   ]
  },
  {
   "cell_type": "code",
   "execution_count": 6,
   "metadata": {},
   "outputs": [
    {
     "data": {
      "text/plain": [
       "(0.0, 3.0, -100.0, 1500.0)"
      ]
     },
     "execution_count": 6,
     "metadata": {},
     "output_type": "execute_result"
    },
    {
     "data": {
      "image/png": "[encoded data removed]",
      "text/plain": [
       "<Figure size 640x480 with 1 Axes>"
      ]
     },
     "metadata": {},
     "output_type": "display_data"
    }
   ],
   "source": [
    "ind = np.arange(0,2.8,0.1)\n",
    "plt.plot(X[:,1],y,'.')\n",
    "plt.plot(ind, ind*weights[1]+weights[0],'r')\n",
    "plt.axis([0, 3, -100, 1500])"
   ]
  },
  {
   "cell_type": "markdown",
   "metadata": {},
   "source": [
    "<hr style=\"border:2px solid gray\"> </hr>"
   ]
  },
  {
   "cell_type": "markdown",
   "metadata": {},
   "source": [
    "## Task"
   ]
  },
  {
   "cell_type": "markdown",
   "metadata": {},
   "source": [
    "You may add as many cells as you require to complete this task."
   ]
  },
  {
   "cell_type": "code",
   "execution_count": 7,
   "metadata": {},
   "outputs": [],
   "source": [
    "a = [[1, -4], [5, 3]]\n",
    "b = [[2, 4], [-1, -1]]\n",
    "\n",
    "# a = [[3, 67, 2], [5, 4, 4], [-2, 18, 0]]\n",
    "# b = [[4, 56, 1], [3, 6, 84], [9, 22, 7]]"
   ]
  },
  {
   "cell_type": "code",
   "execution_count": 9,
   "metadata": {},
   "outputs": [
    {
     "name": "stdout",
     "output_type": "stream",
     "text": [
      "[[3, 0], [4, 2]]\n"
     ]
    }
   ],
   "source": [
    "def add_matrices(matrix_a, matrix_b):\n",
    "    added_matrix = []\n",
    "    if len(matrix_a) == len(b) and len(matrix_a[0]) == len(matrix_b[0]):\n",
    "        for col in range(len(matrix_a)):\n",
    "            added_matrix.append([])\n",
    "            for row in range(len(matrix_a[0])):\n",
    "                added_matrix[col].append(matrix_a[col][row] + matrix_b[col][row])\n",
    "\n",
    "    return added_matrix\n",
    "\n",
    "print(add_matrices(a, b))"
   ]
  },
  {
   "cell_type": "code",
   "execution_count": 22,
   "metadata": {},
   "outputs": [
    {
     "data": {
      "text/plain": [
       "[[1, 5], [-4, 3]]"
      ]
     },
     "execution_count": 22,
     "metadata": {},
     "output_type": "execute_result"
    }
   ],
   "source": [
    "def transpose(matrix):\n",
    "    transpose_matrix = []\n",
    "    col_length = len(matrix)\n",
    "    row_length = len(a[0])\n",
    "    \n",
    "    for col in range(row_length):\n",
    "        transpose_matrix.append([])\n",
    "        for row in range(col_length):\n",
    "            transpose_matrix[col].append(matrix[row][col])\n",
    "\n",
    "    return transpose_matrix\n",
    "\n",
    "transpose(a)"
   ]
  },
  {
   "cell_type": "code",
   "execution_count": 37,
   "metadata": {},
   "outputs": [
    {
     "data": {
      "text/plain": [
       "[[290, 510, 232], [-129, 1737, 30], [123, 817, 106]]"
      ]
     },
     "execution_count": 37,
     "metadata": {},
     "output_type": "execute_result"
    }
   ],
   "source": [
    "def multiply_matrices(matrix_a, matrix_b):\n",
    "\n",
    "    multiplied_matrix = []\n",
    "\n",
    "    # TODO: Check all rows/cols\n",
    "    if len(matrix_a) == len(matrix_b) and len(matrix_a[0]) == len(matrix_b[0]):\n",
    "        # for every col in matrix a\n",
    "        for new_col in range(len(matrix_a)):\n",
    "            # Create an empty list and add to the returned multiplied matrix\n",
    "            multiplied_matrix.append([])\n",
    "            b_row = []\n",
    "            for b_col in range(len(matrix_a)):\n",
    "                b_row.append(matrix_b[new_col][b_col])\n",
    "            \n",
    "            for a_row in range(len(matrix_a)):\n",
    "                added_values = 0\n",
    "                for a_col in range(len(matrix_a)):\n",
    "                    added_values = added_values + (matrix_a[a_col][a_row] * b_row[a_col])\n",
    "\n",
    "                multiplied_matrix[new_col].append(added_values)\n",
    "            \n",
    "    \n",
    "    return multiplied_matrix\n",
    "                \n",
    "a = [[3, 67, 2], [5, 4, 4], [-2, 18, 0]]\n",
    "b = [[4, 56, 1], [3, 6, 84], [9, 22, 7]]\n",
    "multiply_matrices(a, b)"
   ]
  },
  {
   "cell_type": "code",
   "execution_count": 20,
   "metadata": {},
   "outputs": [
    {
     "data": {
      "text/plain": [
       "33948"
      ]
     },
     "execution_count": 20,
     "metadata": {},
     "output_type": "execute_result"
    }
   ],
   "source": [
    "# https://www.mathsisfun.com/algebra/matrix-determinant.html\n",
    "\n",
    "# looks like you create a function to get the determinant for a 2X2 and then multiply that by the top left value (its not always top left visually).\n",
    "# then do this for all combinations? I don't know I may not get around to finishing this expect for a 2x2 (which is the rubric)\n",
    "def determinant_2x2(matrix2x2):\n",
    "\n",
    "    determinant = matrix2x2[0][0]*matrix2x2[1][1] - matrix2x2[1][0]*matrix2x2[0][1]\n",
    "\n",
    "    return determinant\n",
    "\n",
    "a = [[1, -4], [5, 3]]\n",
    "determinant_2x2(a)\n",
    "\n",
    "\n",
    "# Hoping that writing out a 3 x 3 will give me more insight into how to do this for larger matrices (fingers crossed emoji) - will not spend much more time on this until I have the rest of this done for a 2x2\n",
    "def determinant_3x3(matrix3x3):\n",
    "\n",
    "    determinant = 0\n",
    "\n",
    "    for i in range(len(matrix3x3)):\n",
    "        if i == 0:\n",
    "            matrix2x2 = [[matrix3x3[i+1][i+1], matrix3x3[i+1][i+2]], [matrix3x3[i+2][i+1], matrix3x3[i+2][i+2]]]\n",
    "            determinant += matrix3x3[i][0]*(determinant_2x2(matrix2x2))\n",
    "        elif i == 1:\n",
    "            matrix2x2 = [[matrix3x3[i-1][i], matrix3x3[i-1][i+1]], [matrix3x3[i+1][i], matrix3x3[i+1][i+1]]]\n",
    "            determinant -= matrix3x3[i][0]*(determinant_2x2(matrix2x2))\n",
    "        elif i == 2:\n",
    "            matrix2x2 = [[matrix3x3[i-2][i-1], matrix3x3[i-2][i]],[matrix3x3[i-1][i-1], matrix3x3[i-1][i]]]\n",
    "            determinant += matrix3x3[i][0]*(determinant_2x2(matrix2x2))\n",
    "\n",
    "    return determinant\n",
    "\n",
    "b = [[4, 56, 1], [3, 6, 84], [9, 22, 7]]\n",
    "determinant_3x3(b)\n",
    "\n",
    "\n",
    "\n",
    "\n"
   ]
  },
  {
   "cell_type": "markdown",
   "metadata": {},
   "source": [
    "<hr style=\"border:2px solid gray\"> </hr>"
   ]
  },
  {
   "cell_type": "markdown",
   "metadata": {},
   "source": [
    "## Reflection"
   ]
  },
  {
   "cell_type": "markdown",
   "metadata": {},
   "source": [
    "Write your reflection in below cell."
   ]
  },
  {
   "cell_type": "code",
   "execution_count": null,
   "metadata": {},
   "outputs": [],
   "source": []
  }
 ],
 "metadata": {
  "kernelspec": {
   "display_name": "Python 3",
   "language": "python",
   "name": "python3"
  },
  "language_info": {
   "codemirror_mode": {
    "name": "ipython",
    "version": 3
   },
   "file_extension": ".py",
   "mimetype": "text/x-python",
   "name": "python",
   "nbconvert_exporter": "python",
   "pygments_lexer": "ipython3",
   "version": "3.11.4"
  }
 },
 "nbformat": 4,
 "nbformat_minor": 2
}
