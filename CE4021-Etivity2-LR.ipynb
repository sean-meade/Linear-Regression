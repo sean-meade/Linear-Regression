{
 "cells": [
  {
   "cell_type": "markdown",
   "metadata": {},
   "source": [
    "## Notebook E-tivity 2 CE4021 Linear Regression"
   ]
  },
  {
   "cell_type": "markdown",
   "metadata": {},
   "source": [
    "Student name: Deventhiran Ranganathan"
   ]
  },
  {
   "cell_type": "markdown",
   "metadata": {},
   "source": [
    "Student ID: 23315695"
   ]
  },
  {
   "cell_type": "markdown",
   "metadata": {},
   "source": [
    "<hr style=\"border:2px solid gray\"> </hr>"
   ]
  },
  {
   "cell_type": "markdown",
   "metadata": {},
   "source": [
    "## Imports"
   ]
  },
  {
   "cell_type": "code",
   "execution_count": 665,
   "metadata": {},
   "outputs": [],
   "source": [
    "import numpy as np\n",
    "import matplotlib.pyplot as plt"
   ]
  },
  {
   "cell_type": "markdown",
   "metadata": {},
   "source": [
    "If you believe required imports are missing, please contact your moderator."
   ]
  },
  {
   "cell_type": "markdown",
   "metadata": {},
   "source": [
    "<hr style=\"border:2px solid gray\"> </hr>"
   ]
  },
  {
   "cell_type": "markdown",
   "metadata": {},
   "source": [
    "## Reference Implementation"
   ]
  },
  {
   "cell_type": "code",
   "execution_count": 666,
   "metadata": {},
   "outputs": [],
   "source": [
    "def linreg_weights(X,y):\n",
    "    # Calculation of weights using pseudo-inverse. Note that X needs to contain the bias of 1\n",
    "    return np.linalg.inv((X.T.dot(X))).dot(X.T).dot(y)"
   ]
  },
  {
   "cell_type": "code",
   "execution_count": 667,
   "metadata": {},
   "outputs": [],
   "source": [
    "def linreg_predict(w,X):\n",
    "    # Calculation of outputs given weights and data (X). Note that X needs to contain the bias of 1. \n",
    "    out=[]\n",
    "    for x in X:\n",
    "        out.append(w.T.dot(x))\n",
    "    return np.array(out)"
   ]
  },
  {
   "cell_type": "markdown",
   "metadata": {},
   "source": [
    "Load data from file (including bias of 1)"
   ]
  },
  {
   "cell_type": "code",
   "execution_count": 668,
   "metadata": {},
   "outputs": [],
   "source": [
    "data = np.loadtxt('lr_data.csv', delimiter=',')\n",
    "X = data[:,0:2]\n",
    "y= [[data[i,2]] for i in range(0,len(data[:,2]))]"
   ]
  },
  {
   "cell_type": "markdown",
   "metadata": {},
   "source": [
    "Apply data to linear regression algorithm to obtain weights"
   ]
  },
  {
   "cell_type": "code",
   "execution_count": 669,
   "metadata": {},
   "outputs": [
    {
     "name": "stdout",
     "output_type": "stream",
     "text": [
      "weights vector [[-99.46431881]\n",
      " [564.20389249]]\n",
      "predictions [[1452.09638554]\n",
      " [1311.04541242]\n",
      " [1311.04541242]\n",
      " [1311.04541242]\n",
      " [1311.04541242]\n",
      " [1311.04541242]\n",
      " [1311.04541242]\n",
      " [1169.9944393 ]\n",
      " [1169.9944393 ]\n",
      " [1169.9944393 ]\n",
      " [1028.94346617]\n",
      " [1028.94346617]\n",
      " [1028.94346617]\n",
      " [ 887.89249305]\n",
      " [ 887.89249305]\n",
      " [ 887.89249305]\n",
      " [ 887.89249305]\n",
      " [ 887.89249305]\n",
      " [ 887.89249305]\n",
      " [ 887.89249305]\n",
      " [ 887.89249305]\n",
      " [ 887.89249305]\n",
      " [ 887.89249305]\n",
      " [ 887.89249305]]\n"
     ]
    }
   ],
   "source": [
    "weights = linreg_weights(X,y)\n",
    "print(\"weights vector\",weights)\n",
    "pred= linreg_predict(weights,X)\n",
    "print(\"predictions\",pred)"
   ]
  },
  {
   "cell_type": "code",
   "execution_count": 670,
   "metadata": {},
   "outputs": [
    {
     "data": {
      "text/plain": [
       "(0.0, 3.0, -100.0, 1500.0)"
      ]
     },
     "execution_count": 670,
     "metadata": {},
     "output_type": "execute_result"
    },
    {
     "data": {
      "image/png": "[encoded data removed]",
      "text/plain": [
       "<Figure size 640x480 with 1 Axes>"
      ]
     },
     "metadata": {},
     "output_type": "display_data"
    }
   ],
   "source": [
    "ind = np.arange(0,2.8,0.1)\n",
    "plt.plot(X[:,1],y,'.')\n",
    "plt.plot(ind, ind*weights[1]+weights[0],'r')\n",
    "plt.axis([0, 3, -100, 1500])"
   ]
  },
  {
   "cell_type": "markdown",
   "metadata": {},
   "source": [
    "<hr style=\"border:2px solid gray\"> </hr>"
   ]
  },
  {
   "cell_type": "markdown",
   "metadata": {},
   "source": [
    "## Task"
   ]
  },
  {
   "cell_type": "markdown",
   "metadata": {},
   "source": [
    "You may add as many cells as you require to complete this task."
   ]
  },
  {
   "attachments": {},
   "cell_type": "markdown",
   "metadata": {},
   "source": [
    "## <u>Introduction</u>\n",
    "\n",
    "A linear regression model establishes the relation between a dependent variable(y) and at least one independent variable(x).\n",
    "\n",
    "Above reference implementation uses the Ordinary Least Squares method and the expression used here is                        \n",
    " $ (X^T \\cdot X)^{-1} \\cdot X^T \\cdot y$\n",
    "    Here $(X^{-1})$ is inverse of matrix, .$(X^T)$  is transpose of matrix, dot is multiplication of matrix\n",
    "\n",
    "Lets explore each of them and write functions in python"
   ]
  },
  {
   "cell_type": "markdown",
   "metadata": {},
   "source": [
    "### <u>Matrix operations</u></br>\n",
    "Below class Matrix_operations is used to implement the basic matrix operations required for linear regression\n",
    "  \n",
    "   -  Dot matrix <br>\n",
    "   -  Inverse <br>\n",
    "   -  Transpose <br>\n",
    "   -  Determinant(required to find inverse) <br>"
   ]
  },
  {
   "cell_type": "code",
   "execution_count": 671,
   "metadata": {},
   "outputs": [],
   "source": [
    "class InvalidInputError(Exception):\n",
    "    \"\"\"Exception raised when invalid input provied.\n",
    "\n",
    "        message -- explanation of the error\n",
    "    \"\"\"\n",
    "\n",
    "    def __init__(self, message):\n",
    "        self.message = message\n",
    "        super().__init__(self.message)"
   ]
  },
  {
   "cell_type": "code",
   "execution_count": 672,
   "metadata": {},
   "outputs": [],
   "source": [
    "class Matrix:\n",
    "    \"\"\" This class has matrix implementation of all the required functions for Linear regression\"\"\"\n",
    "    \n",
    "    def __init__(self) -> None:\n",
    "        pass\n",
    "\n",
    "    def determinant(self,X):\n",
    "        \"\"\" This method is used to caculate the determinant of given 2x2 matrix\n",
    "        bigger than 2x2 are not in the scope\n",
    "        \"\"\"\n",
    "        if (len(X) == 2 and len(X[0]) ==2):\n",
    "            return X[0][0]*X[1][1]-X[0][1]*X[1][0]\n",
    "        else:\n",
    "            raise InvalidInputError(\"Determinant fuction supports only 2x2 matrix\")\n",
    "        \n",
    "    def dot(self,x : list, W):\n",
    "        \"\"\" Dot product function is used to multiply vector with matrix\n",
    "               \n",
    "        \"\"\"\n",
    "        return [sum(a*b for a,b in zip(row, x)) for row in W]\n",
    "    \n",
    "    def multiply(self,X,Y):\n",
    "        \"\"\" multiply method is used to multiply 2 metrices and\n",
    "        produces result as another metrices \n",
    "\n",
    "        the number of columns in the first matrix must be equal to the number of rows in the second matrix\n",
    "        \n",
    "        \"\"\"\n",
    "        if len(X[0]) == len(Y):\n",
    "            return [[sum(a*b for a,b in zip(X_row,Y_col)) for Y_col in zip(*Y)] for X_row in X]\n",
    "        else:\n",
    "            raise InvalidInputError(\"Number of columns in the first matrix must be equal to the number of rows in the second matrix\")\n",
    "\n",
    "    \n",
    "    def transpose(self,X):\n",
    "        \"\"\" Transponse of matrix which flips a matrix over it s diagonal and switches the row and colmun indices of the matrix\n",
    "        argument -> input matrix\n",
    "\n",
    "        returns ->Transpose of input matrix\n",
    "        \"\"\"\n",
    "        return [[X[j][i] for j in range(len(X))] for i in range(len(X[0]))]\n",
    "    \n",
    "    def inverse(self,X):\n",
    "        \"\"\" Inverse method is used to calculate the inverse of a given matrix\n",
    "         and this method supports only 2x2 martrix\n",
    "        \"\"\"\n",
    "\n",
    "        if (len(X) == 2 and len(X[0]) ==2):\n",
    "            determinant = self.determinant(X)\n",
    "            if determinant == 0:\n",
    "                raise InvalidInputError(\"Determinant can't be zero\")\n",
    "            return np.array([[X[1][1]/determinant, -1*X[0][1]/determinant],\n",
    "                    [-1*X[1][0]/determinant, X[0][0]/determinant]])\n",
    "        else:\n",
    "            raise InvalidInputError(\"Inverse fucntion supports only 2x2 matrix\")"
   ]
  },
  {
   "cell_type": "markdown",
   "metadata": {},
   "source": [
    "<hr style=\"border:1px solid gray\"> </hr>"
   ]
  },
  {
   "attachments": {},
   "cell_type": "markdown",
   "metadata": {},
   "source": [
    "## <u>Matrix Multiplication</u>\n",
    "\n",
    "For matrix Multiplication , the number of columns in the first matrix must be equal to the number of rows in the second matrix.\n",
    "\n",
    "The resulting matrix, known as the matrix product, has the number of rows of the first and the number of columns of the second matrix\n",
    "\n",
    "$$\n",
    "\\left [\n",
    "\\begin{matrix}\n",
    "0 & 4 \\\\\n",
    "2 & -2\\\\\n",
    "-3 & -1\\\\\n",
    "1 & 4\n",
    "\\end{matrix}\n",
    "\\right ]\n",
    ".\n",
    "\\left [\n",
    "\\begin{matrix}\n",
    "0 & 3 & 5\\\\\n",
    "6 & -4 & 7\n",
    "\\end{matrix}\n",
    "\\right ]\n",
    "=\n",
    "\\left [\n",
    "\\begin{matrix}\n",
    "0*0 + -4*6 & 0*3 + -4*6 & 0*0 + -4*6 \\\\\n",
    "2*0 + -2*6 & 2*0 + -2*6 & 2*0 + -2*6 \\\\\n",
    "-3*0 + -1*6 & -3*0 + -1*6 & -3*0 + -1*6 \\\\\n",
    "1*0 + 4*6 & 1*0 + 4*6 & 1*0 + 4*6\n",
    "\\end{matrix}\n",
    "\\right ]\n",
    "$$\n",
    "$$\n",
    "=\n",
    "\\left [\n",
    "\\begin{matrix}\n",
    "-24 & 16 & -28\\\\\n",
    "-12 & 14 & -4\\\\\n",
    "-6 & -5 & 22\\\\\n",
    "24 & -13 & 33\n",
    "\\end{matrix}\n",
    "\\right ]\n",
    "$$"
   ]
  },
  {
   "cell_type": "code",
   "execution_count": 673,
   "metadata": {},
   "outputs": [
    {
     "name": "stdout",
     "output_type": "stream",
     "text": [
      "Test case1\n",
      "  [[-24  16 -28]\n",
      " [-12  14  -4]\n",
      " [ -6  -5 -22]\n",
      " [ 24 -13  33]]\n",
      "\n",
      "Test case 2 \n",
      " [[-24]\n",
      " [ -2]\n",
      " [-21]\n",
      " [ 29]]\n",
      "\n",
      "Test case 3\n",
      "Invalid Input Error: Number of columns in the first matrix must be equal to the number of rows in the second matrix\n"
     ]
    }
   ],
   "source": [
    "mat=Matrix()\n",
    "\n",
    "# Success case\n",
    "n=np.array([[0,-4],[2,-2],[-3,-1],[1,4]])\n",
    "m=np.array([[0,3,5],[6,-4,7]])\n",
    "\n",
    "print(\"Test case1\\n \",np.array(mat.multiply(n,m)))\n",
    "\n",
    "# Success case\n",
    "n=np.array([[0,-4],[2,-2],[-3,-1],[1,4]])\n",
    "m=np.array([[5],[6]])\n",
    "\n",
    "print(\"\\nTest case 2 \\n\",np.array(mat.multiply(n,m)))\n",
    "\n",
    "# invalid col and row size \n",
    "\n",
    "n=np.array([[0,-4],[2,-2],[-3,-1],[1,4]])\n",
    "m=np.array([[0,3,5],[6,-4,7],[6,-4,7]])\n",
    "\n",
    "try:\n",
    "    mat.multiply(n,m)\n",
    "except InvalidInputError as exception:\n",
    "    print('\\nTest case 3\\nInvalid Input Error: %s' % (exception.message) )"
   ]
  },
  {
   "cell_type": "markdown",
   "metadata": {},
   "source": [
    "<hr style=\"border:1px solid gray\"> </hr>"
   ]
  },
  {
   "attachments": {},
   "cell_type": "markdown",
   "metadata": {},
   "source": [
    "## <u>Transpose of Matrix</u>\n",
    "\n",
    "Transpose of a matrix is an operator which flips a matrix over its diagonal; that is, it switches the row and column indices of the matrix A by producing another matrix, often denoted by $ A^T$\n",
    "\n",
    "$$\n",
    "\\left [\n",
    "\\begin{matrix}\n",
    "1 & 2 \\\\\n",
    "3 & 4\\\\\n",
    "5 & 6\n",
    "\\end{matrix}\n",
    "\\right ] ^T\n",
    "=\n",
    "\\left [\n",
    "\\begin{matrix}\n",
    "1 & 3 & 5 \\\\\n",
    "2 & 4 & 6\n",
    "\\end{matrix}\n",
    "\\right ]\n",
    "$$"
   ]
  },
  {
   "cell_type": "code",
   "execution_count": 674,
   "metadata": {},
   "outputs": [
    {
     "name": "stdout",
     "output_type": "stream",
     "text": [
      "Transpose of matrix:\n",
      "[[1, 3, 5], [2, 4, 6]]\n"
     ]
    }
   ],
   "source": [
    "input_matrix=np.array([[1,2],[3,4],[5,6]])\n",
    "mat=Matrix()\n",
    "\n",
    "print(\"Transpose of matrix:\")\n",
    "print(mat.transpose(input_matrix))"
   ]
  },
  {
   "cell_type": "markdown",
   "metadata": {},
   "source": [
    "<hr style=\"border:1px solid gray\"> </hr>"
   ]
  },
  {
   "attachments": {},
   "cell_type": "markdown",
   "metadata": {},
   "source": [
    "## Determinant of Matrix\n",
    "\n",
    "In mathematics, the determinant is a scalar value that is a function of the entries of a square matrix. The determinant of a matrix A is commonly denoted det(A), det A, or |A|. Its value characterizes some properties of the matrix and the linear map represented by the matrix. In particular, the determinant is nonzero if and only if the matrix is invertible and the linear map represented by the matrix is an isomorphism. The determinant of a product of matrices is the product of their determinants (which follows directly from the above properties).\n",
    "\n",
    "$$\n",
    "det(\n",
    "\\left [\n",
    "\\begin{matrix}\n",
    "3 & 1 \\\\\n",
    "7 & 4\\\\\n",
    "\n",
    "\\end{matrix}\n",
    "\\right ] )\n",
    "=\n",
    " (3 * 4 ) - (7 * 1)\n",
    "\n",
    "=5\n",
    "\n",
    "$$"
   ]
  },
  {
   "cell_type": "code",
   "execution_count": 675,
   "metadata": {},
   "outputs": [
    {
     "name": "stdout",
     "output_type": "stream",
     "text": [
      "Determinant of matrix: 5\n",
      "Invalid Input Error: Determinant fuction supports only 2x2 matrix\n"
     ]
    }
   ],
   "source": [
    "mat=Matrix()\n",
    "\n",
    "input_matrix=np.array([[3,1],[7,4]])\n",
    "print(\"Determinant of matrix:\",mat.determinant(input_matrix))\n",
    "\n",
    "# Test case of other than 2X2 matrix\n",
    "\n",
    "try:\n",
    "    input_matrix1=np.array([[3,1,5],[7,-4,6]])\n",
    "    print(\"Determinant of matrix:\",mat.determinant(input_matrix1))\n",
    "except InvalidInputError as exception1:\n",
    "    print('Invalid Input Error: %s' % (exception1.message) )"
   ]
  },
  {
   "cell_type": "markdown",
   "metadata": {},
   "source": [
    "<hr style=\"border:1px solid gray\"> </hr>"
   ]
  },
  {
   "attachments": {
    "image-2.png": {
     "image/png": "[encoded data removed]"
    },
    "image-3.png": {
     "image/png": "[encoded data removed]"
    },
    "image-4.png": {
     "image/png": "[encoded data removed]"
    },
    "image.png": {
     "image/png": "[encoded data removed]"
    }
   },
   "cell_type": "markdown",
   "metadata": {},
   "source": [
    "## Inverse of matrix\n",
    "\n",
    "![image-4.png](attachment:image-4.png)\n",
    "\n",
    "Given A is as above, in order to calculate the inverse A^{-1},\n",
    "\n",
    "![image-3.png](attachment:image-3.png)\n",
    "\n",
    "It must be noted that in order for this to be true, det(A) cannot equal to 0. A matrix with its determinant equal to zero does not have an inverse.\n",
    "\n",
    "Application\n",
    "\n",
    "Given that:\n",
    "\n",
    "![image-2.png](attachment:image-2.png)\n",
    "\n",
    "Find the inverse of B.\n",
    "\n",
    "First of all, find the determinant a * d – b * c.\n",
    "det(B) = 4*5 – 6*2 = 8\n",
    "\n",
    "Apply the formula for the inverse. This gives:\n",
    "\n",
    "![image.png](attachment:image.png)"
   ]
  },
  {
   "cell_type": "code",
   "execution_count": 676,
   "metadata": {},
   "outputs": [
    {
     "name": "stdout",
     "output_type": "stream",
     "text": [
      "Inverse of matrix:\n",
      "[[ 0.0625 -0.025 ]\n",
      " [ 0.125   0.15  ]]\n",
      "Invalid Input Error: Inverse fucntion supports only 2x2 matrix\n",
      "Invalid Input Error: Determinant can't be zero\n"
     ]
    }
   ],
   "source": [
    "\n",
    "mat=Matrix()\n",
    "\n",
    "# Success case\n",
    "m=np.array([[12, 2],[-10,5]])\n",
    "print(\"Inverse of matrix:\")\n",
    "print(mat.inverse(m))\n",
    "\n",
    "# Non 2x2 nmatrix case\n",
    "try:\n",
    "    m=np.array([[4, 2,4],[10,5,6]])\n",
    "    print(mat.inverse(m))\n",
    "except InvalidInputError as exception:\n",
    "    print('Invalid Input Error: %s' % (exception.message) )\n",
    "\n",
    "# 0 determinent case\n",
    "try:\n",
    "    m=np.array([[4, 2,],[10,5]])\n",
    "    print(mat.inverse(m))\n",
    "except InvalidInputError as exception:\n",
    "    print('Invalid Input Error: %s' % (exception.message) )"
   ]
  },
  {
   "cell_type": "markdown",
   "metadata": {},
   "source": [
    "<hr style=\"border:1px solid gray\"> </hr>"
   ]
  },
  {
   "cell_type": "markdown",
   "metadata": {},
   "source": [
    "                                        # Linear regression \n",
    "  Below python class is created to implement the fit, predicts and get_params functions used in linear regression"
   ]
  },
  {
   "cell_type": "code",
   "execution_count": 677,
   "metadata": {},
   "outputs": [],
   "source": [
    "class Linear_Reg:\n",
    "  \"\"\" This class is used to implement the fuctions used to \n",
    "  caculate  the least square regression \"\"\"\n",
    "\n",
    "  def __init__(self,X,y) -> None:\n",
    "    \"\"\" constructor to initialize  X any y metrices and matrix class\"\"\"\n",
    "\n",
    "    self.matrix=Matrix()\n",
    "    self.X=X\n",
    "    self.y=y\n",
    "\n",
    "\n",
    "  def fit(self):\n",
    "    \"\"\"\n",
    "      Fit function takes two matrix inputs and returns weight vector\n",
    "      uses the below represent implementation to derive the weight vector\n",
    "      np.linalg.inv((X.T.dot(X))).dot(X.T).dot(y)\n",
    "      \n",
    "    \"\"\"\n",
    "    xt= self.matrix.transpose(X)\n",
    "    mul_of_xt_and_x= self.matrix.multiply(xt,X)\n",
    "    inv_of_mul_of_xt_and_x= self.matrix.inverse(mul_of_xt_and_x)\n",
    "    interm_result=self.matrix.multiply(inv_of_mul_of_xt_and_x,xt)\n",
    "    return self.matrix.multiply(interm_result,np.array(y))\n",
    "  \n",
    "  def get_params(self):\n",
    "    \"\"\"returns the weights found by the fit method \"\"\"\n",
    "    return self.fit();\n",
    "\n",
    "\n",
    "  def predict(self,w):\n",
    "    \"\"\"\n",
    "    predict function takes weight vector calculated by fit method and matrix X and produces another matrix\n",
    "    uses the below represent implementation to derive the weight vector\n",
    "    w.T.dot(x) \n",
    "    \"\"\"\n",
    "    out=[]\n",
    "    tran_of_w=self.matrix.transpose(w)\n",
    "    for x in X:\n",
    "      #result=self.matrix.multiply(tran_of_w,x) # x is 1D array so converting them to 2D using[:,None]\n",
    "      result=self.matrix.dot(x,tran_of_w)\n",
    "      out.append(result) \n",
    "    return np.array(out)"
   ]
  },
  {
   "cell_type": "code",
   "execution_count": 678,
   "metadata": {},
   "outputs": [
    {
     "name": "stdout",
     "output_type": "stream",
     "text": [
      "weight vector [[-99.4643188137135], [564.2038924930501]]\n",
      "predictions [[1452.09638554]\n",
      " [1311.04541242]\n",
      " [1311.04541242]\n",
      " [1311.04541242]\n",
      " [1311.04541242]\n",
      " [1311.04541242]\n",
      " [1311.04541242]\n",
      " [1169.9944393 ]\n",
      " [1169.9944393 ]\n",
      " [1169.9944393 ]\n",
      " [1028.94346617]\n",
      " [1028.94346617]\n",
      " [1028.94346617]\n",
      " [ 887.89249305]\n",
      " [ 887.89249305]\n",
      " [ 887.89249305]\n",
      " [ 887.89249305]\n",
      " [ 887.89249305]\n",
      " [ 887.89249305]\n",
      " [ 887.89249305]\n",
      " [ 887.89249305]\n",
      " [ 887.89249305]\n",
      " [ 887.89249305]\n",
      " [ 887.89249305]]\n"
     ]
    }
   ],
   "source": [
    "# Test get_params and predict method\n",
    "data = np.loadtxt('lr_data.csv', delimiter=',')\n",
    "X = data[:,0:2]\n",
    "y= [[data[i,2]] for i in range(0,len(data[:,2]))]\n",
    "\n",
    "# Initialize the model\n",
    "reg=Linear_Reg(X,y)\n",
    "\n",
    "# fit the linear regression model\n",
    "weight_vector=reg.get_params()\n",
    "print(\"weight vector\", weight_vector)\n",
    "\n",
    "#make predictions\n",
    "predictions = reg.predict(weight_vector)\n",
    "print(\"predictions\",reg.predict(weight_vector))\n",
    "\n"
   ]
  },
  {
   "cell_type": "code",
   "execution_count": 679,
   "metadata": {},
   "outputs": [
    {
     "data": {
      "text/plain": [
       "(0.0, 3.0, -100.0, 1500.0)"
      ]
     },
     "execution_count": 679,
     "metadata": {},
     "output_type": "execute_result"
    },
    {
     "data": {
      "image/png": "[encoded data removed]",
      "text/plain": [
       "<Figure size 640x480 with 1 Axes>"
      ]
     },
     "metadata": {},
     "output_type": "display_data"
    }
   ],
   "source": [
    "ind = np.arange(0,2.8,0.1)\n",
    "plt.plot(X[:,1],y,'.')\n",
    "plt.plot(ind, ind*weight_vector[1]+weight_vector[0],'r')\n",
    "plt.axis([0, 3, -100, 1500])\n",
    "\n"
   ]
  },
  {
   "cell_type": "markdown",
   "metadata": {},
   "source": [
    "## Reflection"
   ]
  },
  {
   "cell_type": "markdown",
   "metadata": {},
   "source": [
    "Write your reflection in below cell."
   ]
  },
  {
   "cell_type": "markdown",
   "metadata": {},
   "source": [
    "<u>Description of code:</u>\n",
    "\n",
    "Matrix class used to find the inverse, transpose, determinant and multiplication of given matrix\n",
    "and Linear_Reg class used to implement the fit and prediction model for linear regression \n",
    "\n",
    "<u>Advantages:</u>\n",
    "\n",
    "created reusable functions for matrix manipulations\n",
    "Tested with variety of test case\n",
    "\n",
    "<u>Disadvantages:</u>\n",
    "\n",
    "instead of simple for loop I can go with comprehensive for loop \n",
    "I will try this in the next week \n",
    "\n",
    "<u>Peers work:</u>\n",
    "\n",
    "I haven’t look the peers work yet, definitely I will look for an improvement by looking their code in the 2nd week."
   ]
  }
 ],
 "metadata": {
  "kernelspec": {
   "display_name": "Python 3",
   "language": "python",
   "name": "python3"
  },
  "language_info": {
   "codemirror_mode": {
    "name": "ipython",
    "version": 3
   },
   "file_extension": ".py",
   "mimetype": "text/x-python",
   "name": "python",
   "nbconvert_exporter": "python",
   "pygments_lexer": "ipython3",
   "version": "3.9.12"
  },
  "vscode": {
   "interpreter": {
    "hash": "11938c6bc6919ae2720b4d5011047913343b08a43b18698fd82dedb0d4417594"
   }
  }
 },
 "nbformat": 4,
 "nbformat_minor": 2
}
