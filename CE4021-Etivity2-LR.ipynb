{
 "cells": [
  {
   "cell_type": "markdown",
   "metadata": {},
   "source": [
    "## Notebook E-tivity 2 CE4021 Linear Regression"
   ]
  },
  {
   "cell_type": "markdown",
   "metadata": {},
   "source": [
    "Student name: Vaclav Krol"
   ]
  },
  {
   "cell_type": "markdown",
   "metadata": {},
   "source": [
    "Student ID: 23307102"
   ]
  },
  {
   "cell_type": "markdown",
   "metadata": {},
   "source": [
    "### First draft to work on\n",
    "Quite difficult to keep up with the pace after being on a work-related trip abroad all week...\n",
    "\n",
    "This is just the first implementation of all supporting matrix functions, the comparison with numpy will come later."
   ]
  },
  {
   "cell_type": "markdown",
   "metadata": {},
   "source": [
    "To describe matrixes I am going to use list of lists of floats -> list[list[float]]. I contemplated using tuples for their smaller memory footprint but we are going to use numpy and other libraries for these operations in the future so I guess for this task it does not really matter. And I am also not sure if I can use list comprehension \"shortcuts\" with tuples. Python experts, can you shed some light on this?\n",
    "\n",
    "Note: \"Matrixes\" is apparently the most recent word for \"matrix\" in plural, as opposed to \"matrices\" :)"
   ]
  },
  {
   "cell_type": "code",
   "execution_count": 31,
   "metadata": {},
   "outputs": [],
   "source": [
    "# Check if matrix is empty\n",
    "def matrix_empty(mx: list[list[float]]) -> bool:\n",
    "    '''\n",
    "    Returns True if matrix is empty (no rows)\n",
    "    \n",
    "    ::Params\n",
    "    mx: matrix to check\n",
    "    '''\n",
    "    # Matrix must be a list\n",
    "    if not isinstance(mx, list):\n",
    "        raise Exception(\"The input matrix must be a list\")\n",
    "    \n",
    "    return (len(mx) == 0)\n"
   ]
  },
  {
   "cell_type": "code",
   "execution_count": 76,
   "metadata": {},
   "outputs": [],
   "source": [
    "# To check if all rows have the same number of columns\n",
    "def matrix_dims_correct(mx: list[list[float]]) -> bool:\n",
    "    '''\n",
    "    Returns True if number of columns is same for each row in the matrix\n",
    "    \n",
    "    ::Params\n",
    "    mx: matrix to check\n",
    "    '''\n",
    "    # Matrix must be a list\n",
    "    if not isinstance(mx, list):\n",
    "        raise Exception(\"The input matrix must be a list\")\n",
    "\n",
    "    # An empty matrix is ok\n",
    "    if matrix_empty(mx):\n",
    "        return True\n",
    "    else:\n",
    "        # Get the number of columns for the first row and compare to the others\n",
    "        num_cols_row1 = len(mx[0])\n",
    "        \n",
    "        # Looping through the rows - perhaps there is an easier way in Python?\n",
    "        for row in mx:\n",
    "            if len(row) != num_cols_row1:\n",
    "                return False\n",
    "    \n",
    "    # If we have got to this then it's all correct\n",
    "    return True\n"
   ]
  },
  {
   "cell_type": "code",
   "execution_count": 108,
   "metadata": {},
   "outputs": [
    {
     "name": "stdout",
     "output_type": "stream",
     "text": [
      "True\n",
      "False\n"
     ]
    }
   ],
   "source": [
    "# Test - matrix_dims_correct\n",
    "mx_test_ok = [[1,2,3],\n",
    "              [4,5,6],\n",
    "              [7,8,9]]\n",
    "\n",
    "mx_test_nok = [[1,2,3],\n",
    "               [4,5,6],\n",
    "               [7,8]]\n",
    "\n",
    "print(matrix_dims_correct(mx_test_ok))\n",
    "print(matrix_dims_correct(mx_test_nok))"
   ]
  },
  {
   "cell_type": "code",
   "execution_count": 84,
   "metadata": {},
   "outputs": [],
   "source": [
    "# Get dimensions of a matrix\n",
    "def matrix_dimensions(mx: list[list[float]]) -> list[float]:\n",
    "    \"\"\"\n",
    "    Returns a list of dimensions of the matrix.\n",
    "    \"\"\"\n",
    "    # Matrix must be a list\n",
    "    if not isinstance(mx, list):\n",
    "        raise Exception(\"The input matrix must be a list\")\n",
    "\n",
    "    if matrix_empty(mx):\n",
    "        return []\n",
    "    else:\n",
    "        return [len(mx)] + [len(mx[0])]\n"
   ]
  },
  {
   "cell_type": "code",
   "execution_count": 85,
   "metadata": {},
   "outputs": [
    {
     "name": "stdout",
     "output_type": "stream",
     "text": [
      "[]\n",
      "[1, 2]\n",
      "[3, 3]\n"
     ]
    }
   ],
   "source": [
    "# Test - matrix dimensions\n",
    "mx_dim_0x0 = []\n",
    "mx_dim_1x2 = [[1,2]]\n",
    "mx_dim_3x3 = [[1,2,3],\n",
    "              [4,5,6],\n",
    "              [7,8,9]]\n",
    "\n",
    "\n",
    "print(matrix_dimensions(mx_dim_0x0))\n",
    "print(matrix_dimensions(mx_dim_1x2))\n",
    "print(matrix_dimensions(mx_dim_3x3))"
   ]
  },
  {
   "cell_type": "code",
   "execution_count": 129,
   "metadata": {},
   "outputs": [],
   "source": [
    "# Element addition helper\n",
    "def element_add(elem1: float, elem2: float) -> float:\n",
    "    return elem1+elem2\n",
    "\n",
    "\n",
    "# Element subtraction helper\n",
    "def element_subtract(elem1: float, elem2: float) -> float:\n",
    "    return elem1-elem2\n"
   ]
  },
  {
   "cell_type": "code",
   "execution_count": 130,
   "metadata": {},
   "outputs": [],
   "source": [
    "def matrix_element_op(mxa: list[list[float]], mxb: list[list[float]], elem_op: callable) -> list[list[float]]:\n",
    "    '''\n",
    "    Takes two matrixes and performs operation on same (row,col) elements.\n",
    "    Returns a new matrix with the computed elements.\n",
    "    Both matrixes must therefore have same dimensions.\n",
    "    \n",
    "    ::Params\n",
    "    mxa, mxb - matrixes with the same dimensions\n",
    "    elem_op - operation to perform on same (row,col) elements\n",
    "    :: Returns\n",
    "    New matrix with computed elements\n",
    "    '''\n",
    "    # mxa format check\n",
    "    if not(matrix_dims_correct(mxa)):\n",
    "        raise Exception(f\"Matrix {mxa} is not well formatted\")\n",
    "    # mxb format check\n",
    "    if not(matrix_dims_correct(mxb)):\n",
    "        raise Exception(f\"Matrix {mxb} is not well formatted\")\n",
    "\n",
    "    # Checking same dimensions between both matrixes\n",
    "    if (matrix_dimensions(mxa) != matrix_dimensions(mxb)):\n",
    "        raise Exception(f\"Matrixes for element operations must have same dimensions\")\n",
    "    \n",
    "    # Creating a new list - if both matrixes are empty, this gets returned\n",
    "    mx_out = []\n",
    "\n",
    "    for row in range(len(mxa)):\n",
    "        # new row\n",
    "        mx_out.append([])\n",
    "        for col in range(len(mxa[0])):    \n",
    "            # new col value\n",
    "            mx_out[row].append( elem_op(mxa[row][col], mxb[row][col]) )\n",
    "            \n",
    "    return mx_out;\n"
   ]
  },
  {
   "cell_type": "code",
   "execution_count": 131,
   "metadata": {},
   "outputs": [],
   "source": [
    "def matrix_multiply(mxa: list[list[float]], mxb: list[list[float]]) -> list[list[float]]:\n",
    "    '''\n",
    "    Takes two matrixes and performs their multiplication.\n",
    "    Returns a new matrix with the computed elements.\n",
    "    The number of columns in mxa must be equal to the number of rows in mxb.\n",
    "    \n",
    "    ::Params\n",
    "    mxa, mxb - matrixes to multiply\n",
    "    ::Returns\n",
    "    New matrix with computed elements\n",
    "    '''\n",
    "    # mxa format check\n",
    "    if not(matrix_dims_correct(mxa)):\n",
    "        raise Exception(f\"Matrix {mxa} is not well formatted\")\n",
    "    # mxb format check\n",
    "    if not(matrix_dims_correct(mxb)):\n",
    "        raise Exception(f\"Matrix {mxb} is not well formatted\")\n",
    "\n",
    "    print()\n",
    "    # Checking same dimensions between both matrixes\n",
    "    if ( (len(mxa[0]) != len(mxb)) or (len(mxa) != len(mxb[0])) ):\n",
    "        raise Exception(f\"Number of columns in first matrix must be equal to the number of rows in the second matrix.\")\n",
    "    \n",
    "    # Creating a new list - if both matrixes are empty, this gets returned\n",
    "    mx_out = []\n",
    "\n",
    "    for row_a in range(len(mxa)):\n",
    "        # new row\n",
    "        mx_out.append([])\n",
    "        # new element in the row - sum over row_a*col_b\n",
    "        mx_out[row_a].append( sum(mxa[row_a][col] * mxb[col][row_a] for col in range(0,len(mxb)) ) )\n",
    "            \n",
    "    return mx_out;\n"
   ]
  },
  {
   "cell_type": "code",
   "execution_count": 132,
   "metadata": {},
   "outputs": [
    {
     "name": "stdout",
     "output_type": "stream",
     "text": [
      "\n",
      "[[30], [81]]\n"
     ]
    }
   ],
   "source": [
    "# Test- matrix_multiply\n",
    "#mx_test_multi_a = [[1,2,3],\n",
    "#                   [4,5,6],\n",
    "#                   [7,8,9]]\n",
    "\n",
    "mx_test_multi_a = [[1,2,3],\n",
    "                   [4,5,6]]\n",
    "\n",
    "mx_test_multi_b = [[1,2],\n",
    "                   [4,5],\n",
    "                   [7,8]]\n",
    "\n",
    "print(matrix_multiply(mx_test_multi_a, mx_test_multi_b))\n"
   ]
  },
  {
   "cell_type": "code",
   "execution_count": 133,
   "metadata": {},
   "outputs": [],
   "source": [
    "def matrix_transpose(mx: list[list[float]]) -> list[list[float]]:\n",
    "    '''\n",
    "    Performs the matrix transpose (flips the matrix over its diagonal)\n",
    "    \n",
    "    ::Params\n",
    "    mx - matrix to transpose\n",
    "    ::Returns\n",
    "    Transposed matrix\n",
    "    '''\n",
    "\n",
    "    # Getting the number of rows and columns in the matrix\n",
    "    nb_rows = len(mx)\n",
    "    nb_cols = len(mx[0])\n",
    "    \n",
    "    # Swapping rows and columns using a list comprehension, this one worked well for me, unlike other attempts :)\n",
    "    mx_transposed = [[mx[row][col] for row in range(nb_rows)] for col in range(nb_cols)]\n",
    "    \n",
    "    return mx_transposed\n"
   ]
  },
  {
   "cell_type": "code",
   "execution_count": 134,
   "metadata": {},
   "outputs": [
    {
     "name": "stdout",
     "output_type": "stream",
     "text": [
      "[[1, 4, 7], [2, 5, 8], [3, 6, 9]]\n"
     ]
    }
   ],
   "source": [
    "# Test - matrix_transpose\n",
    "mx_test_transpose = [[1,2,3],\n",
    "                     [4,5,6],\n",
    "                     [7,8,9]]\n",
    "\n",
    "print (matrix_transpose(mx_test_transpose))"
   ]
  },
  {
   "cell_type": "code",
   "execution_count": 135,
   "metadata": {},
   "outputs": [],
   "source": [
    "def matrix_determinant(mx: list[list[float]]) -> float:\n",
    "    '''\n",
    "    Calculates the matrix determinant. The matrix must be square.\n",
    "\n",
    "    ::Params\n",
    "    mx - matrix to calculate the determinant for\n",
    "    ::Returns\n",
    "    A float value expressing the determinant of the matrix\n",
    "    '''\n",
    "    \n",
    "    if (len(mx) != len(mx[0])):\n",
    "        raise Exception(f\"Matrix must be square to calculate its determinant.\")\n",
    "\n",
    "    # 2x2 matrix\n",
    "    if len(mx) == 2:\n",
    "        return float(mx[0][0] * mx[1][1]) - (mx[0][1] * mx[1][0])\n",
    "    \n",
    "    # Not trying to be smart, this is from ChatGpt, Laplace expansion for matrixes > 2x2\n",
    "    # Recursive\n",
    "    else:\n",
    "        det = 0\n",
    "        # Perform Laplace expansion along the first row\n",
    "        for i in range(len(mx)):\n",
    "            submx = [row[1:] for row in mx[1:]]\n",
    "            det += ((-1) ** i) * mx[0][i] * matrix_determinant(submx)\n",
    "\n",
    "    return det\n"
   ]
  },
  {
   "cell_type": "code",
   "execution_count": 136,
   "metadata": {},
   "outputs": [
    {
     "name": "stdout",
     "output_type": "stream",
     "text": [
      "Determinant for 2x2: -3.0\n",
      "Determinant for 3x3: -6.0\n"
     ]
    }
   ],
   "source": [
    "# Test - matrix_determinant\n",
    "mx_test_det_2x2 = [[1,2],\n",
    "                   [4,5]]\n",
    "\n",
    "mx_test_det_3x3 = [[1,2,3],\n",
    "                   [4,5,6],\n",
    "                   [7,8,9]]\n",
    "\n",
    "print(f'Determinant for 2x2: {matrix_determinant(mx_test_det_2x2)}')\n",
    "print(f'Determinant for 3x3: {matrix_determinant(mx_test_det_3x3)}')\n"
   ]
  },
  {
   "cell_type": "code",
   "execution_count": 137,
   "metadata": {},
   "outputs": [],
   "source": [
    "def matrix_inverse(mx: list[list[float]]) -> list[list[float]]:\n",
    "    '''\n",
    "    Finds the inverse of a matrix. The matrix must be square and 2x2 - difficult for higher dimensions.\n",
    "\n",
    "    ::Params\n",
    "    mx - matrix to find the inverse for\n",
    "    ::Returns\n",
    "    An inversed matrix - list of lists of floats\n",
    "    '''\n",
    "    \n",
    "    # Only for a square 2x2 matrix\n",
    "    if (matrix_dimensions(mx) != [2,2]):\n",
    "        raise Exception(\"Matrix must be square 2x2.\")\n",
    "    \n",
    "    # Getting the determinant\n",
    "    mx_det = matrix_determinant(mx)\n",
    "\n",
    "    # Checking zero determinant?\n",
    "    \n",
    "    # Already float\n",
    "    mx_det_inv = 1 / mx_det\n",
    "\n",
    "    # Matrix inversion\n",
    "    mx_inv_out = [[mx[1][1] * mx_det_inv, -mx[0][1] * mx_det_inv], [-mx[1][0] * mx_det_inv, mx[0][0] * mx_det_inv]]\n",
    "\n",
    "    return mx_inv_out\n"
   ]
  },
  {
   "cell_type": "code",
   "execution_count": 138,
   "metadata": {},
   "outputs": [
    {
     "name": "stdout",
     "output_type": "stream",
     "text": [
      "Inversed matrix: [[2.5, -1.0], [-2.0, 1.0]]\n"
     ]
    }
   ],
   "source": [
    "# Test - matrix_inverse\n",
    "mx_test_inverse = [[2,2],\n",
    "                   [4,5]]\n",
    "\n",
    "print(f'Inversed matrix: {matrix_inverse(mx_test_inverse)}')"
   ]
  },
  {
   "cell_type": "code",
   "execution_count": 158,
   "metadata": {},
   "outputs": [],
   "source": [
    "def beautify_matrix(mx: list[list[float]], decimals: float = 2):\n",
    "    '''\n",
    "    Prints the matrix in a pretty way, rows/cols\n",
    "    '''\n",
    "    \n",
    "    if (matrix_empty(mx)):\n",
    "        print('||')\n",
    "    else:\n",
    "        # print('[', end = \"\")\n",
    "        for row in range(len(mx)):\n",
    "            print(' |', end = \"\")\n",
    "            for col in range(len(mx[0])):\n",
    "                print(\" {:.2f}\".format(mx[row][col]), end = \"\" )\n",
    "                if (col < len(mx[0])-1):\n",
    "                    print(\",\", end = \"\")\n",
    "            print('|')\n",
    "                "
   ]
  },
  {
   "cell_type": "markdown",
   "metadata": {},
   "source": [
    "### Tests\n",
    "#### Matrixes used for tests \n",
    "\n",
    "Matrix A:\n",
    "$\n",
    "\\left[\n",
    "\\begin{array}{ll}\n",
    "    2 & 3  \\\\\n",
    "    6 & -1 \\\\\n",
    "\\end{array}\n",
    "\\right]\n",
    "$\n",
    "\n",
    "Matrix B:\n",
    "$\n",
    "\\left[\n",
    "\\begin{array}{ll}\n",
    "    -7 & 4  \\\\\n",
    "    9 & 7 \\\\\n",
    "\\end{array}\n",
    "\\right]\n",
    "$\n"
   ]
  },
  {
   "cell_type": "code",
   "execution_count": 164,
   "metadata": {},
   "outputs": [
    {
     "name": "stdout",
     "output_type": "stream",
     "text": [
      "--------------------------------------------------------------------------------\n",
      "MATRIX ADDITION\n",
      "\n",
      "Matrix A used for tests:\n",
      " | 2.00, 3.00|\n",
      " | 6.00, -1.00|\n",
      "\n",
      "Matrix B used for tests:\n",
      " | -7.00, 4.00|\n",
      " | 9.00, 7.00|\n",
      "\n",
      "RESULT:\n",
      " | -5.00, 7.00|\n",
      " | 15.00, 6.00|\n"
     ]
    }
   ],
   "source": [
    "mxa = [[2,  3],\n",
    "       [6, -1]]\n",
    "\n",
    "mxb = [[-7, 4],\n",
    "       [ 9, 7]]\n",
    "\n",
    "#Matrix addition\n",
    "print(80*'-')\n",
    "print('MATRIX ADDITION\\n')\n",
    "print('Matrix A used for tests:')\n",
    "beautify_matrix(mxa)\n",
    "\n",
    "print('\\nMatrix B used for tests:')\n",
    "beautify_matrix(mxb)\n",
    "\n",
    "mxresult = matrix_element_op(mxa, mxb, element_add)\n",
    "print('\\nRESULT:')\n",
    "beautify_matrix(mxresult)"
   ]
  },
  {
   "cell_type": "code",
   "execution_count": 166,
   "metadata": {},
   "outputs": [
    {
     "name": "stdout",
     "output_type": "stream",
     "text": [
      "--------------------------------------------------------------------------------\n",
      "MATRIX MULTIPLICATION\n",
      "\n",
      "Matrix A used for tests:\n",
      " | 2.00, 3.00|\n",
      " | 6.00, -1.00|\n",
      "\n",
      "Matrix B used for tests:\n",
      " | -7.00, 4.00|\n",
      " | 9.00, 7.00|\n",
      "\n",
      "RESULT:\n",
      " | 13.00|\n",
      " | 17.00|\n"
     ]
    }
   ],
   "source": [
    "mxa = [[2,  3],\n",
    "       [6, -1]]\n",
    "\n",
    "mxb = [[-7, 4],\n",
    "       [ 9, 7]]\n",
    "\n",
    "#Matrix multiplication\n",
    "print(80*'-')\n",
    "print('MATRIX MULTIPLICATION\\n')\n",
    "print('Matrix A used for tests:')\n",
    "beautify_matrix(mxa)\n",
    "\n",
    "print('\\nMatrix B used for tests:')\n",
    "beautify_matrix(mxb)\n",
    "\n",
    "mxresult = matrix_multiply(mxa, mxb)\n",
    "print('RESULT:')\n",
    "beautify_matrix(mxresult)"
   ]
  },
  {
   "cell_type": "code",
   "execution_count": 167,
   "metadata": {},
   "outputs": [
    {
     "name": "stdout",
     "output_type": "stream",
     "text": [
      "--------------------------------------------------------------------------------\n",
      "MATRIX TRANSPOSE\n",
      "\n",
      "Matrix used for tests:\n",
      " | 2.00, 3.00|\n",
      " | 6.00, -1.00|\n",
      "\n",
      "RESULT:\n",
      " | 2.00, 6.00|\n",
      " | 3.00, -1.00|\n"
     ]
    }
   ],
   "source": [
    "mxa = [[2,  3],\n",
    "       [6, -1]]\n",
    "\n",
    "#Matrix transpose\n",
    "print(80*'-')\n",
    "print('MATRIX TRANSPOSE\\n')\n",
    "print('Matrix used for tests:')\n",
    "beautify_matrix(mxa)\n",
    "\n",
    "mxresult = matrix_transpose(mxa)\n",
    "print('\\nRESULT:')\n",
    "beautify_matrix(mxresult)"
   ]
  },
  {
   "cell_type": "code",
   "execution_count": 168,
   "metadata": {},
   "outputs": [
    {
     "name": "stdout",
     "output_type": "stream",
     "text": [
      "--------------------------------------------------------------------------------\n",
      "MATRIX INVERSION\n",
      "\n",
      "Matrix used for tests:\n",
      " | 2.00, 3.00|\n",
      " | 6.00, -1.00|\n",
      "\n",
      "RESULT:\n",
      " | 0.05, 0.15|\n",
      " | 0.30, -0.10|\n"
     ]
    }
   ],
   "source": [
    "mxa = [[2,  3],\n",
    "       [6, -1]]\n",
    "\n",
    "#Matrix inversion\n",
    "print(80*'-')\n",
    "print('MATRIX INVERSION\\n')\n",
    "print('Matrix used for tests:')\n",
    "beautify_matrix(mxa)\n",
    "\n",
    "mxresult = matrix_inverse(mxa)\n",
    "print('\\nRESULT:')\n",
    "beautify_matrix(mxresult)"
   ]
  },
  {
   "cell_type": "code",
   "execution_count": 169,
   "metadata": {},
   "outputs": [
    {
     "name": "stdout",
     "output_type": "stream",
     "text": [
      "--------------------------------------------------------------------------------\n",
      "MATRIX DETERMINANT\n",
      "\n",
      "Matrix used for tests:\n",
      " | 2.00, 3.00|\n",
      " | 6.00, -1.00|\n",
      "\n",
      "DETERMINANT = -20.00\n"
     ]
    }
   ],
   "source": [
    "mxa = [[2,  3],\n",
    "       [6, -1]]\n",
    "\n",
    "#Matrix determinant\n",
    "print(80*'-')\n",
    "print('MATRIX DETERMINANT\\n')\n",
    "print('Matrix used for tests:')\n",
    "beautify_matrix(mxa)\n",
    "\n",
    "mx_det = matrix_determinant(mxa)\n",
    "print('\\nDETERMINANT = {:.2f}'.format(mx_det) )\n"
   ]
  },
  {
   "cell_type": "markdown",
   "metadata": {},
   "source": [
    "<hr style=\"border:2px solid gray\"> </hr>"
   ]
  },
  {
   "cell_type": "markdown",
   "metadata": {},
   "source": [
    "## Imports"
   ]
  },
  {
   "cell_type": "code",
   "execution_count": 7,
   "metadata": {},
   "outputs": [],
   "source": [
    "import numpy as np\n",
    "import matplotlib.pyplot as plt"
   ]
  },
  {
   "cell_type": "markdown",
   "metadata": {},
   "source": [
    "If you believe required imports are missing, please contact your moderator."
   ]
  },
  {
   "cell_type": "markdown",
   "metadata": {},
   "source": [
    "<hr style=\"border:2px solid gray\"> </hr>"
   ]
  },
  {
   "cell_type": "markdown",
   "metadata": {},
   "source": [
    "## Reference Implementation"
   ]
  },
  {
   "cell_type": "code",
   "execution_count": 8,
   "metadata": {},
   "outputs": [],
   "source": [
    "def linreg_weights(X,y):\n",
    "    # Calculation of weights using pseudo-inverse. Note that X needs to contain the bias of 1\n",
    "    return np.linalg.inv((X.T.dot(X))).dot(X.T).dot(y)"
   ]
  },
  {
   "cell_type": "code",
   "execution_count": 9,
   "metadata": {},
   "outputs": [],
   "source": [
    "def linreg_predict(w,X):\n",
    "    # Calculation of outputs given weights and data (X). Note that X needs to contain the bias of 1. \n",
    "    out=[]\n",
    "    for x in X:\n",
    "        out.append(w.T.dot(x))\n",
    "    return np.array(out)"
   ]
  },
  {
   "cell_type": "markdown",
   "metadata": {},
   "source": [
    "Load data from file (including bias of 1)"
   ]
  },
  {
   "cell_type": "code",
   "execution_count": 10,
   "metadata": {},
   "outputs": [],
   "source": [
    "data = np.loadtxt('lr_data.csv', delimiter=',')\n",
    "X = data[:,0:2]\n",
    "y= [[data[i,2]] for i in range(0,len(data[:,2]))]"
   ]
  },
  {
   "cell_type": "markdown",
   "metadata": {},
   "source": [
    "Apply data to linear regression algorithm to obtain weights"
   ]
  },
  {
   "cell_type": "code",
   "execution_count": 11,
   "metadata": {},
   "outputs": [
    {
     "data": {
      "text/plain": [
       "array([[-99.46431881],\n",
       "       [564.20389249]])"
      ]
     },
     "execution_count": 11,
     "metadata": {},
     "output_type": "execute_result"
    }
   ],
   "source": [
    "weights = linreg_weights(X,y)\n",
    "weights"
   ]
  },
  {
   "cell_type": "code",
   "execution_count": 12,
   "metadata": {},
   "outputs": [
    {
     "data": {
      "text/plain": [
       "(0.0, 3.0, -100.0, 1500.0)"
      ]
     },
     "execution_count": 12,
     "metadata": {},
     "output_type": "execute_result"
    },
    {
     "data": {
      "image/png": "[encoded data removed]",
      "text/plain": [
       "<Figure size 432x288 with 1 Axes>"
      ]
     },
     "metadata": {
      "needs_background": "light"
     },
     "output_type": "display_data"
    }
   ],
   "source": [
    "ind = np.arange(0,2.8,0.1)\n",
    "plt.plot(X[:,1],y,'.')\n",
    "plt.plot(ind, ind*weights[1]+weights[0],'r')\n",
    "plt.axis([0, 3, -100, 1500])"
   ]
  },
  {
   "cell_type": "markdown",
   "metadata": {},
   "source": [
    "<hr style=\"border:2px solid gray\"> </hr>"
   ]
  },
  {
   "cell_type": "markdown",
   "metadata": {},
   "source": [
    "## Task"
   ]
  },
  {
   "cell_type": "markdown",
   "metadata": {},
   "source": [
    "You may add as many cells as you require to complete this task."
   ]
  },
  {
   "cell_type": "code",
   "execution_count": null,
   "metadata": {},
   "outputs": [],
   "source": []
  },
  {
   "cell_type": "markdown",
   "metadata": {},
   "source": [
    "<hr style=\"border:2px solid gray\"> </hr>"
   ]
  },
  {
   "cell_type": "markdown",
   "metadata": {},
   "source": [
    "## Reflection"
   ]
  },
  {
   "cell_type": "markdown",
   "metadata": {},
   "source": [
    "Write your reflection in below cell."
   ]
  },
  {
   "cell_type": "code",
   "execution_count": null,
   "metadata": {},
   "outputs": [],
   "source": []
  }
 ],
 "metadata": {
  "kernelspec": {
   "display_name": "Python 3 (ipykernel)",
   "language": "python",
   "name": "python3"
  },
  "language_info": {
   "codemirror_mode": {
    "name": "ipython",
    "version": 3
   },
   "file_extension": ".py",
   "mimetype": "text/x-python",
   "name": "python",
   "nbconvert_exporter": "python",
   "pygments_lexer": "ipython3",
   "version": "3.11.4"
  }
 },
 "nbformat": 4,
 "nbformat_minor": 2
}
