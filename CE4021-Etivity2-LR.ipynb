{
 "cells": [
  {
   "cell_type": "markdown",
   "metadata": {},
   "source": [
    "## Notebook E-tivity 2 CE4021 Linear Regression"
   ]
  },
  {
   "cell_type": "markdown",
   "metadata": {},
   "source": [
    "Student name: Peter O'Mahony"
   ]
  },
  {
   "cell_type": "markdown",
   "metadata": {},
   "source": [
    "Student ID: 8361967"
   ]
  },
  {
   "cell_type": "markdown",
   "metadata": {},
   "source": [
    "<hr style=\"border:2px solid gray\"> </hr>"
   ]
  },
  {
   "cell_type": "markdown",
   "metadata": {},
   "source": [
    "_The goal of this task is to create your own implementation of linear regression using your own functions to implement the required matrix manipulations._\n",
    "_Inspect the reference implementation and create functions for all the matrix manipulations required to implement the linear regression algorithm._\n",
    "\n",
    "_Use these matrix manipulation functions in a new function that takes the data (X) and outputs (y) and returns the least squares estimate of the linear regression weight vector. Call this function 'fit'._\n",
    "_Create a second function that uses the weights found by the fit method and a number of data points X to create new predictions. Call this function 'predict'._\n",
    "_Finally, create a function that returns the weights found by the fit method. Call this function 'get_params'.\n",
    "\n",
    "_Please note:_\n",
    "\n",
    "_The function to calculate the inverse of a matrix need only be applicable to 2x2 matrices. All other functions should be able to handle matrices of arbitrary sizes._\n",
    "_Error handling is very useful to prevent matrices of incorrect sizes resulting in run-time errors._\n",
    "_Add appropriate comments (doc strings) to the functions you have created._\n",
    "_At this stage you should not create a class to encapsulate your code. Please add this element, if time permits, as part of your reflection._"
   ]
  },
  {
   "cell_type": "markdown",
   "metadata": {},
   "source": [
    "# DRAFT - FOR INITIAL REVIEW\n",
    "\n",
    "## Initial Thoughts\n",
    "This challenge is about creating functions that operate on matrices. Later those functions will need to become methods in a class.\n",
    "\n",
    "Somewhere in the resources implies that to estimate the least squares we use a formula like:\n",
    "$$ (X^T \\cdot X)^{-1} \\cdot X^T \\cdot y$$\n",
    "and I found that in Pep's Lessons video.  It's not clear to me how that formula is derived but I can precipiate from it that there are a few matrix manipulations/functions needed to use the formula:\n",
    "1. Transpose\n",
    "2. Dot\n",
    "3. Inverse\n",
    "\n",
    "and it appears that that is the scope of Part 1 of this E-tivity.  I'm fascinated that there is no sign of a square root or Pythagorus in this and yet we are going to evaluate distances from a line.  A shake of magic no doubt.\n",
    "\n",
    "## Approach\n",
    "I am going to write the functions noted above and then define a collection of tests that uses both them and the numpy versions and compares the results.\n",
    "\n",
    "The Dot product looks like the most complex so I will start with that.  I wrote out a pair of generic matrices on paper to help me consider the coordinates of each element in a matrix and determine how it will be used:\n",
    "\n",
    "$$\n",
    "\\left [\n",
    "\\begin{matrix}\n",
    "A_{11} & A_{12} \\\\\n",
    "A_{21} & A_{22}\n",
    "\\end{matrix}\n",
    "\\right ]\n",
    ".\n",
    "\\left [\n",
    "\\begin{matrix}\n",
    "B_{11} & B_{12} & B_{13} \\\\\n",
    "B_{21} & B_{22} & B_{23} \n",
    "\\end{matrix}\n",
    "\\right ]\n",
    "=\n",
    "\\left [\n",
    "\\begin{matrix}\n",
    "C_{11} & C_{12} & C_{13} \\\\\n",
    "C_{21} & C_{22} & C_{23} \n",
    "\\end{matrix}\n",
    "\\right ]\n",
    "$$\n",
    "\n",
    "where, for example, \n",
    "$ C_{11} = A_{11}B_{11}+A_{12}B_{21} $ and $ C_{12} = A_{11}B_{12}+A_{12}B_{22} $ etc\n",
    "\n",
    "Some validation will be necessary.  For Dot Product of A.B, the number of columns of A must match the number of rows of B. The resulting matrix will have dimensions of the number of rows of A times the number of columns of B.\n",
    "\n",
    "The arrangement of for loops to effect this function is daunting so I thought about ways to help myself track the output.  When considering $ C_{11} $ in this example, I noticed the pattern where the value is the sum of n terms and that n is equal to the number of columns in A (or rows in B). This suggested to me that I could take an iterative approach to calculating the value of each element in the resulting matrix and that I could use a for loop to determine the value of each term and add it to whatever the value of that element was.\n",
    "\n",
    "I knew it would take me more time to work out sample calculations for a number of test matrices while developing the code so I came up with an idea to skip the calculations but still prove the result. I used strings and concatenation to produce the output in a similar way to that shown above and included the positions/coordinates of each element in the result.\n",
    "\n",
    "## Calculating the Inverse of a matrix\n",
    "I found this formula here https://www.mathsisfun.com/algebra/matrix-inverse.html:\n",
    "$$\n",
    "\\left [\n",
    "\\begin{matrix}\n",
    "a & b \\\\\n",
    "c & d\n",
    "\\end{matrix}\n",
    "\\right ]\n",
    "^{-1}\n",
    "=\n",
    "\\frac {1}{ad-bc}\n",
    "\\left [\n",
    "\\begin{matrix}\n",
    "d & -b \\\\\n",
    "-c & a\n",
    "\\end{matrix}\n",
    "\\right ]\n",
    "$$\n",
    "\n",
    "and it says that $ {ad-bc} $ is the determinant of the matrix and that seems important so I'm going to give it its own function because it'll probably be handy in the future.\n",
    "\n",
    "Also, it becomes clear at this point that I will need to multiply a matrix by a scalar so I will need a function for that.\n",
    "\n",
    "## Testing\n",
    "I will compare each of my functions with the numpy versions\n",
    "\n",
    "## TO DO (LOTS MORE!)\n",
    "* document the approach to multiplication and transposition\n",
    "* add comments and docstrings\n",
    "* improve variable and function names\n",
    "* develop fit, predict and get_params\n"
   ]
  },
  {
   "cell_type": "code",
   "execution_count": 1,
   "metadata": {},
   "outputs": [],
   "source": [
    "import numpy as np\n",
    "import matplotlib.pyplot as plt"
   ]
  },
  {
   "cell_type": "markdown",
   "metadata": {},
   "source": [
    "<hr style=\"border:2px solid gray\"> </hr>"
   ]
  },
  {
   "cell_type": "markdown",
   "metadata": {},
   "source": [
    "## Reference Implementation"
   ]
  },
  {
   "cell_type": "code",
   "execution_count": 2,
   "metadata": {},
   "outputs": [],
   "source": [
    "def linreg_weights(X,y):\n",
    "    # Calculation of weights using pseudo-inverse. Note that X needs to contain the bias of 1\n",
    "    return np.linalg.inv((X.T.dot(X))).dot(X.T).dot(y)"
   ]
  },
  {
   "cell_type": "code",
   "execution_count": 3,
   "metadata": {},
   "outputs": [],
   "source": [
    "def linreg_predict(w,X):\n",
    "    # Calculation of outputs given weights and data (X). Note that X needs to contain the bias of 1. \n",
    "    out=[]\n",
    "    for x in X:\n",
    "        out.append(w.T.dot(x))\n",
    "    return np.array(out)"
   ]
  },
  {
   "cell_type": "markdown",
   "metadata": {},
   "source": [
    "## My Implementation"
   ]
  },
  {
   "cell_type": "code",
   "execution_count": 4,
   "metadata": {},
   "outputs": [],
   "source": [
    "def fit():\n",
    "    pass # placeholder"
   ]
  },
  {
   "cell_type": "code",
   "execution_count": 5,
   "metadata": {},
   "outputs": [],
   "source": [
    "def predict():\n",
    "    pass # placeholder"
   ]
  },
  {
   "cell_type": "code",
   "execution_count": 6,
   "metadata": {},
   "outputs": [],
   "source": [
    "def get_params():\n",
    "    pass # placeholder"
   ]
  },
  {
   "cell_type": "code",
   "execution_count": 7,
   "metadata": {},
   "outputs": [],
   "source": [
    "def dim(matrix: list): \n",
    "    \"\"\"\n",
    "    This returns a list of dimensions of the matrix.\n",
    "    It is the first recursive function I have used in python and am including it for future reference.\n",
    "    It comes from https://stackoverflow.com/questions/17531796/find-the-dimensions-of-a-multidimensional-python-array\n",
    "    \"\"\"\n",
    "    if not type(matrix) == list:\n",
    "        return []\n",
    "    return [len(matrix)] + dim(matrix[0])"
   ]
  },
  {
   "cell_type": "code",
   "execution_count": 8,
   "metadata": {},
   "outputs": [],
   "source": [
    "def my_transpose(matrix: list) -> list:\n",
    "    \"\"\"\n",
    "    ToDo\n",
    "    \"\"\"\n",
    "    return [[matrix[row][col] for row in range(0,len(matrix))] for col in range(0,len(matrix[0]))]"
   ]
  },
  {
   "cell_type": "code",
   "execution_count": 9,
   "metadata": {},
   "outputs": [],
   "source": [
    "def my_multiply(matrix: list,scalar: float)->list:\n",
    "    \"\"\"\n",
    "    ToDo\n",
    "    \"\"\"\n",
    "    return [[matrix[row][col]*scalar for col in range(0,len(matrix[0]))] for row in range(0,len(matrix))]"
   ]
  },
  {
   "cell_type": "code",
   "execution_count": 10,
   "metadata": {},
   "outputs": [],
   "source": [
    "def my_dot(A: list,B: list, show_vars = False) -> list:\n",
    "    \"\"\"\n",
    "    ToDo\n",
    "    \"\"\"\n",
    "    dim_A = dim(A)\n",
    "    dim_B = dim(B)\n",
    "    #print('A=',dim_A,'B=',dim_B)\n",
    "    if (len(dim_A) != len(dim_B)): # Hmm, need to check this. Seems overelaborate right now\n",
    "        raise ValueError(\"Invalid sizes\", dim_A,len(dim_A),dim_B,len(dim_B))\n",
    "        \n",
    "    if (len(A[0]) != len(B)):\n",
    "        raise ValueError(f\"The number of columns in A ({dim_A[1]}) must match the number of rows in B ({dim_B[0]})\")\n",
    "        \n",
    "    C = [[''  for row in range(0,len(B[0]))] for col in range(0,len(A))] # initialise string array\n",
    "    D = [[0.0 for row in range(0,len(B[0]))] for col in range(0,len(A))] # initialise float array\n",
    "   \n",
    "    for row in range(0,len(A)):             # rows from A\n",
    "        for col in range(0,len(B[0])):      # cols from B\n",
    "            for term in range(0,len(B)):    # terms = cols of A and rows of B\n",
    "                C[row][col] += f\" + A{row+1}{term+1}.B{term+1}{col+1}\"\n",
    "                D[row][col] += float(A[row][term] * B[term][col])\n",
    "    if show_vars:\n",
    "        print('Dot as variables:',C) # show the string result\n",
    "    return D"
   ]
  },
  {
   "cell_type": "code",
   "execution_count": 11,
   "metadata": {},
   "outputs": [],
   "source": [
    "def calc_determinant(matrix:list)->float:\n",
    "    \"\"\"\n",
    "    ToDo\n",
    "    \"\"\"\n",
    "    if (len(matrix) != len(matrix[0])):\n",
    "        raise ValueError(f\"This matrix must be square to get its inverse but the dimensions are {dim(matrix)}\")\n",
    "    if (len(matrix) != 2):\n",
    "        raise ValueError(f\"This function only calculates the determinant for a 2x2 matrix and you specified one\"\n",
    "                         \"with {dim(matrix)} dimensions\")\n",
    "        # a b\n",
    "        # c d  => determinant is ad - bc\n",
    "    return float(matrix[0][0] * matrix[1][1]) - (matrix[0][1] * matrix[1][0])"
   ]
  },
  {
   "cell_type": "code",
   "execution_count": 12,
   "metadata": {},
   "outputs": [],
   "source": [
    "def my_inverse(matrix: list)->list:\n",
    "    \"\"\"\n",
    "    ToDo\n",
    "    \"\"\"\n",
    "    if (len(matrix) != len(matrix[0])):\n",
    "        raise ValueError(f\"This matrix must be square to get its inverse but the dimensions are {dim(matrix)}\")\n",
    "        \n",
    "    determinant = calc_determinant(matrix)\n",
    "    \n",
    "    if (not determinant):\n",
    "        raise ValueError(f\"We cannot inverse a matrix with a zero determinant\")\n",
    "        \n",
    "    scalar: float = 1/determinant \n",
    "    \n",
    "        # a b =>  d -b\n",
    "        # c d    -c  a\n",
    "    return my_multiply( [ [ matrix[1][1], -matrix[0][1] ], [ -matrix[1][0], matrix[0][0] ] ], scalar )"
   ]
  },
  {
   "cell_type": "code",
   "execution_count": 13,
   "metadata": {},
   "outputs": [],
   "source": [
    "def np_compare(np_array: np.array, a_list: list, precision = 9)->bool:\n",
    "    '''\n",
    "    Compare a numpy array with an equivalent list rounding both to a specified number of decimals to avoid floating\n",
    "    point issues\n",
    "    '''\n",
    "    return np.array_equal(np_array.round(precision), np.array(a_list).round(precision))"
   ]
  },
  {
   "cell_type": "markdown",
   "metadata": {},
   "source": [
    "## Do some testing of the functions"
   ]
  },
  {
   "cell_type": "code",
   "execution_count": 14,
   "metadata": {},
   "outputs": [
    {
     "name": "stdout",
     "output_type": "stream",
     "text": [
      "----------------------------------------\n",
      "Test #0:\n",
      " [[1, 2], [3, 4]]\n",
      "Transposed\n",
      " [[1, 3], [2, 4]] Compare OK?  True\n",
      "Multiplied by 10\n",
      " [[10, 20], [30, 40]] Compare OK?  True\n",
      "Dot by [[9, 8], [7, 6]]\n",
      " [[23.0, 20.0], [55.0, 48.0]] Compare OK?  True\n",
      "Inversed\n",
      " [[-2.0, 1.0], [1.5, -0.5]] Compare OK?  True\n",
      "Reversed\n",
      " [[1.0, 0.0], [0.0, 1.0]] Compare OK?  True\n",
      "----------------------------------------\n",
      "Test #1:\n",
      " [[9, 10], [10, 16]]\n",
      "Transposed\n",
      " [[9, 10], [10, 16]] Compare OK?  True\n",
      "Multiplied by 10\n",
      " [[90, 100], [100, 160]] Compare OK?  True\n",
      "Dot by [[9, 8], [7, 6]]\n",
      " [[151.0, 132.0], [202.0, 176.0]] Compare OK?  True\n",
      "Inversed\n",
      " [[0.36363636363636365, -0.2272727272727273], [-0.2272727272727273, 0.20454545454545456]] Compare OK?  True\n",
      "Reversed\n",
      " [[1.0, -4.440892098500626e-16], [0.0, 1.0]] Compare OK?  True\n",
      "----------------------------------------\n",
      "Test #2:\n",
      " [[9, 24], [9, 11]]\n",
      "Transposed\n",
      " [[9, 9], [24, 11]] Compare OK?  True\n",
      "Multiplied by 10\n",
      " [[90, 240], [90, 110]] Compare OK?  True\n",
      "Dot by [[9, 8], [7, 6]]\n",
      " [[249.0, 216.0], [158.0, 138.0]] Compare OK?  True\n",
      "Inversed\n",
      " [[-0.09401709401709403, 0.20512820512820515], [0.07692307692307693, -0.07692307692307693]] Compare OK?  True\n",
      "Reversed\n",
      " [[1.0, 0.0], [0.0, 1.0]] Compare OK?  True\n",
      "----------------------------------------\n",
      "Test #3:\n",
      " [[1, 2, 3, 4, 5], [6, -1, 8, 9, 10]]\n",
      "Transposed\n",
      " [[1, 6], [2, -1], [3, 8], [4, 9], [5, 10]] Compare OK?  True\n",
      "Multiplied by 10\n",
      " [[10, 20, 30, 40, 50], [60, -10, 80, 90, 100]] Compare OK?  True\n"
     ]
    },
    {
     "ename": "ValueError",
     "evalue": "The number of columns in A (5) must match the number of rows in B (2)",
     "output_type": "error",
     "traceback": [
      "\u001b[1;31m---------------------------------------------------------------------------\u001b[0m",
      "\u001b[1;31mValueError\u001b[0m                                Traceback (most recent call last)",
      "Cell \u001b[1;32mIn[14], line 24\u001b[0m\n\u001b[0;32m     22\u001b[0m \u001b[38;5;66;03m# Test Dot Product\u001b[39;00m\n\u001b[0;32m     23\u001b[0m dot_factor \u001b[38;5;241m=\u001b[39m [[\u001b[38;5;241m9\u001b[39m,\u001b[38;5;241m8\u001b[39m],[\u001b[38;5;241m7\u001b[39m,\u001b[38;5;241m6\u001b[39m]]\n\u001b[1;32m---> 24\u001b[0m my_dot_res \u001b[38;5;241m=\u001b[39m my_dot(test_matrix, dot_factor)\n\u001b[0;32m     25\u001b[0m \u001b[38;5;28mprint\u001b[39m(\u001b[38;5;124mf\u001b[39m\u001b[38;5;124m'\u001b[39m\u001b[38;5;124mDot by \u001b[39m\u001b[38;5;132;01m{\u001b[39;00mdot_factor\u001b[38;5;132;01m}\u001b[39;00m\u001b[38;5;130;01m\\n\u001b[39;00m\u001b[38;5;124m'\u001b[39m,my_dot_res,\u001b[38;5;124m'\u001b[39m\u001b[38;5;124mCompare OK? \u001b[39m\u001b[38;5;124m'\u001b[39m,np_compare(np\u001b[38;5;241m.\u001b[39marray(test_matrix)\u001b[38;5;241m.\u001b[39mdot(dot_factor), my_dot_res))\n\u001b[0;32m     27\u001b[0m \u001b[38;5;66;03m# Test Inverse\u001b[39;00m\n",
      "Cell \u001b[1;32mIn[10], line 12\u001b[0m, in \u001b[0;36mmy_dot\u001b[1;34m(A, B, show_vars)\u001b[0m\n\u001b[0;32m      9\u001b[0m     \u001b[38;5;28;01mraise\u001b[39;00m \u001b[38;5;167;01mValueError\u001b[39;00m(\u001b[38;5;124m\"\u001b[39m\u001b[38;5;124mInvalid sizes\u001b[39m\u001b[38;5;124m\"\u001b[39m, dim_A,\u001b[38;5;28mlen\u001b[39m(dim_A),dim_B,\u001b[38;5;28mlen\u001b[39m(dim_B))\n\u001b[0;32m     11\u001b[0m \u001b[38;5;28;01mif\u001b[39;00m (\u001b[38;5;28mlen\u001b[39m(A[\u001b[38;5;241m0\u001b[39m]) \u001b[38;5;241m!=\u001b[39m \u001b[38;5;28mlen\u001b[39m(B)):\n\u001b[1;32m---> 12\u001b[0m     \u001b[38;5;28;01mraise\u001b[39;00m \u001b[38;5;167;01mValueError\u001b[39;00m(\u001b[38;5;124mf\u001b[39m\u001b[38;5;124m\"\u001b[39m\u001b[38;5;124mThe number of columns in A (\u001b[39m\u001b[38;5;132;01m{\u001b[39;00mdim_A[\u001b[38;5;241m1\u001b[39m]\u001b[38;5;132;01m}\u001b[39;00m\u001b[38;5;124m) must match the number of rows in B (\u001b[39m\u001b[38;5;132;01m{\u001b[39;00mdim_B[\u001b[38;5;241m0\u001b[39m]\u001b[38;5;132;01m}\u001b[39;00m\u001b[38;5;124m)\u001b[39m\u001b[38;5;124m\"\u001b[39m)\n\u001b[0;32m     14\u001b[0m C \u001b[38;5;241m=\u001b[39m [[\u001b[38;5;124m'\u001b[39m\u001b[38;5;124m'\u001b[39m  \u001b[38;5;28;01mfor\u001b[39;00m row \u001b[38;5;129;01min\u001b[39;00m \u001b[38;5;28mrange\u001b[39m(\u001b[38;5;241m0\u001b[39m,\u001b[38;5;28mlen\u001b[39m(B[\u001b[38;5;241m0\u001b[39m]))] \u001b[38;5;28;01mfor\u001b[39;00m col \u001b[38;5;129;01min\u001b[39;00m \u001b[38;5;28mrange\u001b[39m(\u001b[38;5;241m0\u001b[39m,\u001b[38;5;28mlen\u001b[39m(A))] \u001b[38;5;66;03m# initialise string array\u001b[39;00m\n\u001b[0;32m     15\u001b[0m D \u001b[38;5;241m=\u001b[39m [[\u001b[38;5;241m0.0\u001b[39m \u001b[38;5;28;01mfor\u001b[39;00m row \u001b[38;5;129;01min\u001b[39;00m \u001b[38;5;28mrange\u001b[39m(\u001b[38;5;241m0\u001b[39m,\u001b[38;5;28mlen\u001b[39m(B[\u001b[38;5;241m0\u001b[39m]))] \u001b[38;5;28;01mfor\u001b[39;00m col \u001b[38;5;129;01min\u001b[39;00m \u001b[38;5;28mrange\u001b[39m(\u001b[38;5;241m0\u001b[39m,\u001b[38;5;28mlen\u001b[39m(A))] \u001b[38;5;66;03m# initialise float array\u001b[39;00m\n",
      "\u001b[1;31mValueError\u001b[0m: The number of columns in A (5) must match the number of rows in B (2)"
     ]
    }
   ],
   "source": [
    "test_matrices = (\n",
    "    [[1,2],[3,4]],\n",
    "    [[9, 10], [10, 16]],\n",
    "    np.random.randint(25, size=(2, 2)).tolist(),\n",
    "    [[1,2,3,4,5],[6,-1,8,9,10]],\n",
    "    [[3,2,1],[4,4,4],[7,-7,-7]],\n",
    "    )\n",
    "\n",
    "for index, test_matrix in enumerate(test_matrices):\n",
    "    print('-'*40)\n",
    "    print(f'Test #{index}:\\n',test_matrix)\n",
    "    \n",
    "    # Test Transposition\n",
    "    my_transpose_res = my_transpose(test_matrix)\n",
    "    print('Transposed\\n',my_transpose_res,'Compare OK? ',np_compare(np.array(test_matrix).T, my_transpose_res))\n",
    "    \n",
    "    # Test Multiplication\n",
    "    scalar = 10\n",
    "    my_multiply_res = my_multiply(test_matrix, scalar)\n",
    "    print(f'Multiplied by {scalar}\\n',my_multiply_res,'Compare OK? ',np_compare(np.array(test_matrix)*scalar, my_multiply_res))\n",
    "    \n",
    "    # Test Dot Product\n",
    "    dot_factor = [[9,8],[7,6]]\n",
    "    my_dot_res = my_dot(test_matrix, dot_factor)\n",
    "    print(f'Dot by {dot_factor}\\n',my_dot_res,'Compare OK? ',np_compare(np.array(test_matrix).dot(dot_factor), my_dot_res))\n",
    "    \n",
    "    # Test Inverse\n",
    "    my_inv_res = my_inverse(test_matrix)\n",
    "    print(f'Inversed\\n',my_inv_res,'Compare OK? ',np_compare(np.linalg.inv(np.array(test_matrix)), my_inv_res))\n",
    "    my_res_res = my_dot(test_matrix, my_inv_res) # should return the identity matrix\n",
    "    print(f'Reversed\\n',my_res_res,'Compare OK? ',np_compare(np.linalg.inv(np.array(my_res_res)), my_res_res))\n",
    "    \n",
    "    "
   ]
  },
  {
   "cell_type": "markdown",
   "metadata": {},
   "source": [
    "Load data from file (including bias of 1)"
   ]
  },
  {
   "cell_type": "code",
   "execution_count": null,
   "metadata": {},
   "outputs": [],
   "source": [
    "data = np.loadtxt('lr_data.csv', delimiter=',')\n",
    "X = data[:,0:2]\n",
    "y= [[data[i,2]] for i in range(0,len(data[:,2]))]"
   ]
  },
  {
   "cell_type": "markdown",
   "metadata": {},
   "source": [
    "Apply data to linear regression algorithm to obtain weights"
   ]
  },
  {
   "cell_type": "code",
   "execution_count": null,
   "metadata": {},
   "outputs": [],
   "source": [
    "weights = linreg_weights(X,y)\n",
    "weights"
   ]
  },
  {
   "cell_type": "markdown",
   "metadata": {},
   "source": [
    "<hr style=\"border:2px solid gray\"> </hr>"
   ]
  },
  {
   "cell_type": "code",
   "execution_count": null,
   "metadata": {},
   "outputs": [],
   "source": [
    "ind = np.arange(0,2.8,0.1)\n",
    "plt.plot(X[:,1],y,'.')\n",
    "plt.plot(ind, ind*weights[1]+weights[0],'r')\n",
    "plt.axis([0, 3, -100, 1500])"
   ]
  },
  {
   "cell_type": "markdown",
   "metadata": {},
   "source": [
    "## My version"
   ]
  },
  {
   "cell_type": "code",
   "execution_count": null,
   "metadata": {},
   "outputs": [],
   "source": [
    "def my_linreg_weights(X,y):\n",
    "    # Calculation of weights using pseudo-inverse. Note that X needs to contain the bias of 1\n",
    "    \"\"\"\n",
    "    orig linreg_weights:\n",
    "        np.linalg.inv(\n",
    "            (X.T\n",
    "            .dot(X))\n",
    "            )\n",
    "            .dot(X.T)\n",
    "            .dot(y)\n",
    "    \"\"\"\n",
    "    # break into more manageable units\n",
    "    XT        = my_transpose(X)\n",
    "    XTdotX    = my_dot( XT, X)\n",
    "    invXTdotX = my_inverse( XTdotX )\n",
    "    step4     = my_dot( invXTdotX,  my_transpose(X))\n",
    "    final     = my_dot( step4, y)\n",
    "    return final"
   ]
  },
  {
   "cell_type": "code",
   "execution_count": null,
   "metadata": {},
   "outputs": [],
   "source": [
    "print('np weights\\n',weights.tolist())\n",
    "my_weights = my_linreg_weights(X.tolist(),y)\n",
    "print('my weights\\n',my_weights)\n",
    "print('Compare OK? ',np_compare(weights, my_weights))\n"
   ]
  },
  {
   "cell_type": "markdown",
   "metadata": {},
   "source": [
    "<hr style=\"border:2px solid gray\"> </hr>"
   ]
  },
  {
   "cell_type": "markdown",
   "metadata": {},
   "source": [
    "## Reflection"
   ]
  },
  {
   "cell_type": "markdown",
   "metadata": {},
   "source": [
    "There will be a lot and I mean A LOT here."
   ]
  }
 ],
 "metadata": {
  "kernelspec": {
   "display_name": "Python 3 (ipykernel)",
   "language": "python",
   "name": "python3"
  },
  "language_info": {
   "codemirror_mode": {
    "name": "ipython",
    "version": 3
   },
   "file_extension": ".py",
   "mimetype": "text/x-python",
   "name": "python",
   "nbconvert_exporter": "python",
   "pygments_lexer": "ipython3",
   "version": "3.11.4"
  }
 },
 "nbformat": 4,
 "nbformat_minor": 2
}
