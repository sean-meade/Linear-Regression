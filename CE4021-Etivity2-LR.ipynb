{
 "cells": [
  {
   "cell_type": "markdown",
   "metadata": {},
   "source": [
    "## Notebook E-tivity 2 CE4021 Linear Regression"
   ]
  },
  {
   "cell_type": "markdown",
   "metadata": {},
   "source": [
    "**Student name:** Jason Coleman"
   ]
  },
  {
   "cell_type": "markdown",
   "metadata": {},
   "source": [
    "**Student ID:** 9539719"
   ]
  },
  {
   "cell_type": "markdown",
   "metadata": {},
   "source": [
    "<hr style=\"border:2px solid gray\"> </hr>"
   ]
  },
  {
   "cell_type": "markdown",
   "metadata": {},
   "source": [
    "## Imports"
   ]
  },
  {
   "cell_type": "code",
   "execution_count": 1,
   "metadata": {},
   "outputs": [],
   "source": [
    "import numpy as np\n",
    "import matplotlib.pyplot as plt"
   ]
  },
  {
   "cell_type": "markdown",
   "metadata": {},
   "source": [
    "If you believe required imports are missing, please contact your moderator."
   ]
  },
  {
   "cell_type": "markdown",
   "metadata": {},
   "source": [
    "<hr style=\"border:2px solid gray\"> </hr>"
   ]
  },
  {
   "cell_type": "markdown",
   "metadata": {},
   "source": [
    "## Reference Implementation"
   ]
  },
  {
   "cell_type": "code",
   "execution_count": 2,
   "metadata": {},
   "outputs": [],
   "source": [
    "def linreg_weights(X,y):\n",
    "    # Calculation of weights using pseudo-inverse. Note that X needs to contain the bias of 1\n",
    "    return np.linalg.inv((X.T.dot(X))).dot(X.T).dot(y)"
   ]
  },
  {
   "cell_type": "code",
   "execution_count": 3,
   "metadata": {},
   "outputs": [],
   "source": [
    "def linreg_predict(w,X):\n",
    "    # Calculation of outputs given weights and data (X). Note that X needs to contain the bias of 1. \n",
    "    out=[]\n",
    "    for x in X:\n",
    "        out.append(w.T.dot(x))\n",
    "    return np.array(out)"
   ]
  },
  {
   "cell_type": "markdown",
   "metadata": {},
   "source": [
    "Load data from file (including bias of 1)"
   ]
  },
  {
   "cell_type": "code",
   "execution_count": 4,
   "metadata": {},
   "outputs": [],
   "source": [
    "data = np.loadtxt('lr_data.csv', delimiter=',')\n",
    "X = data[:,0:2]\n",
    "y= [[data[i,2]] for i in range(0,len(data[:,2]))]"
   ]
  },
  {
   "cell_type": "markdown",
   "metadata": {},
   "source": [
    "Apply data to linear regression algorithm to obtain weights"
   ]
  },
  {
   "cell_type": "code",
   "execution_count": 5,
   "metadata": {},
   "outputs": [
    {
     "data": {
      "text/plain": [
       "array([[-99.46431881],\n",
       "       [564.20389249]])"
      ]
     },
     "execution_count": 5,
     "metadata": {},
     "output_type": "execute_result"
    }
   ],
   "source": [
    "weights = linreg_weights(X,y)\n",
    "weights"
   ]
  },
  {
   "cell_type": "code",
   "execution_count": 6,
   "metadata": {},
   "outputs": [
    {
     "data": {
      "text/plain": [
       "(0.0, 3.0, -100.0, 1500.0)"
      ]
     },
     "execution_count": 6,
     "metadata": {},
     "output_type": "execute_result"
    },
    {
     "data": {
      "image/png": "[encoded data removed]",
      "text/plain": [
       "<Figure size 640x480 with 1 Axes>"
      ]
     },
     "metadata": {},
     "output_type": "display_data"
    }
   ],
   "source": [
    "ind = np.arange(0,2.8,0.1)\n",
    "plt.plot(X[:,1],y,'.')\n",
    "plt.plot(ind, ind*weights[1]+weights[0],'r')\n",
    "plt.axis([0, 3, -100, 1500])"
   ]
  },
  {
   "cell_type": "markdown",
   "metadata": {},
   "source": [
    "<hr style=\"border:2px solid gray\"> </hr>"
   ]
  },
  {
   "cell_type": "markdown",
   "metadata": {},
   "source": [
    "## Task"
   ]
  },
  {
   "cell_type": "markdown",
   "metadata": {},
   "source": [
    "You may add as many cells as you require to complete this task.\n",
    "\n",
    "Perform Task 1 in Jupyter Notebook `CE4021-Etivity2-LR.ipynb` provided in the repository for this E-tivity. This notebook contains a reference implementation of linear regression, a simple but very effective machine learning algorithm that we will discuss in more detail during the next semester. \n",
    "\n",
    "## Goal \n",
    "The goal of this task is to create your own implementation of linear regression using your own functions to implement the required matrix manipulations. \n",
    "\n",
    "1. Inspect the reference implementation and create functions for all the matrix manipulations required to implement the linear regression algorithm. \n",
    "2. Use these matrix manipulation functions in a new function that takes the data (X) and outputs (y) and returns the least squares estimate of the linear regression weight vector. Call this function `fit`.\n",
    "3. Create a second function that uses the weights found by the fit method and a number of data points X to create new predictions. Call this function `predict`.\n",
    "4. Finally, create a function that returns the weights found by the fit method. Call this function `get_params`.\n",
    "\n",
    "Please note:\n",
    "\n",
    "* The function to calculate the inverse of a matrix need only be applicable to 2x2 matrices. All other functions should be able to handle matrices of arbitrary sizes.\n",
    "* Error handling is very useful to prevent matrices of incorrect sizes resulting in run-time errors. \n",
    "* Add appropriate comments (doc strings) to the functions you have created.\n",
    "* At this stage you should not create a class to encapsulate your code. Please add this element, if time permits, as part of your reflection. \n",
    "* GIT commit your tested code and push to your remote branch. TIP: use your own name in the branch name to help your peers find your code."
   ]
  },
  {
   "cell_type": "markdown",
   "metadata": {},
   "source": [
    "## Matrices\n",
    "The typical form of a $2x2$ matrix is as follows:\n",
    "\n",
    "$$\n",
    "M = \\begin{bmatrix} a & b \\\\ c & d \\end{bmatrix}\n",
    "$$\n",
    "\n",
    "### Operations\n",
    "Linear regressions requires some fundemental matrix operations:\n",
    "\n",
    "#### Addition/Subtraction/Multiplication\n",
    "These operations are element-by-element by require that the matrices have the right `shape` for the operation to be valid. \n",
    "\n",
    "#### Inverse\n",
    "Given a 2x2 matrix, \n",
    "\n",
    "$$\n",
    "\\text{Let } A = \\begin{bmatrix} a & b \\\\ c & d \\end{bmatrix}\n",
    "$$\n",
    "\n",
    "The determinant of $A$ is given by:\n",
    "\n",
    "$$\n",
    "\\text{det}(A) = ad - bc\n",
    "$$\n",
    "\n",
    "If $det(A)\\neq 0$, the inverse of $A$, denoted as $A^{-1}$ is given by:\n",
    "\n",
    "$$\n",
    "A^{-1} = \\frac{1}{\\text{det}(A)} \\begin{bmatrix} d & -b \\\\ -c & a \\end{bmatrix}\n",
    "$$\n",
    "\n",
    "#### Transpose\n",
    "The transpose of a matrix is found by swapping the row and column indices of each element, effectively flipping the matrix over its diagonal.\n",
    "$$\n",
    "M = \\begin{bmatrix} a & b \\\\ c & d \\end{bmatrix}\n",
    "$$\n",
    "\n",
    "The transpose of M is given by: \n",
    "$$\n",
    "M^T = \\begin{bmatrix} a & c \\\\ b & d \\end{bmatrix}\n",
    "$$\n",
    "\n",
    "### Linear Regression\n",
    "TODO:\n"
   ]
  },
  {
   "cell_type": "markdown",
   "metadata": {},
   "source": [
    "## Implementation\n",
    "\n",
    "### Matrix Utility Functions\n",
    "Starting with the lower-level functions."
   ]
  },
  {
   "cell_type": "code",
   "execution_count": 7,
   "metadata": {},
   "outputs": [],
   "source": [
    "def matrix_addition(A: list[list[float]], B: list[list[float]]) -> list[list[float]]:\n",
    "    \"\"\"\n",
    "    Assumes A and B are matrices of the same size.\n",
    "    Returns the result of adding matrices A and B.\n",
    "    Raises ValueError if the matrices are not of the same size.\n",
    "    \"\"\"\n",
    "    if len(A) != len(B) or len(A[0]) != len(B[0]):\n",
    "        raise ValueError(\"Matrices must be of the same size for addition.\")\n",
    "\n",
    "    # shorthand for element-wise addition of two lists    \n",
    "    return [[A[i][j] + B[i][j] for j in range(len(A[0]))] for i in range(len(A))]\n",
    "\n",
    "\n",
    "def matrix_subtraction(A: list[list[float]], B: list[list[float]]) -> list[list[float]]:\n",
    "    \"\"\"\n",
    "    Assumes A and B are matrices of the same size.\n",
    "    Returns the result of subtracting matrix B from A.\n",
    "    Raises ValueError if the matrices are not of the same size.\n",
    "    \"\"\"\n",
    "    if len(A) != len(B) or len(A[0]) != len(B[0]):\n",
    "        raise ValueError(\"Matrices must be of the same size for subtraction.\")\n",
    "\n",
    "    # shorthand for element-wise subtraction of two lists        \n",
    "    return [[A[i][j] - B[i][j] for j in range(len(A[0]))] for i in range(len(A))]\n",
    "\n",
    "\n",
    "def matrix_multiplication(A: list[list[float]], B: list[list[float]]) -> list[list[float]]:\n",
    "    \"\"\"\n",
    "    Assumes the number of columns in A is the same as the number of rows in B.\n",
    "    Returns the result of multiplying matrix A by matrix B.\n",
    "    Raises ValueError if the number of columns in A is not the same as the number of rows in B.\n",
    "    \"\"\"\n",
    "    if len(A[0]) != len(B):\n",
    "        raise ValueError(\"The number of columns in A must be the same as the number of rows in B for multiplication.\")\n",
    "        \n",
    "    # shorthand for element-wise multiplication of two lists\n",
    "    return [[sum(A[i][k] * B[k][j] for k in range(len(A[0]))) for j in range(len(B[0]))] for i in range(len(A))]\n"
   ]
  },
  {
   "cell_type": "markdown",
   "metadata": {},
   "source": [
    "### Test Addition, Subtraction and Multiplacation of Matrices"
   ]
  },
  {
   "cell_type": "code",
   "execution_count": 14,
   "metadata": {},
   "outputs": [
    {
     "name": "stdout",
     "output_type": "stream",
     "text": [
      "Matrix A:\n",
      "[[1.0, 2.0], [3.0, 4.0]]\n",
      "Matrix B:\n",
      "[[5.0, 6.0], [7.0, 8.0]]\n",
      "A + B:\n",
      "[[6.0, 8.0], [10.0, 12.0]]\n",
      "A - B:\n",
      "[[-4.0, -4.0], [-4.0, -4.0]]\n",
      "A * B:\n",
      "[[19.0, 22.0], [43.0, 50.0]]\n"
     ]
    }
   ],
   "source": [
    "A = [[1.0, 2.0], [3.0, 4.0]]\n",
    "B = [[5.0, 6.0], [7.0, 8.0]]\n",
    "\n",
    "print(\"Matrix A:\")\n",
    "print(A)\n",
    "\n",
    "print(\"Matrix B:\")\n",
    "print(B)\n",
    "\n",
    "print(\"A + B:\")\n",
    "print(matrix_addition(A, B))\n",
    "\n",
    "print(\"A - B:\")\n",
    "print(matrix_subtraction(A, B))\n",
    "\n",
    "print(\"A * B:\")\n",
    "print(matrix_multiplication(A, B))"
   ]
  },
  {
   "cell_type": "markdown",
   "metadata": {},
   "source": [
    "### Define Transpose and Invert Functions"
   ]
  },
  {
   "cell_type": "code",
   "execution_count": 8,
   "metadata": {},
   "outputs": [],
   "source": [
    "def transpose(matrix: list[list[float]]) -> list[list[float]]:\n",
    "    \"\"\"\n",
    "    Calculate the transpose of a 2x2 matrix.\n",
    "   \n",
    "    :param matrix: A list representing a 2x2 matrix.\n",
    "    :return: A list representing the transpose of the input 2x2 matrix.\n",
    "\n",
    "    Raise a ValueError if the matrix is not 2x2.\n",
    "    \"\"\"\n",
    "    # Check if the input matrix is 2x2\n",
    "    if len(matrix) != 2 or len(matrix[0]) != 2 or len(matrix[1]) != 2:\n",
    "        raise ValueError(\"The input matrix must be 2x2.\")\n",
    "    \n",
    "    return [[matrix[0][0], matrix[1][0]], [matrix[0][1], matrix[1][1]]]"
   ]
  },
  {
   "cell_type": "markdown",
   "metadata": {},
   "source": [
    "### Test the Transpose"
   ]
  },
  {
   "cell_type": "code",
   "execution_count": 15,
   "metadata": {},
   "outputs": [
    {
     "name": "stdout",
     "output_type": "stream",
     "text": [
      "X:\n",
      "[[1, 2], [3, 4]]\n",
      "X transpose:\n",
      "[[1, 3], [2, 4]]\n"
     ]
    }
   ],
   "source": [
    "X = [[1, 2], [3, 4]]\n",
    "print(f\"X:\\n{X}\")\n",
    "\n",
    "x_T = transpose(X)\n",
    "print(f\"X transpose:\\n{x_T}\")"
   ]
  },
  {
   "cell_type": "code",
   "execution_count": 9,
   "metadata": {},
   "outputs": [],
   "source": [
    "def invert_matrix(matrix: list[list[float]]) -> list[list[float]]:\n",
    "    \"\"\"\n",
    "    Calculate the inverse of a 2x2 matrix.\n",
    "   \n",
    "    :param matrix: A list representing a 2x2 matrix.\n",
    "    :return: A list representing the inverse of the input 2x2 matrix.\n",
    "\n",
    "    Raise a ValueError if the matrix is singular and non-invertible or if the matrix is not 2x2.\n",
    "    \"\"\"\n",
    "    # Check if the input matrix is 2x2\n",
    "    if len(matrix) != 2 or len(matrix[0]) != 2 or len(matrix[1]) != 2:\n",
    "        raise ValueError(\"The input matrix must be 2x2.\")\n",
    "    \n",
    "    a, b, c, d = matrix[0][0], matrix[0][1], matrix[1][0], matrix[1][1]\n",
    "    det = a * d - b * c\n",
    "    \n",
    "    if det == 0:\n",
    "        raise ValueError(\"The matrix is singular and non-invertible.\")\n",
    "    \n",
    "    inv_det = 1 / det\n",
    "    return [[d * inv_det, -b * inv_det], [-c * inv_det, a * inv_det]]"
   ]
  },
  {
   "cell_type": "markdown",
   "metadata": {},
   "source": [
    "### Test the inverse"
   ]
  },
  {
   "cell_type": "code",
   "execution_count": 16,
   "metadata": {},
   "outputs": [
    {
     "name": "stdout",
     "output_type": "stream",
     "text": [
      "X:\n",
      "[[1, 2], [3, 4]]\n",
      "X invert:\n",
      "[[-2.0, 1.0], [1.5, -0.5]]\n",
      "\n",
      "X:\n",
      "[[1, 2], [1, 2]]\n",
      "Error: The matrix is singular and non-invertible.\n"
     ]
    }
   ],
   "source": [
    "X = [[1, 2], [3, 4]]\n",
    "print(f\"X:\\n{X}\")\n",
    "\n",
    "x_invert = invert_matrix(X)\n",
    "\n",
    "print(f\"X invert:\\n{x_invert}\")\n",
    "print()\n",
    "\n",
    "try:\n",
    "    X = [[1, 2], [1, 2]]\n",
    "    print(f\"X:\\n{X}\")\n",
    "\n",
    "    x_invert = invert_matrix(X)\n",
    "\n",
    "    print(f\"X invert:\\n{x_invert}\")\n",
    "except ValueError as e:\n",
    "    print(f\"Error: {e}\")"
   ]
  },
  {
   "cell_type": "markdown",
   "metadata": {},
   "source": [
    "### Core Linear Regression Functions"
   ]
  },
  {
   "cell_type": "code",
   "execution_count": 10,
   "metadata": {},
   "outputs": [],
   "source": [
    "def get_params(weights: list[float]) -> list[float]:\n",
    "    \"\"\"\n",
    "    Returns the weights found by the fit method.\n",
    "\n",
    "    :param weights: A list representing the linear regression weight vector.\n",
    "    :return: A list representing the weights.\n",
    "    \"\"\"\n",
    "    return weights"
   ]
  },
  {
   "cell_type": "code",
   "execution_count": 11,
   "metadata": {},
   "outputs": [],
   "source": [
    "def predict(x: list[list[float]], weights: list[float]) -> list[float]:\n",
    "    \"\"\"\n",
    "    Predicts the output using the input data and the linear regression weight vector.\n",
    "\n",
    "    :param X: A list of lists representing the input data.\n",
    "    :param weights: A list representing the linear regression weight vector.\n",
    "    :return: A list representing the predictions.\n",
    "    \"\"\"\n",
    "    raise NotImplementedError "
   ]
  },
  {
   "cell_type": "code",
   "execution_count": 12,
   "metadata": {},
   "outputs": [],
   "source": [
    "def fit(x: list[list[float]], y: list[float]) -> list[float]:\n",
    "    \"\"\"\n",
    "    Fits a linear regression model using the least squares method.\n",
    "\n",
    "    :param X: A list of lists representing the input data.\n",
    "    :param y: A list representing the output data.\n",
    "    :return: A list representing the linear regression weight vector.\n",
    "    \"\"\"\n",
    "\n",
    "    raise NotImplementedError "
   ]
  },
  {
   "cell_type": "markdown",
   "metadata": {},
   "source": [
    "## Test Core Implementation\n",
    "Include some examples to demonstrate the happy and sad paths for the main functionaility and the utility functions."
   ]
  },
  {
   "cell_type": "markdown",
   "metadata": {},
   "source": [
    "## (Utility) Loading Data from Comma Seperated Value (csv) files\n",
    "The purpose of this function is to read the data file. The code is specific to the shape of the csv file. I assume that the CSV file is in the same directory as the script and named \"data.csv\"\n"
   ]
  },
  {
   "cell_type": "code",
   "execution_count": 13,
   "metadata": {},
   "outputs": [
    {
     "name": "stdout",
     "output_type": "stream",
     "text": [
      "X values:\n",
      "[[1.0, 2.75], [1.0, 2.5], [1.0, 2.5], [1.0, 2.5], [1.0, 2.5], [1.0, 2.5], [1.0, 2.5], [1.0, 2.25], [1.0, 2.25], [1.0, 2.25], [1.0, 2.0], [1.0, 2.0], [1.0, 2.0], [1.0, 1.75], [1.0, 1.75], [1.0, 1.75], [1.0, 1.75], [1.0, 1.75], [1.0, 1.75], [1.0, 1.75], [1.0, 1.75], [1.0, 1.75], [1.0, 1.75], [1.0, 1.75]]\n",
      "y values:\n",
      "[1464.0, 1394.0, 1357.0, 1293.0, 1256.0, 1254.0, 1234.0, 1195.0, 1159.0, 1167.0, 1130.0, 1075.0, 1047.0, 965.0, 943.0, 958.0, 971.0, 949.0, 884.0, 866.0, 876.0, 822.0, 704.0, 719.0]\n"
     ]
    }
   ],
   "source": [
    "file_name = \"lr_data.csv\"\n",
    "\n",
    "# Initialize X and y\n",
    "X = []\n",
    "y = []\n",
    "\n",
    "# Open the ascii file and read line by line\n",
    "try:\n",
    "    with open(file_name, 'r') as file:      \n",
    "        # Read each line, split the values on the commas, and append to X and y lists\n",
    "        for line in file:\n",
    "            values = line.strip().split(',')\n",
    "            X.append([float(value) for value in values[:-1]])  # All columns except the last one are inputs\n",
    "            y.append(float(values[-1]))  # The last column is the output value (that we will predict)\n",
    "except FileNotFoundError:\n",
    "    print(f\"{file_name} not found.\")\n",
    "except Exception as e:\n",
    "    print(f\"Error reading {file_name}: {e}\")\n",
    "\n",
    "print(f\"X values:\\n{X}\")\n",
    "print(f\"y values:\\n{y}\")"
   ]
  },
  {
   "cell_type": "markdown",
   "metadata": {},
   "source": [
    "<hr style=\"border:2px solid gray\"> </hr>"
   ]
  },
  {
   "cell_type": "markdown",
   "metadata": {},
   "source": [
    "## Reflection"
   ]
  },
  {
   "cell_type": "markdown",
   "metadata": {},
   "source": [
    "Write your reflection in below cell."
   ]
  },
  {
   "cell_type": "code",
   "execution_count": null,
   "metadata": {},
   "outputs": [],
   "source": []
  }
 ],
 "metadata": {
  "kernelspec": {
   "display_name": "Python 3",
   "language": "python",
   "name": "python3"
  },
  "language_info": {
   "codemirror_mode": {
    "name": "ipython",
    "version": 3
   },
   "file_extension": ".py",
   "mimetype": "text/x-python",
   "name": "python",
   "nbconvert_exporter": "python",
   "pygments_lexer": "ipython3",
   "version": "3.10.9"
  }
 },
 "nbformat": 4,
 "nbformat_minor": 2
}
