{
 "cells": [
  {
   "cell_type": "markdown",
   "metadata": {},
   "source": [
    "## Notebook E-tivity 2 CE4021 Linear Regression"
   ]
  },
  {
   "cell_type": "markdown",
   "metadata": {},
   "source": [
    "Student name: Pierce Currid"
   ]
  },
  {
   "cell_type": "markdown",
   "metadata": {},
   "source": [
    "Student ID: 23260092"
   ]
  },
  {
   "cell_type": "markdown",
   "metadata": {},
   "source": [
    "<hr style=\"border:2px solid gray\"> </hr>"
   ]
  },
  {
   "cell_type": "markdown",
   "metadata": {},
   "source": [
    "## Imports"
   ]
  },
  {
   "cell_type": "code",
   "execution_count": 205,
   "metadata": {},
   "outputs": [],
   "source": [
    "import numpy as np\n",
    "import matplotlib.pyplot as plt"
   ]
  },
  {
   "cell_type": "markdown",
   "metadata": {},
   "source": [
    "If you believe required imports are missing, please contact your moderator."
   ]
  },
  {
   "cell_type": "markdown",
   "metadata": {},
   "source": [
    "<hr style=\"border:2px solid gray\"> </hr>"
   ]
  },
  {
   "cell_type": "markdown",
   "metadata": {},
   "source": [
    "## Reference Implementation"
   ]
  },
  {
   "cell_type": "code",
   "execution_count": 206,
   "metadata": {},
   "outputs": [],
   "source": [
    "def linreg_weights(X,y):\n",
    "    # Calculation of weights using pseudo-inverse. Note that X needs to contain the bias of 1\n",
    "    return np.linalg.inv((X.T.dot(X))).dot(X.T).dot(y)"
   ]
  },
  {
   "cell_type": "code",
   "execution_count": 207,
   "metadata": {},
   "outputs": [],
   "source": [
    "def linreg_predict(w,X):\n",
    "    # Calculation of outputs given weights and data (X). Note that X needs to contain the bias of 1. \n",
    "    out=[]\n",
    "    for x in X:\n",
    "        out.append(w.T.dot(x))\n",
    "    return np.array(out)"
   ]
  },
  {
   "cell_type": "markdown",
   "metadata": {},
   "source": [
    "Load data from file (including bias of 1)"
   ]
  },
  {
   "cell_type": "code",
   "execution_count": 247,
   "metadata": {},
   "outputs": [
    {
     "name": "stdout",
     "output_type": "stream",
     "text": [
      "[1.0, 2.75]\n",
      "[1.0, 2.5]\n",
      "[1.0, 2.5]\n",
      "[1.0, 2.5]\n",
      "[1.0, 2.5]\n",
      "[1.0, 2.5]\n",
      "[1.0, 2.5]\n",
      "[1.0, 2.25]\n",
      "[1.0, 2.25]\n",
      "[1.0, 2.25]\n",
      "[1.0, 2.0]\n",
      "[1.0, 2.0]\n",
      "[1.0, 2.0]\n",
      "[1.0, 1.75]\n",
      "[1.0, 1.75]\n",
      "[1.0, 1.75]\n",
      "[1.0, 1.75]\n",
      "[1.0, 1.75]\n",
      "[1.0, 1.75]\n",
      "[1.0, 1.75]\n",
      "[1.0, 1.75]\n",
      "[1.0, 1.75]\n",
      "[1.0, 1.75]\n",
      "[1.0, 1.75]\n"
     ]
    }
   ],
   "source": [
    "data = np.loadtxt('lr_data.csv', delimiter=',')\n",
    "X = data[:,0:2]\n",
    "y= [[data[i,2]] for i in range(0,len(data[:,2]))]\n",
    "for data in X.tolist():\n",
    "    print(data)"
   ]
  },
  {
   "cell_type": "markdown",
   "metadata": {},
   "source": [
    "Apply data to linear regression algorithm to obtain weights"
   ]
  },
  {
   "cell_type": "code",
   "execution_count": 209,
   "metadata": {
    "scrolled": true
   },
   "outputs": [
    {
     "data": {
      "text/plain": [
       "array([[-99.46431881],\n",
       "       [564.20389249]])"
      ]
     },
     "execution_count": 209,
     "metadata": {},
     "output_type": "execute_result"
    }
   ],
   "source": [
    "weights = linreg_weights(X,y)\n",
    "weights"
   ]
  },
  {
   "cell_type": "code",
   "execution_count": 210,
   "metadata": {
    "scrolled": true
   },
   "outputs": [
    {
     "data": {
      "text/plain": [
       "(0.0, 3.0, -100.0, 1500.0)"
      ]
     },
     "execution_count": 210,
     "metadata": {},
     "output_type": "execute_result"
    },
    {
     "data": {
      "image/png": "[encoded data removed]",
      "text/plain": [
       "<Figure size 640x480 with 1 Axes>"
      ]
     },
     "metadata": {},
     "output_type": "display_data"
    }
   ],
   "source": [
    "ind = np.arange(0,2.8,0.1)\n",
    "plt.plot(X[:,1],y,'.')\n",
    "plt.plot(ind, ind*weights[1]+weights[0],'r')\n",
    "plt.axis([0, 3, -100, 1500])"
   ]
  },
  {
   "cell_type": "markdown",
   "metadata": {},
   "source": [
    "<hr style=\"border:2px solid gray\"> </hr>"
   ]
  },
  {
   "cell_type": "markdown",
   "metadata": {},
   "source": [
    "Reference Implementation"
   ]
  },
  {
   "cell_type": "markdown",
   "metadata": {},
   "source": [
    "You may add as many cells as you require to complete this task."
   ]
  },
  {
   "cell_type": "markdown",
   "metadata": {},
   "source": [
    "## Linear Algebra"
   ]
  },
  {
   "cell_type": "markdown",
   "metadata": {},
   "source": [
    "//TODO \n",
    "1. Use these matrix manipulation functions in a new function that takes the data (X) and outputs (y) and returns the least squares estimate of the linear regression weight vector. Call this function 'fit'.\n",
    "\n",
    "2. Create a second function that uses the weights found by the fit method and a number of data points X to create new predictions. Call this function 'predict'.\n",
    "\n",
    "3. Finally, create a function that returns the weights found by the fit method. Call this function 'get_params'.\n",
    "\n",
    "Explanation and understanding of the Linear algebra involved to complete this exercise:\n",
    "\n",
    "Linear regrssion is a predictive modelling technique that is used to measure the relationship betw 2(or more) sets of variables. \n",
    "Eg - time and cost /  height and weight \n",
    "\n",
    "To do this, we plot some data on the graph and find a straight line that will most appropriately fit the data points on the graph. This regression line is built with the least squared method.\n",
    "We want to minimise the difference between the estimated value and the actual values\n",
    "Find the rotation that has the least sum of squares.\n",
    "\n",
    "//TODO - add more detail here for sum of least square, biases, prediction.\n",
    "\n",
    "Probable types of Maxtrix manipulations required in order to completed this exercise:\n",
    "Transpose, Inverse, multiplication(x3!)\n",
    "\n",
    "TRANSPOSE:\n",
    "Implementation wise to transpose a matrix, we switch the rows to columns in a matrix. \n",
    "Visually this is rotating the rows, so they become columns. \n",
    "Using the 2x2 matrix above:\n",
    "\n",
    "\n",
    "$$\n",
    "M = \\begin{bmatrix} a & b \\\\ c & d \\end{bmatrix}\n",
    "$$\n",
    "\n",
    "\n",
    "$$\n",
    "M^t = \\begin{bmatrix} a & c \\\\ b & d \\end{bmatrix}\n",
    "$$\n",
    "\n",
    "A transposed matric is represented as $M^t$\n",
    "\n",
    "MULTIPLY:\n",
    "In order to multiply matrices together, we need to ensure the number of columns of the first matrix \n",
    "matches the number of rows of the second matrix. We then use the dot product to match up the corresponding entry \n",
    "in the relevant row against the corresponding entry in the relevant column, multiple them, and sum them up.\n",
    "Matrix A:\n",
    "1  2  3\n",
    "4  5  6\n",
    "\n",
    "Matrix B:\n",
    "7  8\n",
    "9  10\n",
    "11  12\n",
    "\n",
    "(1,2,3)*(7,9,11) = (1x7) + (2x9) + (3x11) = 58\n",
    "\n",
    "(1,2,3)*(8,10,12) = (1x8) + (2x10) + (3x12) = 64\n",
    "\n",
    "and so on....\n",
    "\n",
    "Matrix R:\n",
    "58  64\n",
    "139  154\n",
    "\n",
    "INVERSE:\n",
    "An inverse matrix is representated as $M^-1$\n",
    "\n",
    "Similar to how a number has a reciprical, a matrix has an inverse. \n",
    "When we multiply a matrix by its inverse, we get the identify matrix.\n",
    "Like so: $M x M^-1$ = I\n",
    "\n",
    "\n",
    "In order to calculate the inverse of a matrix, we can take the the following matrix:\n",
    "$\n",
    "M = \\begin{bmatrix} a & b \\\\ c & d \\end{bmatrix}\n",
    "$\n",
    "\n",
    "We exchange $a$ with $d$, and put negatives in front of $b$ and $c$, then divide by the determinant, which is $ad - bc$\n",
    "\n",
    "\n",
    "$$\n",
    " \\frac{1}{ad-bc}\\,\\begin{bmatrix} d & -b \\\\ -c & a \\end{bmatrix}\n",
    "$$\n",
    "\n",
    "\n",
    "Fit function:\n",
    "$\n",
    " w = (X^tX)^-1 X^t y\n",
    "$\n"
   ]
  },
  {
   "cell_type": "markdown",
   "metadata": {},
   "source": [
    "Notes: you can only invert a square matrix."
   ]
  },
  {
   "cell_type": "markdown",
   "metadata": {},
   "source": [
    "## Python Implementation"
   ]
  },
  {
   "cell_type": "markdown",
   "metadata": {},
   "source": [
    "On initial thoughts, Lists, error handling, and input validation seem to be key to recreate this implementation.\n",
    "There also seems to be a cheeky little python funciton 'zip' which might do the transpose.\n",
    "\n",
    "Also going to try to start using return annotations for this etivity, for ease of reading\n",
    "def f(x: float) -> int:\n",
    "    return int(x)\n",
    "\n",
    "We'll be representating matrixs as Lists of Lists in python:\n",
    "So, each list within the origin list will be a row. For example the below would represent a 2x2 matrix with 2 rows.\n",
    "The 0 index of each row is the first column of each row. \n",
    "M = \n",
    "   [\n",
    "    [a,b],\n",
    "    [c,d]\n",
    "   ] \n",
    "   \n",
    "As directed above, we have 3 main functions: fit, predict, and get_params.\n",
    "\n",
    "'fit' will be building us the least square summation, which will contain the majority of the effort here from a coding perspective. Based on the equation above, and here below, we'll need to implement and call the following functions: \n",
    "Transpose, multiplication, inverse. \n",
    "\n",
    "1. transpose the matrix X, before multiplying the matrix X against the newly transposed X(t)\n",
    "2. inverse the outputted matrix from step 1.\n",
    "3. multiply the resulting matrix from step 2, X(-1), with the transposed matrix - X(t) (have this from step 1)\n",
    "4. multiply the resulting matric from step 3 with y\n",
    "\n"
   ]
  },
  {
   "cell_type": "code",
   "execution_count": 310,
   "metadata": {},
   "outputs": [],
   "source": [
    "#low level worker functions - based on the provided equation we will definitely require transpose, inverse, and multiplication\n",
    "\n",
    "def transpose(m: list[list]):\n",
    "    \n",
    "    \"\"\"this involves rotating the rows so they become columns\"\"\"\n",
    "    mt = [list(row) for row in zip(*m)]\n",
    "    return mt\n",
    "\n",
    "def multiply(m: list[list], m1: list[list]):\n",
    "\n",
    "    \"\"\"the number of columns of matrix 'm' (first matrix) must equal the number of rows of column 'm1' (second matrix).\n",
    "    The number of rows of the result matrix equals the number of rows of 'm', \n",
    "    The number of columns of the result matrix equals the number of columns of 'm1'.\n",
    "    to multiply, get the dot product of the relevant row of m and the relevant column of m1\"\"\"\n",
    "    \n",
    "    #check if we can multiply by ensuring the number of columns on 'm' match the number of rows on 'm1'\n",
    "    if validMatrix(m,m1):\n",
    "        rowM = len(m)\n",
    "        colM = len(m[0])\n",
    "        rowM1 = len(m1)\n",
    "        colM1 = len(m1[0])\n",
    "        \n",
    "        #creating an empty matrix, although this is overkill\n",
    "        result = createMatrix(rowM, colM1)\n",
    "        \n",
    "        #rows of first matrix\n",
    "        for i in range(rowM):\n",
    "            \n",
    "            #columns of second matrix\n",
    "            for j in range(colM1):\n",
    "                \n",
    "                #rows of second matrix\n",
    "                for k in range(rowM1):\n",
    "                    \n",
    "                    #dot product calculations and insert into the relevent index\n",
    "                    result[i][j]+=m[i][k]*m1[k][j]\n",
    "                \n",
    "        return result\n",
    "                                    \n",
    "                \n",
    "    else:\n",
    "       raise ArithmeticError(\"the columns from m1 don't match the rows from m2\") \n",
    "    \n",
    "    \n",
    "def inverse(m: list[list]) -> list:\n",
    "    \n",
    "    \"\"\"The function to calculate the inverse of a matrix need only be applicable to 2x2 matrices.\n",
    "        hence there will be validation that will throw out any non-2x2 matrices from this function.\n",
    "        to help myself, I'm going to conceptualise a 2x2 matrix with values a, b, c, d = [[a,b], [c, d]].\"\"\"\n",
    "    \n",
    "    #check that the matrix is a square, we can re-use validMatrix, by passing in the same matrix twice\n",
    "    if validMatrix(m, m):\n",
    "        \n",
    "        #no point in looping through a 2x2, so assigning the relevant list items to these 4 vars, based on  a, b, c, d = [[a,b], [c, d]]\"\"\"\n",
    "        a,b,c,d = m[0][0], m[0][1], m[1][0], m[1][1]\n",
    "        \n",
    "        #building out the determinant\n",
    "        determinant = a*d-b*c\n",
    "        \n",
    "        if determinant ==0:\n",
    "            raise ValueError(\"determinate cannot be zero\")\n",
    "        \n",
    "        #[[a,b], [c, d]] now switches to [[d,-b], [-c, a]] and gets multiplied by 1/determinant\n",
    "        div_det = 1/determinant\n",
    "        inverse = [[div_det*d,div_det*-b],[div_det*-c, div_det*a]]\n",
    "        return inverse\n",
    "\n",
    "    else:\n",
    "        raise ValueError(\"the inputted matrix is not a 2x2\")\n",
    "    \n",
    "\n",
    "def validMatrix(m, m1):\n",
    "    \n",
    "    \"\"\"even lower level worker functions to serve 'transpose', 'multiply', 'inverse'\n",
    "        check the number of columns of matrix 'm1' must equal the number of rows of 'm2'\"\"\"\n",
    "    \n",
    "    if len(m[0])!=len(m1):\n",
    "        return False\n",
    "    else:\n",
    "        return True\n",
    "    \n",
    "def createMatrix(rows, cols):\n",
    "    \n",
    "    \"\"\"this essentially creates an empty matrix, for use in the multiple function\"\"\"\n",
    "    empty = []\n",
    "    while len(empty) < rows:\n",
    "        empty.append([])\n",
    "        while len(empty[-1]) <cols:\n",
    "            empty[-1].append(0.0)\n",
    "    \n",
    "    return empty       \n",
    "  "
   ]
  },
  {
   "cell_type": "code",
   "execution_count": 311,
   "metadata": {},
   "outputs": [],
   "source": [
    "def fit(X, y):\n",
    "    \n",
    "    \"\"\"fit - this will build some weights that will be used as input for the 'predict' function, using this formula:\n",
    "        w = (X^tX)^-1 X^t y\n",
    "        input: X is the input data, \n",
    "        output: a list of weights\"\"\"\n",
    "\n",
    "    #1. getting the transpose of X, and assigning it to 'Xt'\n",
    "    Xt = transpose(X)\n",
    "    \n",
    "    #2. multiplying transposed matrix Xt with the original matrix. Order is important btw\n",
    "    Xt_x_X =  multiply(Xt, X)\n",
    "    \n",
    "   #3. getting the inverse of the matrix multiplication in step 2\n",
    "    Xt_x_X_minus1 = inverse(Xt_x_X)\n",
    "    \n",
    "    #4. multipy transpose of X - Xt - with y\n",
    "    XtY = multiply(Xt, y)\n",
    "    \n",
    "    #5. Finally, get the weights by multiplying Xt_x_X_minus1 with XtY\n",
    "    w = multiply(Xt_x_X_minus1, XtY)\n",
    "    \n",
    "    return w\n"
   ]
  },
  {
   "cell_type": "code",
   "execution_count": 316,
   "metadata": {
    "scrolled": true
   },
   "outputs": [],
   "source": [
    "\n",
    "def predict(X, w):\n",
    "    \n",
    "    \"\"\"predict - this will take in arguments 'w' (for the weights outputted from 'fit'), along with data points 'X'\n",
    "        input: 'w' (for the weights outputted from 'fit'), \n",
    "        output: a list of predictions\"\"\"\n",
    "    return multiply(X, w)\n",
    "    \n"
   ]
  },
  {
   "cell_type": "code",
   "execution_count": 317,
   "metadata": {},
   "outputs": [],
   "source": [
    "\n",
    "def get_params(X, y):\n",
    "    \n",
    "    \"\"\"#get_params\n",
    "        input: X is the input data, \n",
    "        output: a list of weights\"\"\"\n",
    "    weights = fit(X,y)\n",
    "    return weights"
   ]
  },
  {
   "cell_type": "markdown",
   "metadata": {},
   "source": [
    "## Tests"
   ]
  },
  {
   "cell_type": "code",
   "execution_count": 318,
   "metadata": {},
   "outputs": [
    {
     "name": "stdout",
     "output_type": "stream",
     "text": [
      "TRANSPOSE TEST:\n",
      "[1, 4]\n",
      "[2, 5]\n",
      "[3, 6]\n",
      "\n",
      "MULTIPLY TEST:\n",
      "input [[1, 2, 3], [4, 5, 6]]\n",
      "[[22.0, 28.0], [49.0, 64.0]]\n",
      "\n",
      "INVERSE TEST:\n",
      "[[-1.6666666666666665, 0.6666666666666666], [1.3333333333333333, -0.3333333333333333]]\n",
      "\n",
      "IDENTITY TEST:\n",
      "[[0.9999999999999998, 1.9999999999999996], [3.999999999999999, 4.999999999999999]]\n"
     ]
    }
   ],
   "source": [
    "\n",
    "m_2x3 = [[1,2,3],[4,5,6]]\n",
    "m_3x2 = [[1,2],[3,4],[5,6]]\n",
    "m_4x2 = [[1,2],[3,4],[5,6],[7,8]]\n",
    "m_2x2 = [[1,2],[4,5]]\n",
    "\n",
    "\n",
    "\n",
    "mt = transpose(m)\n",
    "print(\"TRANSPOSE TEST:\")\n",
    "for i in range(len(mt)):\n",
    "     print(mt[i])\n",
    "\n",
    "print(\"\")\n",
    "\n",
    "print(\"MULTIPLY TEST:\")\n",
    "print(\"input\" + \" \" + str(m))\n",
    "print(multiply(m,m1))\n",
    "\n",
    "print(\"\")\n",
    "\n",
    "print(\"INVERSE TEST:\")\n",
    "inverse_m = inverse(m_2x2)\n",
    "print(inverse(m_2x2))\n",
    "\n",
    "print(\"\")\n",
    "\n",
    "print(\"IDENTITY TEST:\")\n",
    "print(inverse(inverse_m))\n"
   ]
  },
  {
   "cell_type": "code",
   "execution_count": 315,
   "metadata": {},
   "outputs": [
    {
     "name": "stdout",
     "output_type": "stream",
     "text": [
      "Weights:  [[-99.46431881371245], [564.2038924930494]]\n",
      "\n",
      "Predictions:\n",
      "[1452.0963855421733]\n",
      "[1311.045412418911]\n",
      "[1311.045412418911]\n",
      "[1311.045412418911]\n",
      "[1311.045412418911]\n",
      "[1311.045412418911]\n",
      "[1311.045412418911]\n",
      "[1169.9944392956486]\n",
      "[1169.9944392956486]\n",
      "[1169.9944392956486]\n",
      "[1028.9434661723863]\n",
      "[1028.9434661723863]\n",
      "[1028.9434661723863]\n",
      "[887.8924930491239]\n",
      "[887.8924930491239]\n",
      "[887.8924930491239]\n",
      "[887.8924930491239]\n",
      "[887.8924930491239]\n",
      "[887.8924930491239]\n",
      "[887.8924930491239]\n",
      "[887.8924930491239]\n",
      "[887.8924930491239]\n",
      "[887.8924930491239]\n",
      "[887.8924930491239]\n",
      "\n",
      "Params: [[-99.46431881371245], [564.2038924930494]]\n",
      "\n",
      "--------------------------------------------------------------------\n",
      "\n",
      "Reference implementation weights: [[-99.46431881373405], [564.2038924930521]]\n",
      "\n",
      "Reference implementation Predictions:\n",
      "[1452.09638554]\n",
      "[1311.04541242]\n",
      "[1311.04541242]\n",
      "[1311.04541242]\n",
      "[1311.04541242]\n",
      "[1311.04541242]\n",
      "[1311.04541242]\n",
      "[1169.9944393]\n",
      "[1169.9944393]\n",
      "[1169.9944393]\n",
      "[1028.94346617]\n",
      "[1028.94346617]\n",
      "[1028.94346617]\n",
      "[887.89249305]\n",
      "[887.89249305]\n",
      "[887.89249305]\n",
      "[887.89249305]\n",
      "[887.89249305]\n",
      "[887.89249305]\n",
      "[887.89249305]\n",
      "[887.89249305]\n",
      "[887.89249305]\n",
      "[887.89249305]\n",
      "[887.89249305]\n"
     ]
    }
   ],
   "source": [
    "#fit, predict, get_params tests\n",
    "\n",
    "#fit\n",
    "weights = fit(X, y)\n",
    "print(\"Weights: \", weights)\n",
    "\n",
    "print(\"\")\n",
    "\n",
    "#predict\n",
    "predictions = predict(X, weights)\n",
    "print(\"Predictions:\")\n",
    "for prediction in predictions:\n",
    "    print(prediction)\n",
    "    \n",
    "print(\"\")\n",
    "\n",
    "#get_params\n",
    "params = get_params(X, y) \n",
    "print(\"Params:\", params)\n",
    "\n",
    "print(\"\")\n",
    "print(\"--------------------------------------------------------------------\")\n",
    "print(\"\")\n",
    "\n",
    "# Here are the values from the reference implementation:\n",
    "ref_weights = np.linalg.inv((X.T.dot(X))).dot(X.T).dot(y)\n",
    "print(f\"Reference implementation weights: {ref_weights.tolist()}\")\n",
    "ref_predictions = linreg_predict(w,X)\n",
    "print(\"\")\n",
    "print(\"Reference implementation Predictions:\")\n",
    "\n",
    "for ref_prediction in ref_predictions:\n",
    "    print(ref_prediction)\n",
    "\n",
    "    \n",
    "\n",
    "\n"
   ]
  },
  {
   "cell_type": "markdown",
   "metadata": {},
   "source": [
    "## Reflection"
   ]
  },
  {
   "cell_type": "markdown",
   "metadata": {},
   "source": [
    "Write your reflection in below cell."
   ]
  },
  {
   "cell_type": "markdown",
   "metadata": {},
   "source": [
    "## Code and insights"
   ]
  },
  {
   "cell_type": "markdown",
   "metadata": {},
   "source": []
  },
  {
   "cell_type": "markdown",
   "metadata": {},
   "source": [
    "## Peer Learning"
   ]
  },
  {
   "cell_type": "markdown",
   "metadata": {},
   "source": [
    "I've noticed peers using return annotation, that are essentially type hints, which I find really useful the more complex the code gets.I intend roll this out for my function definitions.\n",
    "\n",
    "Similarly, others are making their Linear Algebra section a lot easier to read by using LaTeX to embed equation. I intend to take this approach too\n",
    "\n",
    "I got actionable feedback from quite a few others, which led me to some improvements in my code:\n",
    "I got good feedback on my 'inverse' function and updated it to put a check to ensure the determinant wasn't zero.\n",
    "Ditto, I took onboard feedback to save compute by storing the result of 1/determinate rather than calculating it per element in the inverse matrix.\n",
    "\n",
    "For the predict function, I got a great comment from Mitch on visualising the input data to understand the overall goal, and this really helped. Sometimes its possible to get stuck in the weeds without regularly revisiting the overall goal\n",
    "\n"
   ]
  },
  {
   "cell_type": "code",
   "execution_count": null,
   "metadata": {},
   "outputs": [],
   "source": []
  }
 ],
 "metadata": {
  "kernelspec": {
   "display_name": "Python 3 (ipykernel)",
   "language": "python",
   "name": "python3"
  },
  "language_info": {
   "codemirror_mode": {
    "name": "ipython",
    "version": 3
   },
   "file_extension": ".py",
   "mimetype": "text/x-python",
   "name": "python",
   "nbconvert_exporter": "python",
   "pygments_lexer": "ipython3",
   "version": "3.11.4"
  }
 },
 "nbformat": 4,
 "nbformat_minor": 2
}
