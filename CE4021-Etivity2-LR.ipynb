{
 "cells": [
  {
   "cell_type": "markdown",
   "metadata": {},
   "source": [
    "## Notebook E-tivity 2 CE4021 Linear Regression"
   ]
  },
  {
   "cell_type": "markdown",
   "metadata": {},
   "source": [
    "Student name: Godfrey Jeremiah"
   ]
  },
  {
   "cell_type": "markdown",
   "metadata": {},
   "source": [
    "Student ID: 23310758"
   ]
  },
  {
   "cell_type": "markdown",
   "metadata": {},
   "source": [
    "<hr style=\"border:2px solid gray\"> </hr>"
   ]
  },
  {
   "cell_type": "markdown",
   "metadata": {},
   "source": [
    "## Imports"
   ]
  },
  {
   "cell_type": "code",
   "execution_count": 5,
   "metadata": {},
   "outputs": [],
   "source": [
    "import numpy as np\n",
    "import matplotlib.pyplot as plt"
   ]
  },
  {
   "cell_type": "markdown",
   "metadata": {},
   "source": [
    "If you believe required imports are missing, please contact your moderator."
   ]
  },
  {
   "cell_type": "markdown",
   "metadata": {},
   "source": [
    "<hr style=\"border:2px solid gray\"> </hr>"
   ]
  },
  {
   "cell_type": "markdown",
   "metadata": {},
   "source": [
    "## Reference Implementation"
   ]
  },
  {
   "cell_type": "code",
   "execution_count": 30,
   "metadata": {},
   "outputs": [],
   "source": [
    "def linreg_weights(X,y):\n",
    "    # Calculation of weights using pseudo-inverse. Note that X needs to contain the bias of 1\n",
    "    return np.linalg.inv((X.T.dot(X))).dot(X.T).dot(y)\n"
   ]
  },
  {
   "cell_type": "code",
   "execution_count": 31,
   "metadata": {},
   "outputs": [],
   "source": [
    "def linreg_predict(w,X):\n",
    "    # Calculation of outputs given weights and data (X). Note that X needs to contain the bias of 1. \n",
    "    out=[]\n",
    "    for x in X:\n",
    "        out.append(w.T.dot(x))\n",
    "    return np.array(out)"
   ]
  },
  {
   "cell_type": "markdown",
   "metadata": {},
   "source": [
    "Load data from file (including bias of 1)"
   ]
  },
  {
   "cell_type": "code",
   "execution_count": 32,
   "metadata": {},
   "outputs": [],
   "source": [
    "data = np.loadtxt('lr_data.csv', delimiter=',')\n",
    "X = data[:,0:2]\n",
    "y= [[data[i,2]] for i in range(0,len(data[:,2]))]"
   ]
  },
  {
   "cell_type": "markdown",
   "metadata": {},
   "source": [
    "Apply data to linear regression algorithm to obtain weights"
   ]
  },
  {
   "cell_type": "code",
   "execution_count": 33,
   "metadata": {},
   "outputs": [
    {
     "data": {
      "text/plain": [
       "array([[-99.46431881],\n",
       "       [564.20389249]])"
      ]
     },
     "execution_count": 33,
     "metadata": {},
     "output_type": "execute_result"
    }
   ],
   "source": [
    "weights = linreg_weights(X,y)\n",
    "weights"
   ]
  },
  {
   "cell_type": "code",
   "execution_count": 34,
   "metadata": {},
   "outputs": [
    {
     "data": {
      "text/plain": [
       "(0.0, 3.0, -100.0, 1500.0)"
      ]
     },
     "execution_count": 34,
     "metadata": {},
     "output_type": "execute_result"
    },
    {
     "data": {
      "image/png": "[encoded data removed]",
      "text/plain": [
       "<Figure size 640x480 with 1 Axes>"
      ]
     },
     "metadata": {},
     "output_type": "display_data"
    }
   ],
   "source": [
    "ind = np.arange(0,2.8,0.1)\n",
    "plt.plot(X[:,1],y,'.')\n",
    "plt.plot(ind, ind*weights[1]+weights[0],'r')\n",
    "plt.axis([0, 3, -100, 1500])"
   ]
  },
  {
   "cell_type": "markdown",
   "metadata": {},
   "source": [
    "<hr style=\"border:2px solid gray\"> </hr>"
   ]
  },
  {
   "cell_type": "markdown",
   "metadata": {},
   "source": [
    "## Task"
   ]
  },
  {
   "cell_type": "markdown",
   "metadata": {},
   "source": [
    "You may add as many cells as you require to complete this task."
   ]
  },
  {
   "cell_type": "markdown",
   "metadata": {},
   "source": [
    "### Task 1 | Goal of this Task"
   ]
  },
  {
   "cell_type": "markdown",
   "metadata": {},
   "source": [
    "To create my own implementation of linear regression using my own functions to implement the required matrix manipulations.\n",
    "\n",
    "As I have read the instructions carefully, I am required to inspect the reference implementation and **create functions for all the matrix manipulations** required to implement the linear regression algorithm.\n",
    "\n",
    "1. **Use these matrix manipulation functions in a new function that takes the data (X) and outputs (y) and returns the least squares estimate of the linear regression weight vector**. Call this function **'fit'**.\n",
    "\n",
    "2. **Create a second function that uses the weights found by the fit method and a number of data points X to create new predictions**. Call this function **'predict'**.\n",
    "\n",
    "3. Finally, **create a function that returns the weights found by the fit method**. Call this function **'get_params'**.\n",
    "\n",
    "\n",
    "**Important to note that:**\n",
    "The function to calculate the <u>inverse of a matrix</u> need only be applicable to 2-by-2 matrices. All other functions should be able to handle matrices of arbitrary sizes.\n",
    "\n",
    "Error handling is very useful to prevent matrices of incorrect sizes resulting in run-time errors. \n",
    "\n",
    "Add appropriate comments (doc-strings) to the functions I have created."
   ]
  },
  {
   "cell_type": "markdown",
   "metadata": {},
   "source": [
    "Taking the above instructions and guideines into account, I can now begin to attempt this task."
   ]
  },
  {
   "cell_type": "code",
   "execution_count": null,
   "metadata": {},
   "outputs": [],
   "source": []
  },
  {
   "cell_type": "code",
   "execution_count": null,
   "metadata": {},
   "outputs": [],
   "source": [
    "def calculate_inverse(X):\n",
    "    \"\"\"\n",
    "    Calculate the inverse of a matrix.\n",
    "\n",
    "    Args:\n",
    "    X (numpy.ndarray): The input matrix.\n",
    "\n",
    "    Returns:\n",
    "    numpy.ndarray: The inverse of the input matrix.\n",
    "    \"\"\"\n",
    "    return np.linalg.inv(X.T.dot(X)).dot(X.T)\n",
    "\n",
    "def fit(X, y):\n",
    "    \"\"\"\n",
    "    Fit a linear regression model to the data.\n",
    "\n",
    "    Args:\n",
    "    X (numpy.ndarray): The input data matrix, including the bias column.\n",
    "    y (numpy.ndarray): The target values.\n",
    "\n",
    "    Returns:\n",
    "    numpy.ndarray: The weight vector for the linear regression model.\n",
    "    \"\"\"\n",
    "    # Calculate the weights using the inverse method\n",
    "    weights = calculate_inverse(X).dot(y)\n",
    "    return weights\n",
    "\n",
    "def predict(weights, X):\n",
    "    \"\"\"\n",
    "    Make predictions using a linear regression model.\n",
    "\n",
    "    Args:\n",
    "    weights (numpy.ndarray): The weight vector of the linear regression model.\n",
    "    X (numpy.ndarray): The input data matrix for prediction, including the bias column.\n",
    "\n",
    "    Returns:\n",
    "    numpy.ndarray: Predicted values based on the input data and weights.\n",
    "    \"\"\"\n",
    "    return X.dot(weights)\n",
    "\n",
    "def get_params(weights):\n",
    "    \"\"\"\n",
    "    Get the weights found by the linear regression model.\n",
    "\n",
    "    Args:\n",
    "    weights (numpy.ndarray): The weight vector of the linear regression model.\n",
    "\n",
    "    Returns:\n",
    "    numpy.ndarray: The weight vector.\n",
    "    \"\"\"\n",
    "    return weights"
   ]
  },
  {
   "cell_type": "markdown",
   "metadata": {},
   "source": [
    "#### Usage - Test"
   ]
  },
  {
   "cell_type": "code",
   "execution_count": 39,
   "metadata": {},
   "outputs": [
    {
     "name": "stdout",
     "output_type": "stream",
     "text": [
      "Weights: [[-99.46431881]\n",
      " [564.20389249]]\n",
      "Predictions: [[2721.55514365]\n",
      " [3285.75903614]]\n"
     ]
    }
   ],
   "source": [
    "# Prepare your input data X (with bias) and target values y\n",
    "# The commented value below is just a test if we try new values for X and y\n",
    "# X = np.array([[1, 2], [1, 3], [1, 4]])\n",
    "# y = np.array([3, 5, 7])\n",
    "\n",
    "\n",
    "# Let us test the functions to load the data in the file\n",
    "data = np.loadtxt('lr_data.csv', delimiter=',')\n",
    "X = data[:,0:2]\n",
    "y= [[data[i,2]] for i in range(0,len(data[:,2]))]\n",
    "z = np.linalg.inv((X.T.dot(X))).dot(X.T).dot(y)\n",
    "\n",
    "\n",
    "# Fit the linear regression model\n",
    "weights = fit(X, y)\n",
    "\n",
    "# Make predictions for new data\n",
    "new_data = np.array([[1, 5], [1, 6]])\n",
    "predictions = predict(weights, new_data)\n",
    "\n",
    "# Get the weights found by the model\n",
    "model_weights = get_params(weights)\n",
    "\n",
    "# Print to test the code\n",
    "print(\"Weights:\", model_weights)\n",
    "print(\"Predictions:\", predictions)\n"
   ]
  },
  {
   "cell_type": "markdown",
   "metadata": {},
   "source": [
    "**Testing the data on file 'lr_data.csv'**"
   ]
  },
  {
   "cell_type": "code",
   "execution_count": 37,
   "metadata": {},
   "outputs": [
    {
     "name": "stdout",
     "output_type": "stream",
     "text": [
      "[[1.000e+00 2.750e+00 1.464e+03]\n",
      " [1.000e+00 2.500e+00 1.394e+03]\n",
      " [1.000e+00 2.500e+00 1.357e+03]\n",
      " [1.000e+00 2.500e+00 1.293e+03]\n",
      " [1.000e+00 2.500e+00 1.256e+03]\n",
      " [1.000e+00 2.500e+00 1.254e+03]\n",
      " [1.000e+00 2.500e+00 1.234e+03]\n",
      " [1.000e+00 2.250e+00 1.195e+03]\n",
      " [1.000e+00 2.250e+00 1.159e+03]\n",
      " [1.000e+00 2.250e+00 1.167e+03]\n",
      " [1.000e+00 2.000e+00 1.130e+03]\n",
      " [1.000e+00 2.000e+00 1.075e+03]\n",
      " [1.000e+00 2.000e+00 1.047e+03]\n",
      " [1.000e+00 1.750e+00 9.650e+02]\n",
      " [1.000e+00 1.750e+00 9.430e+02]\n",
      " [1.000e+00 1.750e+00 9.580e+02]\n",
      " [1.000e+00 1.750e+00 9.710e+02]\n",
      " [1.000e+00 1.750e+00 9.490e+02]\n",
      " [1.000e+00 1.750e+00 8.840e+02]\n",
      " [1.000e+00 1.750e+00 8.660e+02]\n",
      " [1.000e+00 1.750e+00 8.760e+02]\n",
      " [1.000e+00 1.750e+00 8.220e+02]\n",
      " [1.000e+00 1.750e+00 7.040e+02]\n",
      " [1.000e+00 1.750e+00 7.190e+02]]\n",
      "[[1.   2.75]\n",
      " [1.   2.5 ]\n",
      " [1.   2.5 ]\n",
      " [1.   2.5 ]\n",
      " [1.   2.5 ]\n",
      " [1.   2.5 ]\n",
      " [1.   2.5 ]\n",
      " [1.   2.25]\n",
      " [1.   2.25]\n",
      " [1.   2.25]\n",
      " [1.   2.  ]\n",
      " [1.   2.  ]\n",
      " [1.   2.  ]\n",
      " [1.   1.75]\n",
      " [1.   1.75]\n",
      " [1.   1.75]\n",
      " [1.   1.75]\n",
      " [1.   1.75]\n",
      " [1.   1.75]\n",
      " [1.   1.75]\n",
      " [1.   1.75]\n",
      " [1.   1.75]\n",
      " [1.   1.75]\n",
      " [1.   1.75]]\n",
      "[[1464.0], [1394.0], [1357.0], [1293.0], [1256.0], [1254.0], [1234.0], [1195.0], [1159.0], [1167.0], [1130.0], [1075.0], [1047.0], [965.0], [943.0], [958.0], [971.0], [949.0], [884.0], [866.0], [876.0], [822.0], [704.0], [719.0]]\n"
     ]
    }
   ],
   "source": [
    "data = np.loadtxt('lr_data.csv', delimiter=',')\n",
    "print(data)\n",
    "\n",
    "X = data[:,0:2]\n",
    "print(X)\n",
    "\n",
    "y= [[data[i,2]] for i in range(0,len(data[:,2]))]\n",
    "print(y)"
   ]
  },
  {
   "cell_type": "code",
   "execution_count": null,
   "metadata": {},
   "outputs": [],
   "source": []
  },
  {
   "cell_type": "markdown",
   "metadata": {},
   "source": [
    "### Task 2"
   ]
  },
  {
   "cell_type": "markdown",
   "metadata": {},
   "source": [
    "I am required to perform a Principal Components Analysis (PCA) on the provided data set using the Scikitlearn toolbox. Reduce the dimensionality of the data set to 1 and plot the effect of applying PCA in the original data space.\n",
    "\n",
    "Then use the outputs from the Scikitlearn PCA algorithm to perform the reverse transform using the numpy module only. Verify your results by (visually) comparing to the Scitkitlearn output.\n"
   ]
  },
  {
   "cell_type": "code",
   "execution_count": null,
   "metadata": {},
   "outputs": [],
   "source": []
  },
  {
   "cell_type": "markdown",
   "metadata": {},
   "source": [
    "<hr style=\"border:2px solid gray\"> </hr>"
   ]
  },
  {
   "cell_type": "markdown",
   "metadata": {},
   "source": [
    "## Reflection"
   ]
  },
  {
   "cell_type": "markdown",
   "metadata": {},
   "source": [
    "Write your reflection in below cell."
   ]
  },
  {
   "cell_type": "markdown",
   "metadata": {},
   "source": [
    "### Documentation"
   ]
  },
  {
   "cell_type": "markdown",
   "metadata": {},
   "source": [
    "##### For Task 1"
   ]
  },
  {
   "cell_type": "markdown",
   "metadata": {},
   "source": [
    "You can use these functions in the same way as described in the task instructions.\n",
    "\n",
    "Prepare your input data matrix **X** with the bias column, and target values **y**.\n",
    "Use the **fit** function to obtain the weight vector for the linear regression model.\n",
    "\n",
    "To make predictions for new data, use the **predict** function with the data matrix and the obtained weight vector.\n",
    "To retrieve the weights found by the model, use the **get_params** function.\n"
   ]
  },
  {
   "cell_type": "code",
   "execution_count": null,
   "metadata": {},
   "outputs": [],
   "source": []
  },
  {
   "cell_type": "code",
   "execution_count": null,
   "metadata": {},
   "outputs": [],
   "source": []
  },
  {
   "cell_type": "code",
   "execution_count": null,
   "metadata": {},
   "outputs": [],
   "source": []
  },
  {
   "cell_type": "code",
   "execution_count": null,
   "metadata": {},
   "outputs": [],
   "source": []
  }
 ],
 "metadata": {
  "kernelspec": {
   "display_name": "Python 3 (ipykernel)",
   "language": "python",
   "name": "python3"
  },
  "language_info": {
   "codemirror_mode": {
    "name": "ipython",
    "version": 3
   },
   "file_extension": ".py",
   "mimetype": "text/x-python",
   "name": "python",
   "nbconvert_exporter": "python",
   "pygments_lexer": "ipython3",
   "version": "3.11.4"
  }
 },
 "nbformat": 4,
 "nbformat_minor": 2
}
